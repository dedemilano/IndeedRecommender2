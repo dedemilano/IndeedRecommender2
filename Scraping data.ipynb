{
 "cells": [
  {
   "cell_type": "code",
   "execution_count": 2,
   "metadata": {},
   "outputs": [],
   "source": [
    "import time\n",
    "from selenium import webdriver\n",
    "from selenium.webdriver.common.by import By\n",
    "from selenium.webdriver.support.ui import WebDriverWait\n",
    "from selenium.webdriver.support import expected_conditions as EC\n",
    "# from firebase import FirebaseManager \n",
    "from mongo import MongoDBManager\n",
    "from selenium.webdriver.common.keys import Keys\n",
    "import os\n",
    "from dotenv import load_dotenv\n",
    "from tqdm.notebook import tqdm\n",
    "from datetime import datetime"
   ]
  },
  {
   "cell_type": "markdown",
   "metadata": {},
   "source": [
    "# web Scraping Arnauld [DéfIA]\n",
    "\n",
    "## Site 1 : Reuter"
   ]
  },
  {
   "cell_type": "code",
   "execution_count": 3,
   "metadata": {},
   "outputs": [
    {
     "name": "stdout",
     "output_type": "stream",
     "text": [
      "Taille des données : 215.68148612976074 Mo\n",
      "Taille des données en pourcentage: 42.125290259718895 %\n"
     ]
    }
   ],
   "source": [
    "load_dotenv()\n",
    "uri = os.getenv('MONGODB_URI')\n",
    "database_name = os.getenv('DATABASE_NAME')\n",
    "mongo_manager = MongoDBManager(uri, database_name)\n",
    "stats = mongo_manager.get_database_storage_infos()"
   ]
  },
  {
   "cell_type": "code",
   "execution_count": 4,
   "metadata": {},
   "outputs": [],
   "source": [
    "# Liste des indicateurs qui nous intéressent\n",
    "\n",
    "indicator_list = [\n",
    "    \"inflation\", \n",
    "    \"unemployment rate\", \n",
    "    \"money supply\", \n",
    "    \"import-export\", \n",
    "    \"GDP\", \n",
    "    \"production volume\", \n",
    "    \"3-month treasury rate\", \n",
    "    \"exchange rate US/CAD\", \n",
    "    \"balance of payment\", \n",
    "    \"Real GDP\"\n",
    "]"
   ]
  },
  {
   "cell_type": "code",
   "execution_count": 5,
   "metadata": {},
   "outputs": [],
   "source": [
    "import random\n",
    "from selenium.webdriver.chrome.options import Options\n",
    "\n",
    "\n",
    "USER_AGENTS = [\n",
    "    \"Mozilla/5.0 (Windows NT 10.0; Win64; x64) AppleWebKit/537.36 (KHTML, like Gecko) Chrome/123.0.0.0 Safari/537.36\",\n",
    "    \"Mozilla/5.0 (Windows NT 10.0; Win64; x64; rv:124.0) Gecko/20100101 Firefox/124.0\",\n",
    "    \"Mozilla/5.0 (Windows NT 10.0; Win64; x64) AppleWebKit/537.36 (KHTML, like Gecko) Chrome/123.0.0.0 Safari/537.36 Edg/123.0.2420.81\",\n",
    "    \"Mozilla/5.0 (Windows NT 10.0; Win64; x64) AppleWebKit/537.36 (KHTML, like Gecko) Chrome/123.0.0.0 Safari/537.36 OPR/109.0.0.0\",\n",
    "    \"Mozilla/5.0 (Macintosh; Intel Mac OS X 10_15_7) AppleWebKit/537.36 (KHTML, like Gecko) Chrome/123.0.0.0 Safari/537.36\",\n",
    "    \"Mozilla/5.0 (Macintosh; Intel Mac OS X 14.4; rv:124.0) Gecko/20100101 Firefox/124.0\",\n",
    "    \"Mozilla/5.0 (Macintosh; Intel Mac OS X 14_4_1) AppleWebKit/605.1.15 (KHTML, like Gecko) Version/17.4.1 Safari/605.1.15\",\n",
    "    \"Mozilla/5.0 (Macintosh; Intel Mac OS X 14_4_1) AppleWebKit/537.36 (KHTML, like Gecko) Chrome/123.0.0.0 Safari/537.36 OPR/109.0.0.0\",\n",
    "    \"Mozilla/5.0 (X11; Linux x86_64) AppleWebKit/537.36 (KHTML, like Gecko) Chrome/123.0.0.0 Safari/537.36\",\n",
    "    \"Mozilla/5.0 (X11; Linux i686; rv:124.0) Gecko/20100101 Firefox/124.0\",\n",
    "]\n",
    "\n",
    "chrome_options = Options()\n",
    "chrome_options.add_argument(\"--disable-blink-features=AutomationControlled\")\n",
    "chrome_options.add_argument(f'user-agent={random.choice(USER_AGENTS)}')\n",
    "\n",
    "\n",
    "def random_sleep(min_time=1, max_time=10):\n",
    "    time.sleep(random.uniform(min_time, max_time))\n"
   ]
  },
  {
   "cell_type": "code",
   "execution_count": 16,
   "metadata": {},
   "outputs": [
    {
     "data": {
      "application/vnd.jupyter.widget-view+json": {
       "model_id": "b9fe58ed56f14035bdd2e7316f1de8b7",
       "version_major": 2,
       "version_minor": 0
      },
      "text/plain": [
       "  0%|          | 0/10 [00:00<?, ?it/s]"
      ]
     },
     "metadata": {},
     "output_type": "display_data"
    }
   ],
   "source": [
    "from selenium import webdriver\n",
    "from selenium.webdriver.chrome.options import Options\n",
    "\n",
    "chrome_options = Options()\n",
    "chrome_options.add_argument(\"--disable-blink-features=AutomationControlled\")\n",
    "chrome_options.add_argument(\"--disable-infobars\")\n",
    "chrome_options.add_argument(\"--disable-notifications\")\n",
    "chrome_options.add_argument(\"--disable-extensions\")\n",
    "\n",
    "\n",
    "driver = webdriver.Chrome(chrome_options)\n",
    "for indicator in tqdm(indicator_list):\n",
    "    driver.get(f\"https://www.reuters.com/site-search/?query={indicator}\")\n",
    "    links_of_articles = []\n",
    "    current_list_of_li=driver.find_elements(By.XPATH,'//div[@class=\"search-results__sectionContainer__34n_c\"]/ul/li')\n",
    "\n",
    "    for li in current_list_of_li:\n",
    "        link = li.find_element(By.XPATH, './div').get_attribute('href')\n",
    "        time = li.find_element(By.XPATH, './div/div/time').get_attribute('datetime')\n",
    "        date_obj = datetime.strptime(time, '%Y-%m-%dT%H:%M:%SZ')\n",
    "        links_of_articles.append({'link': link, 'time': date_obj})    \n",
    "\n",
    "    filtered_links_of_articles = []\n",
    "\n",
    "    if len(links_of_articles) >10 :\n",
    "        for link in links_of_articles:\n",
    "            filtered_list = []\n",
    "            if date_obj.year == 2024 and date_obj.month >= 8 :       \n",
    "                filtered_list.append({'link': link, 'time': date_obj})\n",
    "            else:\n",
    "                print(f\"Article trop vieux ({date_obj})\")\n",
    "            \n",
    "            if len(filtered_list) == 0:\n",
    "                filtered_list.extend(links_of_articles[:10])\n",
    "            if len(filtered_list) < 10:\n",
    "                not_in_filtered_list = [link for link in links_of_articles if link not in filtered_list]\n",
    "                filtered_list.extend(not_in_filtered_list[:min(len(not_in_filtered_list), 10 - len(filtered_list))])\n",
    "            filtered_links_of_articles.extend(filtered_list)\n",
    "    else:\n",
    "        filtered_links_of_articles.extend(links_of_articles)    "
   ]
  },
  {
   "cell_type": "code",
   "execution_count": null,
   "metadata": {},
   "outputs": [],
   "source": [
    "for link in filtered_links_of_articles:\n",
    "    driver.get(link['link'])\n",
    "    random_sleep()\n",
    "    paragraphs = driver.find_elements(By.XPATH, '//div[contains(@data-testid, \"paragraph\")]')\n",
    "    text=\"\"\n",
    "    for paragraph in paragraphs:\n",
    "        text += driver.execute_script(\"return arguments[0].innerText;\", paragraph)+\".\"\n",
    "    mongo_manager.add_data_to_mongodb(\"Articles\", link['time'], text)\n",
    "    random_sleep()"
   ]
  }
 ],
 "metadata": {
  "kernelspec": {
   "display_name": "Python 3",
   "language": "python",
   "name": "python3"
  },
  "language_info": {
   "codemirror_mode": {
    "name": "ipython",
    "version": 3
   },
   "file_extension": ".py",
   "mimetype": "text/x-python",
   "name": "python",
   "nbconvert_exporter": "python",
   "pygments_lexer": "ipython3",
   "version": "3.11.0"
  }
 },
 "nbformat": 4,
 "nbformat_minor": 2
}
