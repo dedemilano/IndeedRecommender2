{
 "cells": [
  {
   "cell_type": "code",
   "execution_count": 65,
   "metadata": {},
   "outputs": [
    {
     "name": "stdout",
     "output_type": "stream",
     "text": [
      "Trouvez votre programme d'études | Université Laval\n",
      "{'actuariat': []}\n"
     ]
    }
   ],
   "source": [
    "import time\n",
    "from selenium import webdriver\n",
    "from selenium.webdriver.common.by import By\n",
    "from selenium.webdriver.support.ui import WebDriverWait\n",
    "from selenium.webdriver.support import expected_conditions as EC\n",
    "\n",
    "driver = webdriver.Chrome()\n",
    "\n",
    "driver.get(\"https://www.ulaval.ca/etudes/programmes\")\n",
    "\n",
    "\n",
    "title = driver.title\n",
    "print(title)\n",
    "\n",
    "# Keys represente fields and values are arrays whose contains professions \n",
    "data={}\n",
    "\n",
    "\n",
    "\n",
    "results_element= driver.find_element(By.ID,\"resultats\")\n",
    "children=results_element.find_elements(By.XPATH, \"./ul[@class='views-row']\")\n",
    "\n",
    "for child in children:\n",
    "    element=child.find_element(By.XPATH, \"./li/a\")\n",
    "    data[element.find_element(By.XPATH,\"./div[@class='main-info']/h3[@class='titre-programme']\").text]=[]\n",
    "    driver.execute_script(\"arguments[0].scrollIntoView(true);\", element)\n",
    "    time.sleep(0.5)\n",
    "    driver.execute_script(\"arguments[0].click();\", element)\n",
    "    break\n",
    "\n",
    "print(data)\n",
    "# text_box = driver.find_element(by=By.NAME, value=\"my-text\")\n",
    "# submit_button = driver.find_element(by=By.CSS_SELECTOR, value=\"button\")\n",
    "\n",
    "# text_box.send_keys(\"Selenium\")\n",
    "# submit_button.click()\n",
    "\n",
    "# message = driver.find_element(by=By.ID, value=\"message\")\n",
    "# text = message.text\n",
    "\n",
    "#   driver.quit()"
   ]
  },
  {
   "cell_type": "code",
   "execution_count": null,
   "metadata": {},
   "outputs": [],
   "source": [
    "def retrieve_professions_from_field():\n",
    "    "
   ]
  }
 ],
 "metadata": {
  "kernelspec": {
   "display_name": "Python 3",
   "language": "python",
   "name": "python3"
  },
  "language_info": {
   "codemirror_mode": {
    "name": "ipython",
    "version": 3
   },
   "file_extension": ".py",
   "mimetype": "text/x-python",
   "name": "python",
   "nbconvert_exporter": "python",
   "pygments_lexer": "ipython3",
   "version": "3.11.0"
  }
 },
 "nbformat": 4,
 "nbformat_minor": 2
}
