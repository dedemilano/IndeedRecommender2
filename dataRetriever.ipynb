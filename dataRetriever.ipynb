{
 "cells": [
  {
   "cell_type": "markdown",
   "metadata": {},
   "source": [
    "# Importation and Initialisation"
   ]
  },
  {
   "cell_type": "code",
   "execution_count": 1,
   "metadata": {},
   "outputs": [],
   "source": [
    "import time\n",
    "from selenium import webdriver\n",
    "from selenium.webdriver.common.by import By\n",
    "from selenium.webdriver.support.ui import WebDriverWait\n",
    "from selenium.webdriver.support import expected_conditions as EC\n",
    "# from firebase import FirebaseManager \n",
    "from mongo import MongoDBManager\n",
    "from selenium.webdriver.common.keys import Keys\n",
    "import os\n",
    "from dotenv import load_dotenv\n",
    "from tqdm.notebook import tqdm\n",
    "from gridfs import GridFS\n",
    "import pandas as pd"
   ]
  },
  {
   "cell_type": "code",
   "execution_count": 2,
   "metadata": {},
   "outputs": [],
   "source": [
    "collection_names=[\"professions_by_field\",\"posts_by_profession\",\"posts_by_profession_by_language\"]\n",
    "# credential_path=\"./indeedrecommender-firebase.json\"\n",
    "# firebase_manager=FirebaseManager(credential_path)"
   ]
  },
  {
   "cell_type": "code",
   "execution_count": 3,
   "metadata": {},
   "outputs": [
    {
     "name": "stdout",
     "output_type": "stream",
     "text": [
      "Taille des données : 215.68148612976074 Mo\n",
      "Taille des données en pourcentage: 42.125290259718895 %\n"
     ]
    }
   ],
   "source": [
    "load_dotenv()\n",
    "uri = os.getenv('MONGODB_URI')\n",
    "database_name = os.getenv('DATABASE_NAME')\n",
    "mongo_manager = MongoDBManager(uri, database_name)\n",
    "stats = mongo_manager.get_database_storage_infos()"
   ]
  },
  {
   "cell_type": "markdown",
   "metadata": {},
   "source": [
    "# Retrieve Fields and theirs professions from Ulaval Website"
   ]
  },
  {
   "cell_type": "code",
   "execution_count": null,
   "metadata": {},
   "outputs": [],
   "source": [
    "def retrieve_professions_from_field_first(field):\n",
    "    \"\"\"\n",
    "    Retrieves professions from the field using the provided field parameter.\n",
    "\n",
    "    Args:\n",
    "        field (str): The field to retrieve professions from.\n",
    "\n",
    "    Raises:\n",
    "        Exception: If no elements are found for the first function for the given field.\n",
    "\n",
    "    Returns:\n",
    "        None\n",
    "    \"\"\"\n",
    "    global datas\n",
    "    h3_elements = driver.find_elements(By.XPATH, \"//h3[contains(text(), 'Professions')]\")\n",
    "    print(h3_elements)\n",
    "    if len(h3_elements)==0:\n",
    "        raise Exception(f\"Aucun element trouvé pour la première fonction pour {field}\")\n",
    "    for h3_element in h3_elements:\n",
    "        ul_element = h3_element.find_element(By.XPATH, \"following-sibling::ul\")\n",
    "        driver.execute_script(\"arguments[0].scrollIntoView(true);\", h3_element)\n",
    "        if ul_element:\n",
    "            li_elements = ul_element.find_elements(By.XPATH, \"./li\")\n",
    "            for element in li_elements:\n",
    "                text = driver.execute_script(\"return arguments[0].innerText;\", element)\n",
    "                # print(text)\n",
    "                if text not in datas[field]:\n",
    "                    datas[field].append(text)\n",
    "            # print(datas)\n",
    "        time.sleep(0.5)\n",
    "    # driver.back()\n",
    "\n",
    "\n",
    "\n",
    "def retrieve_professions_from_field_second(field):\n",
    "    \"\"\"\n",
    "    Retrieves professions from the second field.\n",
    "\n",
    "    Args:\n",
    "        field (str): The field to retrieve professions from.\n",
    "\n",
    "    Raises:\n",
    "        Exception: If no elements are found for the second function for the given field.\n",
    "\n",
    "    Returns:\n",
    "        None\n",
    "    \"\"\"\n",
    "    global datas\n",
    "    strong_elements = driver.find_elements(By.XPATH, \"//p[strong[contains(text(), 'Professions')]]\")\n",
    "    print(f\"strong: {strong_elements}\")\n",
    "    if len(strong_elements)==0:\n",
    "        errors.append(field)\n",
    "        raise Exception(f\"Aucun element trouvé pour la deuxième fonction pour {field}\")\n",
    "    for strong_element in strong_elements:\n",
    "        ul_element = strong_element.find_element(By.XPATH, \"following-sibling::ul\")\n",
    "        if ul_element:\n",
    "            driver.execute_script(\"arguments[0].scrollIntoView(true);\", ul_element)\n",
    "            li_elements = ul_element.find_elements(By.XPATH, \"./li\")\n",
    "            for element in li_elements:\n",
    "                text = driver.execute_script(\"return arguments[0].innerText;\", element)\n",
    "                # ##################print(text)\n",
    "                if text not in datas[field]:\n",
    "                    datas[field].append(text)\n",
    "            # print(datas)\n",
    "        time.sleep(0.5)\n",
    "    # driver.back()\n",
    "\n",
    "def retrieve_professions_from_field(field):\n",
    "    global nb_of_functions_tried, nb_of_functions\n",
    "    try:\n",
    "        if nb_of_functions_tried==1:\n",
    "            retrieve_professions_from_field_first(field)\n",
    "            driver.back()\n",
    "        if nb_of_functions_tried==2:\n",
    "            retrieve_professions_from_field_second(field)\n",
    "            driver.back()\n",
    "            nb_of_functions_tried=1\n",
    "    except Exception as e:\n",
    "        print(e)\n",
    "        nb_of_functions_tried+=1\n",
    "        retrieve_professions_from_field(field)\n",
    "\n",
    "    if nb_of_functions_tried > nb_of_functions:\n",
    "        driver.back()\n",
    "        nb_of_functions_tried=1\n",
    "    return\n",
    "\n"
   ]
  },
  {
   "cell_type": "code",
   "execution_count": null,
   "metadata": {},
   "outputs": [],
   "source": [
    "driver = webdriver.Chrome()\n",
    "driver.get(\"https://www.ulaval.ca/etudes/programmes\")\n",
    "title = driver.title\n",
    "\n",
    "# Keys represente fields and values are arrays whose contains professions \n",
    "datas={}\n",
    "errors=[]\n",
    "nb_of_functions=2\n",
    "nb_of_functions_tried=1\n",
    "\n",
    "pagination_next_element=driver.find_element(By.ID,\"pagination-heading\").find_element(By.XPATH, \"following-sibling::ul\").find_element(By.XPATH, \"./li[@class='pagination-item pagination-item--suivant']\")\n",
    "print(pagination_next_element)\n",
    "while pagination_next_element:\n",
    "    results_element= driver.find_element(By.ID,\"resultats\")\n",
    "    children=results_element.find_elements(By.XPATH, \"./ul[@class='views-row']\")\n",
    "\n",
    "    for child in children:\n",
    "        element=child.find_element(By.XPATH, \"./li/a\")\n",
    "        field=element.find_element(By.XPATH,\"./div[@class='main-info']/h3[@class='titre-programme']\").text\n",
    "        if field not in datas:\n",
    "            datas[field]=[]     \n",
    "        driver.execute_script(\"arguments[0].scrollIntoView(true);\", element)\n",
    "        time.sleep(0.5)\n",
    "        driver.execute_script(\"arguments[0].click();\", element)\n",
    "        retrieve_professions_from_field(field)\n",
    "    \n",
    "    driver.execute_script(\"arguments[0].scrollIntoView(true);\", pagination_next_element)\n",
    "    time.sleep(0.5)\n",
    "    driver.execute_script(\"arguments[0].click();\", pagination_next_element.find_element(By.TAG_NAME, \"a\"))\n",
    "    try:\n",
    "        pagination_next_element=driver.find_element(By.ID,\"pagination-heading\").find_element(By.XPATH, \"following-sibling::ul\").find_element(By.XPATH, \"./li[@class='pagination-item pagination-item--suivant']\")\n",
    "    except Exception as e:\n",
    "        pagination_next_element=None\n",
    "   \n",
    "driver.close()\n",
    "print(datas)\n"
   ]
  },
  {
   "cell_type": "code",
   "execution_count": null,
   "metadata": {},
   "outputs": [],
   "source": [
    "for key in datas.keys():\n",
    "    mongo_manager.add_data_to_mongodb(collection_names[0],key,{\"professions\":datas[key]})\n"
   ]
  },
  {
   "cell_type": "markdown",
   "metadata": {},
   "source": [
    "# Retrieve positions from Indeed"
   ]
  },
  {
   "cell_type": "code",
   "execution_count": 22,
   "metadata": {},
   "outputs": [],
   "source": [
    "import re\n",
    "from datetime import datetime\n",
    "from dateutil.relativedelta import relativedelta\n",
    "\n",
    "def stateDateToDate(stateDate):\n",
    "   \"\"\"\n",
    "   Converts a state date string into a datetime object.\n",
    "   Parameters:\n",
    "   stateDate (str): The state date string to be converted.\n",
    "   Returns:\n",
    "   datetime: The converted datetime object.\n",
    "   \"\"\"\n",
    "\n",
    "   date=None\n",
    "   value=None\n",
    "   for str in stateDate.split(\" \"):\n",
    "      try:\n",
    "         date= datetime.strptime(str, '%Y-%m-%d')\n",
    "      except Exception as e:\n",
    "         date=None\n",
    "      \n",
    "      if date:\n",
    "         return date\n",
    "   try:\n",
    "      match = re.search(r'\\d+', stateDate)\n",
    "      if match:\n",
    "         value= int(match.group())\n",
    "   except Exception as e:\n",
    "      e\n",
    "\n",
    "   if value:\n",
    "      if bool(re.compile(r'\\b(\\w*jour\\w*|\\w*day\\w*)\\b', re.IGNORECASE).search(stateDate)):\n",
    "         date= (datetime.now()-relativedelta(days=value)).strftime('%Y-%m-%d')\n",
    "      if bool(re.compile(r'\\b(\\w*mois\\w*|\\w*month\\w*)\\b', re.IGNORECASE).search(stateDate)):\n",
    "         date= (datetime.now()-relativedelta(months=value)).strftime('%Y-%m-%d')\n",
    "      if bool(re.compile(r'\\b(\\w*an \\w*|\\w*year\\w*|\\w*année\\w*)\\b', re.IGNORECASE).search(stateDate)):\n",
    "         date= (datetime.now()-relativedelta(years=value)).strftime('%Y-%m-%d')\n",
    "      if bool(re.compile(r'\\b(\\w*now\\w*|\\w*maintenant\\w*|\\w*instant\\w*)\\b', re.IGNORECASE).search(stateDate)):\n",
    "         date= (datetime.now()).strftime('%Y-%m-%d')            \n",
    "   return date"
   ]
  },
  {
   "cell_type": "code",
   "execution_count": 23,
   "metadata": {},
   "outputs": [],
   "source": [
    "pattern_salary_ca = re.compile(r'(?:De\\s)?([\\d\\s]+)\\s?\\$(?:\\s?à\\s([\\d\\s]+)\\s?\\$\\s?)(?:par\\s|per\\s|annuel\\s|yearly\\s)?(year|annum|an)\\s*', re.IGNORECASE)\n",
    "pattern_salary_us = re.compile(r'(?:From\\s)?\\$\\d+(?:,\\d{3})*(?:\\.\\d{2})?(?:–\\$\\d+(?:,\\d{3})*(?:\\.\\d{2})?)?\\s?(?:a|per)\\s(hour|day|week|month|year)\\s*', re.IGNORECASE)\n",
    "pattern_salary_fr = re.compile(r'(?:De\\s)?([\\d\\s]+)\\s?€\\s?à\\s([\\d\\s]+)\\s?€\\s?(?:par\\s|per\\s|annuel\\s|yearly\\s|annum\\s)?(an|year)\\s*', re.IGNORECASE)\n",
    "pattern_jobtype = re.compile(r'\\s([A-Za-zéèàç\\s?/]+(?:,\\s[A-Za-zéèàç\\s]+)*)', re.IGNORECASE)"
   ]
  },
  {
   "cell_type": "code",
   "execution_count": 24,
   "metadata": {},
   "outputs": [],
   "source": [
    "positionsDetailsList = {}\n",
    "\n",
    "def indeedPositionInfos(profession, country,language,page_lang):\n",
    "    \"\"\"\n",
    "    Retrieves position details from Indeed job listings.\n",
    "    Args:\n",
    "        profession (str): The profession to search for.\n",
    "    Returns:\n",
    "        None\n",
    "    Raises:\n",
    "        None\n",
    "    \"\"\"\n",
    "    global positionsDetailsList\n",
    "    positionsDetails={}\n",
    "    positionTitle=''\n",
    "    companyName=''\n",
    "    location=''\n",
    "    jobType=''\n",
    "    salaryInfoAndJobType=''\n",
    "    jobBenefits=[]\n",
    "    benefits=''\n",
    "    shiftAndSchedule=''\n",
    "    description=''\n",
    "    positionPostedDate=''\n",
    "    postedText=''\n",
    "    salary=''\n",
    "    try:\n",
    "        positionsDescriptionList = driver.find_element(By.XPATH, \"//div[@id='mosaic-provider-jobcards']\")\n",
    "        ulElement = positionsDescriptionList.find_element(By.XPATH, \"./ul\")\n",
    "        liElements = ulElement.find_elements(By.XPATH, \"./li[@class='css-5lfssm eu4oa1w0']\")\n",
    "    except Exception as e:\n",
    "        liElements=[]\n",
    "    for li in liElements:\n",
    "        positionsDetails = {}\n",
    "        driver.execute_script(\"arguments[0].scrollIntoView(true);\", li)\n",
    "        time.sleep(0.5)\n",
    "        try:\n",
    "          position=li.find_element(By.XPATH, \".//h2[contains(@class, 'jobTitle')]/a\")\n",
    "          positionTitle = driver.execute_script(\"return arguments[0].innerText;\", position)\n",
    "        #   print(positionTitle)\n",
    "        except Exception as e:\n",
    "            # print(\"No position found\")\n",
    "            position=None\n",
    "\n",
    "        try:\n",
    "          dateElement=li.find_element(By.XPATH, \".//span[@data-testid='myJobsStateDate']\")\n",
    "          postedText=driver.execute_script(\"return arguments[0].innerText.replace('Posted', '').trim().replace(/\\\\n/g, ' ');\", dateElement)\n",
    "          positionPostedDate=stateDateToDate(postedText)\n",
    "        except Exception as e:\n",
    "            # print(\"No Date found\")\n",
    "            dateElement=None\n",
    "        \n",
    "        if position :\n",
    "            driver.execute_script(\"arguments[0].click();\", position)\n",
    "            time.sleep(0.5)\n",
    "            try:\n",
    "               positionsDetailsElement = driver.find_element(By.XPATH, \"//div[@id='jobsearch-ViewjobPaneWrapper']\")\n",
    "            except Exception as e:\n",
    "               positionsDetailsElement=None\n",
    "            #    print(\"No position details found\")\n",
    "               \n",
    "            \n",
    "            if positionsDetailsElement:\t\n",
    "                try:\n",
    "                    companyName = driver.execute_script(\"return arguments[0].innerText;\",positionsDetailsElement.find_element(By.XPATH, \".//div[@data-testid='inlineHeader-companyName']\"))\n",
    "                except Exception as e:\n",
    "                    # print(\"No company name found\")\n",
    "                    companyName=''\n",
    "                try:\n",
    "                    location = driver.execute_script(\"return arguments[0].innerText;\",positionsDetailsElement.find_element(By.XPATH, \".//div[@data-testid='inlineHeader-companyLocation']\"))\n",
    "                except Exception as e:  \n",
    "                    # print(\"No location found\")\n",
    "                    location=''\n",
    "                try:\n",
    "                    salaryInfoAndJobType = driver.execute_script(\"return arguments[0].innerText;\",positionsDetailsElement.find_element(By.ID, \"salaryInfoAndJobType\"))\n",
    "                    # print(F\"JOB type: {jobType}\")\n",
    "                except Exception as e:\n",
    "                    # print(\"No job type found\")\n",
    "                    salaryInfoAndJobType=''\n",
    "                # try:\n",
    "                #     jobType2 = driver.execute_script(\"return arguments[0].innerText;\",positionsDetailsElement.find_element(By.ID,\"jobDetailsSection\").find_element(By.XPATH, \".//div[@data-testid='Permanent-tile']\"))\n",
    "                #     # print(F\"JOB type 2: {jobType2}\")\n",
    "                # except Exception as e:\n",
    "                #     # print(\"No job type 2 found\")\n",
    "                #     jobType2=\"\"\n",
    "                # try:\n",
    "                #     jobType3 = driver.execute_script(\"return arguments[0].innerText;\",positionsDetailsElement.find_element(By.XPATH, \".//div[@data-testid='Full-time-tile']\"))\n",
    "                #     # print(F\"JOB type 3: {jobType3}\")\n",
    "                # except Exception as e:\n",
    "                #     # print(\"No job type 3 found\")\n",
    "                #     jobType3=\"\"\n",
    "                # try:\n",
    "                #     jobType4 = driver.execute_script(\"return arguments[0].innerText;\",positionsDetailsElement.find_element(By.XPATH, \".//div[@data-testid='Part-time-tile']\"))\n",
    "                #     # print(F\"JOB type 4: {jobType4}\")\n",
    "                # except Exception as e:\n",
    "                #     # print(\"No job type 4 found\")\n",
    "                #     jobType4=\"\"\n",
    "                if country == \"Canada\": \n",
    "                    salary = re.search(pattern_salary_ca, salaryInfoAndJobType)\n",
    "                if country == \"US\":\n",
    "                    salary = re.search(pattern_salary_us, salaryInfoAndJobType)\n",
    "                if country == \"France\" and re.search(pattern_salary_fr, salaryInfoAndJobType):\n",
    "                    salary = re.search(pattern_salary_fr, salaryInfoAndJobType)\n",
    "                \n",
    "                if salary:\n",
    "                    try:\n",
    "                        salary = salary.group()\n",
    "                    except Exception as e:\n",
    "                        salary = salary\n",
    "                else:\n",
    "                    try:\n",
    "                        if page_lang == \"fr\":\n",
    "                            salary = driver.execute_script(\"return arguments[0].innerText;\",positionsDetailsElement.find_element(By.XPATH,\".//h3[contains(text(), 'Salaire')]\").find_element(By.XPATH, \"following-sibling::div\"))\n",
    "                        if page_lang == \"en\":\n",
    "                            salary = driver.execute_script(\"return arguments[0].innerText;\",positionsDetailsElement.find_element(By.XPATH,\".//h3[contains(text(), 'Pay')]\").find_element(By.XPATH, \"following-sibling::div\"))\n",
    "                        # print(F\"Shift and schedule: {shiftAndSchedule}\")\n",
    "                    except Exception as e:\n",
    "                        # print(\"No shift and schedule found\")\n",
    "                        salary=''\n",
    "                    try:\n",
    "                        jobType = []\n",
    "                        if page_lang == \"fr\":\n",
    "                            children=positionsDetailsElement.find_element(By.XPATH,\".//h3[contains(text(), 'Type de poste')]\").find_element(By.XPATH, \"following-sibling::div\").find_elements(By.XPATH, \"./ul/li\")\n",
    "                        if page_lang == \"en\":\n",
    "                            children=positionsDetailsElement.find_element(By.XPATH,\".//h3[contains(text(), 'Job type')]\").find_element(By.XPATH, \"following-sibling::div\").find_elements(By.XPATH, \"./ul/li\")\n",
    "                        print(len(children))\n",
    "                        for element in children:\n",
    "                            jobType.append(driver.execute_script(\"return arguments[0].innerText;\",element))\n",
    "                        # print(F\"Shift and schedule: {shiftAndSchedule}\")\n",
    "                    except Exception as e:\n",
    "                        # print(\"No shift and schedule found\")\n",
    "                        jobType= pattern_jobtype.findall(salaryInfoAndJobType)\n",
    "                    \n",
    "                print(F\"Salary: {salary}\")\n",
    "                print(F\"JOB type: {jobType}\")\n",
    "                try:\n",
    "                    \n",
    "                    shiftAndSchedule = []\n",
    "                    salaryInfoAndJobType_children=positionsDetailsElement.find_element(By.XPATH,\".//h3[contains(text(), 'Quart de travail et horaire')]\").find_element(By.XPATH, \"following-sibling::div\").find_elements(By.XPATH, \"./ul/li\")\n",
    "                    for element in salaryInfoAndJobType_children:\n",
    "                        shiftAndSchedule.append(driver.execute_script(\"return arguments[0].innerText;\",element))\n",
    "                    print(F\"Shift and schedule: {shiftAndSchedule}\")\n",
    "                except Exception as e:\n",
    "                    # print(\"No shift and schedule found\")\n",
    "                    shiftAndSchedule=''\n",
    "                if shiftAndSchedule =='':\n",
    "                    try:\n",
    "                        shiftAndSchedule = []\n",
    "                        salaryInfoAndJobType_children=positionsDetailsElement.find_element(By.XPATH,\".//h3[contains(text(), 'Shift and schedule')]\").find_element(By.XPATH, \"following-sibling::div\").find_elements(By.XPATH, \"./ul/li\")\n",
    "                        for element in salaryInfoAndJobType_children:\n",
    "                            shiftAndSchedule.append(driver.execute_script(\"return arguments[0].innerText;\",element))\n",
    "                        print(F\"Shift and schedule: {shiftAndSchedule}\")\n",
    "                    except Exception as e:\n",
    "                        # print(\"No shift and schedule found\")\n",
    "                        shiftAndSchedule=''\n",
    "                jobBenefits = []\n",
    "                try:\n",
    "                    benefits = positionsDetailsElement.find_elements(By.XPATH, \".//div[@id='benefits']/div/div/span/ul[@class='css-8tnble eu4oa1w0']/li\")\n",
    "                    for benefit in benefits:\n",
    "                        jobBenefits.append(driver.execute_script(\"return arguments[0].innerText;\",benefit))\n",
    "                \n",
    "                except Exception as e:\n",
    "                    # print(\"No benefits found\")\n",
    "                    benefits=''\n",
    "                    \n",
    "                try:\n",
    "                    description = driver.execute_script(\"return arguments[0].innerText;\",positionsDetailsElement.find_element(By.XPATH, \".//div[@id='jobDescriptionText']\"))\n",
    "                except Exception as e:\n",
    "                    # print(\"No description found\")\n",
    "                    description=''\n",
    "        \n",
    "    positionsDetails[\"positionTitle\"]=positionTitle\n",
    "    positionsDetails[\"companyName\"]=companyName\n",
    "    positionsDetails[\"location\"]=location\n",
    "    positionsDetails[\"salaryInfoAndJobType\"]=salaryInfoAndJobType \n",
    "    positionsDetails[\"description\"]=description\n",
    "    positionsDetails[\"datePosted\"]=positionPostedDate\n",
    "    # positionsDetails[\"datePosted\"]=positionPostedDate\n",
    "    positionsDetails[\"salary\"]=salary\n",
    "    positionsDetails[\"jobType\"]=jobType\n",
    "    positionsDetails[\"shiftAndSchedule\"]=shiftAndSchedule\n",
    "    positionsDetails[\"jobBenefits\"]=jobBenefits\n",
    "    positionsDetails[\"updatedDate\"]= (datetime.now()).strftime('%Y-%m-%d')\n",
    "    if country not in positionsDetailsList:\n",
    "        positionsDetailsList[country]={}\n",
    "    if profession not in positionsDetailsList[country]:\n",
    "        positionsDetailsList[country][profession]={}\n",
    "    if language not in positionsDetailsList[country][profession]:\n",
    "        positionsDetailsList[country][profession][language]=[]\n",
    "    positionsDetailsList[country][profession][language].append(positionsDetails)\n",
    "    time.sleep(2)"
   ]
  },
  {
   "cell_type": "code",
   "execution_count": 25,
   "metadata": {},
   "outputs": [
    {
     "name": "stdout",
     "output_type": "stream",
     "text": [
      "['Accompagnatrice spirituelle ou accompagnateur spirituel', 'Accompagnatrice, accompagnateur, musicienne ou musicien dans de petits ensembles', 'Acheteuse ou acheteur', 'Actuaire', 'Adjointe ou adjoint à la recherche', 'Administratrice ou administrateur', 'Administratrice ou administrateur de contrats', 'Administratrice ou administrateur de programmes de développement durable', 'Administratrice ou administrateur de prêts commerciaux', 'Affichiste', 'Agent ou agente d’approvisionnement et de gestion contractuelle', 'Agente commerciale ou agent commercial, politique ou du service extérieur', 'Agente culturelle ou agent culturel', 'Agente culturelle ou agent culturel / Cultural agent', 'Agente et agent de recherche et de planification socioéconomique', 'Agente ou agent (de programmes, de recherche en planification socioéconomique)', 'Agente ou agent au développement des affaires', 'Agente ou agent communautaire, de développement, de planification, des politiques sociales, de programmation, de recherche', 'Agente ou agent culturel et de médiation culturelle', \"Agente ou agent d'administration\", \"Agente ou agent d'aide socioéconomique\", \"Agente ou agent d'import-export / Import Export Agent\", \"Agente ou agent d'information\", \"Agente ou agent d'intervention\", \"Agente ou agent d'opposition\", \"Agente ou agent d'équité en matière d'emploi\", 'Agente ou agent de commercialisation internationale', 'Agente ou agent de conformité', 'Agente ou agent de développement', 'Agente ou agent de développement auprès de communautés autochtones', 'Agente ou agent de développement culturel', 'Agente ou agent de développement culturel ou économique', \"Agente ou agent de développement de programmes d'intervention et de sensibilisation\", 'Agente ou agent de développement durable', 'Agente ou agent de développement en sécurité alimentaire', 'Agente ou agent de développement international', 'Agente ou agent de développement ou de projet', 'Agente ou agent de développement régional et concertation', 'Agente ou agent de développement régional et international', 'Agente ou agent de développement régional ou rural', 'Agente ou agent de développement touristique', 'Agente ou agent de développement économique', 'Agente ou agent de développement économique, politique et social', 'Agente ou agent de développement, de projet ou de recherche sur les politiques sociales, économiques, culturelles', 'Agente ou agent de francisation ou à la formation', 'Agente ou agent de gestion du personnel', 'Agente ou agent de la Commission des droits de la personne', 'Agente ou agent de liaison', 'Agente ou agent de liaison ou de promotion', 'Agente ou agent de libération conditionnelle', 'Agente ou agent de marketing et des réseaux sociaux', 'Agente ou agent de mobilisation et de développement', 'Agente ou agent de pastorale', 'Agente ou agent de planification et de programmes', 'Agente ou agent de planification ou de développement', 'Agente ou agent de planification socioéconomique', 'Agente ou agent de planification socioéconomique, agente ou agent de recherche', 'Agente ou agent de planification, de programmation et de recherche', 'Agente ou agent de planification, de programmation et de recherche en développement durable', 'Agente ou agent de probation', 'Agente ou agent de probation, agente ou agent des services correctionnels, agente ou agent de libération conditionnelle', \"Agente ou agent de probation, culturel et d'immigration\", 'Agente ou agent de probation, de libération conditionnelle, des services correctionnels', 'Agente ou agent de probation, des services correctionnels, de libération conditionnelle', 'Agente ou agent de programmation, de planification et de recherche', 'Agente ou agent de programme', 'Agente ou agent de programme ou de développement international', 'Agente ou agent de programme, des politiques ou de recherche et de planification socio-économique', 'Agente ou agent de programme, des politiques ou de recherche et de planification socioéconomique', 'Agente ou agent de programmes correctionnels', \"Agente ou agent de programmes d'intervention et de sensibilisation\", 'Agente ou agent de programmes ou de politiques', 'Agente ou agent de programmes sociaux', \"Agente ou agent de projet d'aide et de développement internationaux\", 'Agente ou agent de projet en éducation et conservation', 'Agente ou agent de projet, accord de commerce', \"Agente ou agent de projets d'aide et de développement (international, régional, économique)\", 'Agente ou agent de projets forestiers', 'Agente ou agent de recherche', 'Agente ou agent de recherche dans le domaine culturel', 'Agente ou agent de recherche dans le domaine culturel ou en services sociaux', 'Agente ou agent de recherche en droit', 'Agente ou agent de recherche en environnement', 'Agente ou agent de recherche en environnement, en développement durable et en agriculture', 'Agente ou agent de recherche en santé et services sociaux', 'Agente ou agent de recherche et de planification', 'Agente ou agent de recherche et de planification socioéconomique', 'Agente ou agent de recherche et développement', 'Agente ou agent de recherche ou de développement', 'Agente ou agent de recherche, recherchiste', 'Agente ou agent de relations humaines', 'Agente ou agent de relations publiques', 'Agente ou agent de réadaptation', 'Agente ou agent de sensibilisation en environnement', 'Agente ou agent de soutien aux utilisatrices et utilisateurs', 'Agente ou agent des politiques concernant les minorités visibles', 'Agente ou agent des politiques sociales', 'Agente ou agent des relations avec les médias', 'Agente ou agent des services frontaliers', 'Agente ou agent du patrimoine', 'Agente ou agent du personnel', 'Agente ou agent d’artistes', 'Agente ou agent en commerce international', 'Agente ou agent à la participation citoyenne', \"Agente ou agent à la qualité et à l'environnement\", 'Agente ou agent, assistante ou assistant de recherche', 'Agente ou agent, conseillère ou conseiller en équité, diversité et inclusion', 'Agente ou agent, conseillère ou conseiller, responsable des relations publiques', 'Agente ou agent, conseillère ou conseiller, responsable, chargée ou chargé de communication', 'Agente, agent, assistante ou assistant de recherche', 'Agente, agent, chargée ou chargé de projet', 'Agente, agent, chargée ou chargé de projets', 'Agente, agent, conseillère ou conseiller en développement', 'Agente, agent, conseillère, conseiller ou responsable des relations publiques', 'Agente, agent, conseillère, conseiller, responsable, chargée ou chargé de communication', 'Agente, agent, superviseure ou superviseur logistique', 'Agronome', 'Agroéconomiste', 'Aide pédagogique individuelle ou individuel', 'Aménagiste', 'Aménagiste de territoire', 'Aménagiste du territoire', 'Analyste', 'Analyste (des politiques économiques, financier, en placement)', 'Analyste (des politiques économiques, financière ou financier, en placement)', 'Analyste (documentation)', \"Analyste aux achats, d'inventaire ou de procédés\", 'Analyste chercheuse ou analyste chercheur, analyste dans un ministère (ministère de la Justice, ministère de la Sécurité publique, autres)', \"Analyste d'affaires\", \"Analyste d'affaires, en processus d'affaires, ou en systèmes de gestion\", \"Analyste d'entreprise\", 'Analyste dans un service de police', 'Analyste de contenu, de textes ou de discours', 'Analyste de données', \"Analyste de l'information géographique\", 'Analyste de la gestion des menaces', 'Analyste de marché', 'Analyste de marchés', 'Analyste de politiques', 'Analyste de politiques agroforestières', 'Analyste de politiques environnementales', 'Analyste de politiques forestières', 'Analyste de politiques ou stratégique', 'Analyste de politiques publiques', 'Analyste de recherche', 'Analyste des emplois', 'Analyste des marchés', 'Analyste des politiques', 'Analyste des politiques commerciales', \"Analyste des politiques correctionnelles en matière d'autochtonie\", \"Analyste des politiques d'équité en emploi\", 'Analyste des politiques gouvernementales', 'Analyste des politiques économiques', 'Analyste des procédés administratifs', 'Analyste des relations internationales et des politiques', 'Analyste d’affaires', 'Analyste en assurances', 'Analyste en commerce international', 'Analyste en commercialisation', 'Analyste en communication, en marketing et de marchés', 'Analyste en communication, en marketing et des marchés', 'Analyste en conformité TI', 'Analyste en contrôle TI (y compris la cybersécurité et les contrôles financiers)', 'Analyste en coût de revient', 'Analyste en environnement', 'Analyste en finance', 'Analyste en gestion contractuelle', \"Analyste en gestion de l'actif\", 'Analyste en gestion de portefeuilles', 'Analyste en gestion de risques', 'Analyste en gestion des données criminelles sur le vol et la fraude', 'Analyste en gestion documentaire', 'Analyste en gouvernance et conformité des TI', 'Analyste en géomatique', 'Analyste en informatique', \"Analyste en intelligence d'affaires\", 'Analyste en invalidité ou en règlements (indemnisation)', \"Analyste en marketing et intelligence d'affaires\", 'Analyste en placements', 'Analyste en politiques agricoles', 'Analyste en politiques environnementales', \"Analyste en processus d'affaires\", 'Analyste en recherche opérationnelle', 'Analyste en recherche publicitaire', 'Analyste en rémunération globale', 'Analyste en statistique', 'Analyste en statistiques et modélisation', 'Analyste en stratégies fiscales et financières', \"Analyste en systèmes d'information de gestion\", 'Analyste en systèmes de gestion', 'Analyste en sécurité de l’information et conformité', 'Analyste en sécurité informatique', 'Analyste en économie et en politique agroalimentaires', 'Analyste en évaluation', 'Analyste enquêtrice ou analyste enquêteur', 'Analyste experte-conseil ou expert-conseil en informatique', 'Analyste financière ou analyste financier', 'Analyste fonctionnelle ou analyste fonctionnel', 'Analyste marketing', 'Analyste ou spécialiste en immobilier de haut niveau', 'Analyste principale ou analyste principal des activités statistiques', 'Analyste publicitaire', 'Analyste économique', 'Analyste, chargée ou chargé de projets, coordonnatrice ou coordonnateur (études et recherches, veille stratégique)', 'Analyste, conseillère ou conseiller en modélisation', 'Analyste, consultante ou consultant en informatique', \"Analyste, coordonnatrice ou coordonnateur de programmes d'aide aux victimes d'actes criminels\", 'Analyste, coordonnatrice ou coordonnateur de programmes de prévention de la criminalité', 'Analyste, coordonnatrice ou coordonnateur de programmes de surveillance dans la communauté', \"Analyste, directrice ou directeur d'enquête\", 'Analyste-conseil', 'Analyste-conseil en affaires électroniques/numériques', 'Analyste-recherchiste en information stratégique', 'Animatrice culturelle ou animateur culturel', 'Animatrice et médiatrice culturelle ou animateur et médiateur culturel', 'Animatrice ou animateur', 'Animatrice ou animateur communautaire', \"Animatrice ou animateur d'ateliers de français\", 'Animatrice ou animateur de pastorale', \"Animatrice ou animateur de vie spirituelle et d'engagement communautaire\", 'Animatrice ou animateur scientifique', \"Animatrice ou animateur à la vie spirituelle et à l'engagement communautaire\", \"Animatrice ou animateur, intervenante ou intervenant (jeunesse, communautaire ou social, en santé mentale, en ligne d'écoute, psychosocial, en toxicomanie, en violence conjugale, en santé sexuelle, etc.)\", 'Animatrice socio-culturelle ou animateur socio-culturel', 'Anthropologue', 'Approvisionneuse ou approvisionneur', 'Arbitre en relations du travail', 'Arbitre, médiatrice ou médiateur', 'Architecte', \"Architecte - intelligence d'affaires\", \"Architecte d'information\", 'Architecte de base de données', \"Architecte en systèmes d'information\", 'Architecte informatique', 'Architecte logicielle ou architecte logiciel', 'Archiviste', 'Archiviste (avec formation complémentaire)', 'Archéologue (avec formation aux cycles supérieurs)', 'Arpenteuse-géomètre ou arpenteur-géomètre', 'Arrangeuse ou arrangeur', 'Artiste en animation 2D', 'Artiste en animation 3D', 'Artiste en arts visuels', 'Artiste indépendante ou artiste indépendant', 'Artiste publicitaire', 'Assistante commerciale ou assistant commercial', 'Assistante ou assistant aux affaires consulaires', 'Assistante ou assistant aux affaires publiques', \"Assistante ou assistant de recherche et d'enseignement\", 'Assistante ou assistant de recherche, agente ou agent de recherche', 'Assistante ou assistant parlementaire', 'Assistante ou assistant à la mise en scène', 'Assistante ou assistant, réalisatrice ou réalisateur, productrice ou producteur multimédia pour concerts, spectacles et autres événements culturels', 'Assistante ou assistant, technicienne ou technicien en prise de son et enregistrement', 'Assistante, assistant, professionnelle ou professionnel de recherche', 'Astronome', 'Astrophysicienne ou astrophysicien', 'Attachée ou attaché de presse', 'Attachée ou attaché politique', 'Attachée ou attachée de presse', 'Audiologiste', 'Audiologiste (avec la maîtrise)', 'Auditrice ou auditeur TI', 'Auditrice ou auditeur en cybersécurité', 'Auditrice ou auditeur environnement/développement durable', 'Auditrice ou auditeur externe', 'Auditrice ou auditeur externe ou interne', 'Auditrice ou auditeur interne', 'Aumônière ou aumonier (Forces armées canadiennes)', 'Auxiliaire de recherche en patrimoine', \"Auxiliaire de recherche ou d'enseignement à l'université\", 'Avocate ou avocat', 'Baladodiffuseuse ou baladodiffuseur (podcaster) de musique et de culture musicale', 'Bibliothécaire', 'Bio-informaticienne ou bio-informaticien', 'Biochimiste', 'Biologiste', 'Biophysicienne ou biophysicien', 'Biostatisticienne ou biostatisticien', 'Botaniste', 'Cadre dans la fonction publique', 'Cadre ou gestionnaire', 'Cadre ou gestionnaire dans différents ministères et organismes publics', 'Cadre pédagogique supérieure ou cadre pédagogique supérieur dans les secteurs privés, publics ou parapublics', 'Cadre, directrice ou directeur, ou gestionnaire', 'Cadre, gestionnaire', 'Cadre, gestionnaire, directrice ou directeur', 'Cadre-conseil', 'Cadreuse ou cadreur', 'Cartographe', 'Catalogueuse ou catalogueur', 'Cela concerne toute personne appelée à gérer des équipes-projets ou encore appelée à gérer des projets. Pas nécessaire de porter le titre de chargée ou chargé de projet, car vous aurez certainement l’occasion de participer à des projets au cours de votre carrière!', \"Chargée ou chargé d'enseignement clinique\", \"Chargée ou chargé d'études\", 'Chargée ou chargé de communication', 'Chargée ou chargé de communication culturelle', 'Chargée ou chargé de communication environnement/développement durable', 'Chargée ou chargé de communication ou des relations publiques', 'Chargée ou chargé de cours', \"Chargée ou chargé de cours ou d'enseignement\", 'Chargée ou chargé de cours, enseignante ou enseignant au collégial', \"Chargée ou chargé de développement d'affaires\", 'Chargée ou chargé de formation en affaires internationales', 'Chargée ou chargé de programmation ou de projets culturels', 'Chargée ou chargé de projet', 'Chargée ou chargé de projet administratif', 'Chargée ou chargé de projet en TI', 'Chargée ou chargé de projet en coopération internationale', 'Chargée ou chargé de projet en coordination de la recherche', 'Chargée ou chargé de projet en développement culturel', 'Chargée ou chargé de projet en environnement', 'Chargée ou chargé de projet en environnement et en conservation', 'Chargée ou chargé de projet en ergonomie', 'Chargée ou chargé de projet en gestion intégrée des ressources', 'Chargée ou chargé de projet en géomatique', 'Chargée ou chargé de projet en revitalisation', 'Chargée ou chargé de projet en santé publique', \"Chargée ou chargé de projet en systèmes d'information\", 'Chargée ou chargé de projet en valorisation de la langue française', 'Chargée ou chargé de projet en éducation des droits humains', 'Chargée ou chargé de projet en équité, diversité et inclusion', 'Chargée ou chargé de projet en études de marché et recherche commerciale', 'Chargée ou chargé de projet scientifique', 'Chargée ou chargé de projet – marketing numérique', \"Chargée ou chargé de projet, chargée ou chargé d'événements culturels\", \"Chargée ou chargé de projet, coordonnatrice ou coordonnateur d'équipes de recherche\", 'Chargée ou chargé de projet, responsable de développement en communication', 'Chargée ou chargé de projet, secteur santé', 'Chargée ou chargé de projets', \"Chargée ou chargé de projets dans le domaine de l'événementiel\", 'Chargée ou chargé de projets de formation', 'Chargée ou chargé de projets en développement durable', 'Chargée ou chargé de projets en environnement', 'Chargée ou chargé de projets en gestion des ressources naturelles', 'Chargée ou chargé de projets en recherche et développement', 'Chargée ou chargé de projets en transport durable', 'Chargée ou chargé de projets en éducation des droits de la personne', 'Chargée ou chargé de projets internationaux', 'Chargée ou chargé de projets internationaux / Project officer, trade agreements', 'Chargée ou chargé de projets numérique et en communication', \"Chargée ou chargé de projets sur l'environnement\", \"Chargée ou chargé des relations d'affaires et de la représentation\", 'Chargée ou chargée de documentation et de collecte de données', 'Chargée, chargé, cheffe ou chef ou gestionnaire de projet', 'Chargée, chargé, cheffe, chef ou gestionnaire de projet', 'Cheffe comptable ou chef comptable', 'Cheffe ou chef comptable', \"Cheffe ou chef d'équipe\", 'Cheffe ou chef de mission', 'Cheffe ou chef de produit ou de marque', 'Cheffe ou chef de produits ou de marques', \"Cheffe ou chef de programme ou d'unité\", 'Cheffe ou chef de projet', 'Cheffe ou chef de projets', 'Cheffe ou chef de pupitre ou de nouvelles', 'Cheffe ou chef de service ou de division', 'Chercheuse indépendante ou chercheur indépendant', 'Chercheuse ou chercheur', 'Chercheuse ou chercheur (doctorat exigé)', 'Chercheuse ou chercheur autonome', \"Chercheuse ou chercheur dans un domaine d'application\", 'Chercheuse ou chercheur et analyste de politiques', 'Chercheuse ou chercheur universitaire', 'Chercheuse ou chercheur, agente ou agent de recherche, assistante ou assistant de recherche', \"Chercheuse ou chercheur, analyste au sein d'instituts ou de centres de recherche (Statistique Canada, Institut de la statistique du Québec, etc.)\", 'Chimiste', 'Chimiste en contrôle de la qualité', 'Chroniqueuse culturelle ou chroniqueur culturel', 'Chroniqueuse ou chroniqueur', 'Chroniqueuse ou chroniqueur politique', 'Chroniqueuse ou chroniqueur, animatrice ou animateur, annonceuse ou annonceur', \"Cinéaste d'animation\", \"Collaboratrice ou collaborateur dans des centres d'artistes\", \"Commissaire d'exposition\", \"Commissaire d'expositions\", 'Commissaire industrielle ou commissaire industriel', \"Commissaire ou analyste à l'exportation\", 'Communicatrice culturelle ou communicateur culturel', 'Communicatrice spécialisée ou communicateur spécialisé', 'Compositrice ou compositeur', 'Compositrice ou compositeur  de musique populaire', \"Compositrice ou compositeur  de musique à l'image\", 'Compositrice ou compositeur de musique de concert', 'Compositrice ou compositeur de musique populaire', \"Compositrice ou compositeur de musique à l'image\", 'Comptable en management', 'Conceptrice ou concepteur', \"Conceptrice ou concepteur d'effets visuels\", \"Conceptrice ou concepteur d'expositions\", \"Conceptrice ou concepteur d'installations interactives et immersives\", \"Conceptrice ou concepteur d'instruments d'évaluation ou de sondage\", \"Conceptrice ou concepteur d'outils d'apprentissage de l'anglais / English learning tool developer\", 'Conceptrice ou concepteur de jeux', 'Conceptrice ou concepteur de logiciels', \"Conceptrice ou concepteur de logiciels de monitorage et d'analyse de textes\", \"Conceptrice ou concepteur de logiciels et d'applications médicales\", 'Conceptrice ou concepteur de produits multimédias', 'Conceptrice ou concepteur de sondage', \"Conceptrice ou concepteur de système de gestion et d'aide à la décision\", 'Conceptrice ou concepteur en optique', 'Conceptrice ou concepteur graphique ou publicitaire', 'Conceptrice ou concepteur publicitaire', 'Conseiller ou conseillère en approvisionnement', 'Conseiller ou conseillère en gestion contractuelle', 'Conseiller ou conseillère en marchés publics', 'Conseillère cadre ou conseiller cadre en soins infirmiers', 'Conseillère culturelle ou conseiller culturel, conseillère ou conseiller en développement régional ou à la mise en valeur du patrimoine', \"Conseillère d'orientation organisationnelle ou conseiller d'orientation organisationnel\", 'Conseillère experte ou conseiller expert', 'Conseillère musicale ou conseiller musical', 'Conseillère ou conseiller', 'Conseillère ou conseiller artistique', 'Conseillère ou conseiller au développement, aux communications et à la philanthropie', 'Conseillère ou conseiller aux affaires internationales', 'Conseillère ou conseiller aux entreprises', 'Conseillère ou conseiller aux opérations', 'Conseillère ou conseiller aux ventes et au marketing', 'Conseillère ou conseiller clinique', \"Conseillère ou conseiller d'aide à l'emploi\", \"Conseillère ou conseiller d'orientation\", 'Conseillère ou conseiller dans les organismes publics, parapublics ou privés', 'Conseillère ou conseiller en acquisition de talents', 'Conseillère ou conseiller en affaires internationales', 'Conseillère ou conseiller en affaires internationales, en développement international', 'Conseillère ou conseiller en affaires électroniques/numériques – vigie et développement', 'Conseillère ou conseiller en amélioration de processus', 'Conseillère ou conseiller en avantages sociaux', 'Conseillère ou conseiller en certification environnementale', 'Conseillère ou conseiller en changements climatiques', 'Conseillère ou conseiller en communication', 'Conseillère ou conseiller en comportement humain, en milieu carcéral ou en prévention et sécurité', 'Conseillère ou conseiller en conformité réglementaire', 'Conseillère ou conseiller en consultations publiques, en développement touristique, en immigration, en relations internationales', 'Conseillère ou conseiller en coordination de textes', 'Conseillère ou conseiller en dotation ou en recrutement', \"Conseillère ou conseiller en démarrage d'entreprise\", 'Conseillère ou conseiller en développement', 'Conseillère ou conseiller en développement agricole', 'Conseillère ou conseiller en développement de compétences', 'Conseillère ou conseiller en développement de systèmes', 'Conseillère ou conseiller en développement des ressources naturelles', 'Conseillère ou conseiller en développement durable', 'Conseillère ou conseiller en développement organisationnel', 'Conseillère ou conseiller en développement économique', 'Conseillère ou conseiller en développement, en genre, en mobilisation jeunesse', 'Conseillère ou conseiller en emploi et en ressources humaines', \"Conseillère ou conseiller en emploi, en relation d'aide, en évaluation et recherches sociales ou en réadaptation\", 'Conseillère ou conseiller en environnement', 'Conseillère ou conseiller en environnement et développement durable', 'Conseillère ou conseiller en finance personnelle', 'Conseillère ou conseiller en financement agricole', 'Conseillère ou conseiller en financement forestier et agricole', 'Conseillère ou conseiller en formation', 'Conseillère ou conseiller en formation et en développement organisationnel', 'Conseillère ou conseiller en formation, en recrutement ou en relations du travail', 'Conseillère ou conseiller en gestion agricole', 'Conseillère ou conseiller en gestion budgétaire et financière', \"Conseillère ou conseiller en gestion de cas en matière d'assistance publique\", 'Conseillère ou conseiller en gestion de fonds, en rentes collectives ou en sécurité financière', 'Conseillère ou conseiller en gestion de projet', 'Conseillère ou conseiller en gestion des documents numériques', 'Conseillère ou conseiller en gestion des ressources humaines', 'Conseillère ou conseiller en gestion documentaire', \"Conseillère ou conseiller en gestion et en démarrage d'entreprise\", 'Conseillère ou conseiller en gestion et en production culturelle et multimédia', 'Conseillère ou conseiller en gestion immobilière', 'Conseillère ou conseiller en gestion organisationnelle', 'Conseillère ou conseiller en gestion ou en management', 'Conseillère ou conseiller en gestion, directrice ou directeur de compte', 'Conseillère ou conseiller en immigration', 'Conseillère ou conseiller en information scolaire et professionnelle', 'Conseillère ou conseiller en insertion socioprofessionnelle', 'Conseillère ou conseiller en insolvabilité', 'Conseillère ou conseiller en location commerciale ou immobilière', 'Conseillère ou conseiller en management et en développement organisationnel', 'Conseillère ou conseiller en management, en développement organisationnel, en commercialisation, etc.', 'Conseillère ou conseiller en mesure et évaluation', 'Conseillère ou conseiller en microcrédit, en microfinance, en commerce équitable, etc.', 'Conseillère ou conseiller en patrimoine', 'Conseillère ou conseiller en placement', 'Conseillère ou conseiller en planification financière', 'Conseillère ou conseiller en politiques publiques auprès des gouvernements', 'Conseillère ou conseiller en protection de la vie privée', 'Conseillère ou conseiller en prévention', 'Conseillère ou conseiller en prévention en santé et sécurité au travail', 'Conseillère ou conseiller en recherche et en santé publique', 'Conseillère ou conseiller en reconnaissance des acquis et des compétences', 'Conseillère ou conseiller en recrutement', 'Conseillère ou conseiller en recrutement de personnel', 'Conseillère ou conseiller en relation d’aide', 'Conseillère ou conseiller en relations de travail', 'Conseillère ou conseiller en relations du travail ou en relations professionnelles', 'Conseillère ou conseiller en relations industrielles, en développement organisationnel, en ressources humaines ou en santé et sécurité du travail', 'Conseillère ou conseiller en relations internationales', 'Conseillère ou conseiller en ressources humaines', 'Conseillère ou conseiller en réadaptation', 'Conseillère ou conseiller en rédaction', 'Conseillère ou conseiller en santé et sécurité au travail', 'Conseillère ou conseiller en santé et sécurité du travail', 'Conseillère ou conseiller en science politique', 'Conseillère ou conseiller en soins infirmiers', \"Conseillère ou conseiller en systèmes d'information\", 'Conseillère ou conseiller en sécurité financière', 'Conseillère ou conseiller en toxicomanie', 'Conseillère ou conseiller en transition de carrière', 'Conseillère ou conseiller en économie, consultante ou consultant', 'Conseillère ou conseiller en épargne collective', 'Conseillère ou conseiller en éthique, éthicienne ou éthicien', 'Conseillère ou conseiller en évaluation', 'Conseillère ou conseiller en évaluation et développement de compétences', 'Conseillère ou conseiller en évaluation et en recherche sociales', 'Conseillère ou conseiller en évaluation et en statistiques', 'Conseillère ou conseiller en évaluation et recherche sociale', 'Conseillère ou conseiller en évaluation et recherches sociales', 'Conseillère ou conseiller juridique', 'Conseillère ou conseiller linguistique', 'Conseillère ou conseiller médias sociaux et contenus numériques', 'Conseillère ou conseiller ou spécialiste en alimentation animale', 'Conseillère ou conseiller politique', 'Conseillère ou conseiller pour des organismes gouvernementaux dans les ministères et les établissements du réseau de la santé et des services sociaux', 'Conseillère ou conseiller pour les organismes gouvernementaux', 'Conseillère ou conseiller pédagogique', 'Conseillère ou conseiller pédagogique dans un établissement collégial', 'Conseillère ou conseiller scientifique', 'Conseillère ou conseiller stratégique', 'Conseillère ou conseiller technique', 'Conseillère ou conseiller technique en recherche et développement', \"Conseillère ou conseiller à l'importation et à l'exportation\", 'Conseillère ou conseiller à la culture', 'Conseillère ou conseiller à la mise en valeur du patrimoine', 'Conseillère ou conseiller à la recherche', 'Conseillère ou conseiller à la recherche pour le gouvernement', 'Conseillère ou conseiller à la réussite scolaire', \"Conseillère ou conseiller, agente ou agent d'affaires publiques\", 'Conseillère ou conseiller, consultante ou consultant', 'Conseillère ou conseiller, consultante ou consultant, experte ou expert', 'Conseillère principale ou conseiller principal à la qualité et aux affaires réglementaires', 'Conseillère professionnelle ou conseiller professionnel en géomatique', 'Conseillère spéciale ou conseiller spécial en formation, en dotation, en rémunération ou en relation du travail', 'Conseillère syndicale ou conseiller syndical', 'Conseillère, conseiller ou analyste en développement organisationnel', 'Conseillère, conseiller ou spécialiste en alimentation animale', \"Conseillère, conseiller, agente ou agent d'affaires publiques\", 'Conseillère, conseiller, agente ou agent en dotation', 'Conseillère, conseiller, consultante ou consultant', 'Conseillère, conseiller, consultante, consultant, coordonnatrice ou coordonnateur en environnement, en développement durable', 'Conseillère, conseiller, directrice ou directeur – marketing et communications', 'Conseillère, conseiller, directrice, directeur, coordonnatrice ou coordonnateur en gestion de la qualité', 'Conseillère, conseiller, experte-conseil ou expert-conseil agricole', 'Conservatrice ou conservateur', 'Conservatrice ou conservateur de collection dans une institution culturelle', 'Conservatrice ou conservateur de collection et d’exposition', 'Consultante commerciale ou consultant commercial', 'Consultante ou consultant', 'Consultante ou consultant (doctorat exigé)', 'Consultante ou consultant de mise en valeur de sites archéologiques ou historiques', 'Consultante ou consultant en architecture', 'Consultante ou consultant en architecture (avec la maîtrise)', 'Consultante ou consultant en commerce international / Trade assistant', 'Consultante ou consultant en counseling', 'Consultante ou consultant en didactique', 'Consultante ou consultant en développement durable', 'Consultante ou consultant en développement et en évaluation', 'Consultante ou consultant en développement international', 'Consultante ou consultant en environnement', 'Consultante ou consultant en gestion', 'Consultante ou consultant en gestion des services de santé', 'Consultante ou consultant en gestion ou en management', 'Consultante ou consultant en génie agroenvironnemental', 'Consultante ou consultant en histoire', 'Consultante ou consultant en immigration', 'Consultante ou consultant en immobilier', 'Consultante ou consultant en marketing', 'Consultante ou consultant en marketing Web', 'Consultante ou consultant en marketing numérique', 'Consultante ou consultant en patrimoine architectural', 'Consultante ou consultant en psychopédagogie', 'Consultante ou consultant en qualité du service à la clientèle', \"Consultante ou consultant en stratégie d'entreprise\", 'Consultante ou consultant en équité, diversité et inclusion', \"Consultante ou consultant à l'international\", 'Consultante ou consultant économique', 'Consultante ou consultant, travailleuse ou travailleur autonome', 'Consultante spécialisée ou consultant spécialisé en dotation, en rémunération ou en avantages sociaux', 'Consultante, consultant, experte-conseil ou expert-conseil', 'Contremaître de production', 'Contremaître, cheffe ou chef de production', 'Contremaître, superviseure ou superviseur', 'Contrôleuse financière ou contrôleur financier', 'Contrôleuse ou contrôleur', 'Contrôleuse ou contrôleur de la qualité', 'Coopérante ou coopérant', \"Coopérante ou coopérant à l'international\", 'Coordonnateur ou coordonnatrice en gestion contractuelle', \"Coordonnateur ou coordonnatrice à l'approvisionnement municipal\", 'Coordonnateur ou coordonnatrice à la direction de la planification et des ressources financières et matérielles', 'Coordonnatrice ou coordonnateur', 'Coordonnatrice ou coordonnateur (jeunesse, en santé mentale ou psychosociale, en toxicomanie)', 'Coordonnatrice ou coordonnateur au développement des marchés', 'Coordonnatrice ou coordonnateur au développement durable', 'Coordonnatrice ou coordonnateur aux achats', 'Coordonnatrice ou coordonnateur aux communications et marketing', \"Coordonnatrice ou coordonnateur d'expositions\", \"Coordonnatrice ou coordonnateur d'équipes d'intervention en santé publique\", \"Coordonnatrice ou coordonnateur d'équipes de recherche\", \"Coordonnatrice ou coordonnateur d'événements\", \"Coordonnatrice ou coordonnateur d'événements sportifs\", \"Coordonnatrice ou coordonnateur d'événements spéciaux\", \"Coordonnatrice ou coordonnateur de l'amélioration et l’optimisation des processus\", 'Coordonnatrice ou coordonnateur de la certification environnementale', 'Coordonnatrice ou coordonnateur de production ou des opérations', 'Coordonnatrice ou coordonnateur de programme', 'Coordonnatrice ou coordonnateur de programmes', 'Coordonnatrice ou coordonnateur de programmes de recherche', 'Coordonnatrice ou coordonnateur de programmes environnementaux', 'Coordonnatrice ou coordonnateur de programmes ou de projets', 'Coordonnatrice ou coordonnateur de projet', 'Coordonnatrice ou coordonnateur de projets, gestionnaire', \"Coordonnatrice ou coordonnateur des ressources humaines, de l'administration, des finances, de la logistique, etc.\", 'Coordonnatrice ou coordonnateur des services au personnel', 'Coordonnatrice ou coordonnateur des services linguistiques', 'Coordonnatrice ou coordonnateur des sports (réseau scolaire)', 'Coordonnatrice ou coordonnateur du marketing', 'Coordonnatrice ou coordonnateur d’opérations financières', 'Coordonnatrice ou coordonnateur en administration et développement', 'Coordonnatrice ou coordonnateur en développement durable', 'Coordonnatrice ou coordonnateur en développement immobilier', 'Coordonnatrice ou coordonnateur en foresterie', 'Coordonnatrice ou coordonnateur en foresterie et planification', 'Coordonnatrice ou coordonnateur en recherche et développement', 'Coordonnatrice ou coordonnateur marketing', 'Coordonnatrice ou coordonnateur à la gestion intégrée des ressources et du territoire', 'Coordonnatrice ou coordonnateur, contrôle de la documentation', 'Coordonnatrice, coordonnateur, chargée ou chargé de projet', 'Coordonnatrice, coordonnateur, inspectrice ou inspecteur en santé et sécurité du travail', 'Correctrice ou correcteur', \"Correctrice ou correcteur d'épreuves\", 'Correctrice-réviseure ou correcteur-réviseur linguistique', 'Courtière ou courtier en valeurs mobilières', 'Courtière, courtier, agente ou agent en assurance de dommages des particuliers ou des entreprises', 'Criminologue clinicienne ou criminologue clinicien', 'Critique', \"Critique d'art\", 'Critique, chroniqueuse ou chroniqueur littéraire', 'Créatrice ou créateur de personnages', 'Créatrice ou créateur scénique', 'Des fonctions d’accueil, d’information, de référence et d’accompagnement d’individus qui sont dans une démarche  d’orientation.', \"Designer d'interfaces\", 'Designer de produits ou designer industriel', 'Designer de services', 'Designer graphique', 'Designer stratégique', 'Designer-artisane ou designer-artisan', 'Designer-chercheuse ou designer-chercheur', 'Designer-entrepreneure ou designer-entrepreneur', 'Diplomate', \"Directrice adjointe ou directeur adjoint d'école\", 'Directrice administrative ou directeur administratif', \"Directrice administrative ou directeur administratif, ou d'unités organisationnelles\", \"Directrice administrative, directeur administratif ou d'unité organisationnelle\", 'Directrice générale ou directeur général', 'Directrice générale ou directeur général (compagnies)', 'Directrice ou directeur', 'Directrice ou directeur (de bibliothèque, d’un centre de documentation, de musée, des archives, des collections ou d’un lieu historique', 'Directrice ou directeur artistique', 'Directrice ou directeur artistique (compagnies/évènements)', 'Directrice ou directeur au développement', 'Directrice ou directeur au développement de produits', \"Directrice ou directeur d'approvisionnement\", \"Directrice ou directeur d'entrepôt ou des opérations\", \"Directrice ou directeur d'une commission scolaire ou d'un centre de services scolaire\", \"Directrice ou directeur d'une commission scolaire ou d'un centre de services scolaires\", \"Directrice ou directeur d'une fédération sportive\", \"Directrice ou directeur d'usine\", \"Directrice ou directeur d'école\", \"Directrice ou directeur de bibliothèque, de galerie d'art, de musée, des archives, des collections ou d'un lieu historique\", 'Directrice ou directeur de cercles de qualité', 'Directrice ou directeur de cinémathèque, d’organisme de diffusion', 'Directrice ou directeur de commission scolaire ou de centre de services scolaire', \"Directrice ou directeur de l'informatique\", 'Directrice ou directeur de la conservation et de la mise en valeur des écosystèmes', 'Directrice ou directeur de la conservation et de la mise en valeur des écosystèmes naturels et aménagés', \"Directrice ou directeur de la production, de l'ingénierie ou des procédés\", \"Directrice ou directeur de la qualité et de l'efficacité d'affaires\", \"Directrice ou directeur de la qualité et de l'efficacité d’affaires\", \"Directrice ou directeur de musée, d'archive, de collection\", 'Directrice ou directeur de production', 'Directrice ou directeur de production des matières premières', 'Directrice ou directeur de productions artistiques', \"Directrice ou directeur de programme ou d'unité\", 'Directrice ou directeur de projet', 'Directrice ou directeur de projet ou de recherche et développement', \"Directrice ou directeur de recherche (avec de l'expérience)\", 'Directrice ou directeur de recherche et développement', 'Directrice ou directeur de service immobilier', \"Directrice ou directeur de succursales, de division ou d'agence\", 'Directrice ou directeur des achats', 'Directrice ou directeur des opérations', 'Directrice ou directeur des ressources humaines et du développement organisationnel', 'Directrice ou directeur des ressources humaines, des relations du travail ou des relations industrielles', \"Directrice ou directeur des services d'administration\", 'Directrice ou directeur des services financiers', 'Directrice ou directeur des soins infirmiers', 'Directrice ou directeur des ventes', 'Directrice ou directeur du design', 'Directrice ou directeur du développement international / Director of development', 'Directrice ou directeur du marketing', 'Directrice ou directeur du marketing web', 'Directrice ou directeur d’approvisionnement', 'Directrice ou directeur d’usine', \"Directrice ou directeur en analytique d'affaires\", 'Directrice ou directeur en finance et administration ou en assurance des particuliers', 'Directrice ou directeur en nutrition et développement', 'Directrice ou directeur grands comptes', 'Directrice ou directeur photo', 'Directrice ou directeur pédagogique', 'Directrice ou directeur technique', 'Directrice ou directeur, cadre ou gestionnaire', 'Directrice ou directeur, gestionnaire', 'Directrice, directeur, coordonnatrice ou coordonnateur de programmes ou de projets', \"Directrice, directeur, coordonnatrice ou coordonnateur des ressources humaines, de l'administration, des finances, de la logistiques, etc.\", \"Directrice, directeur, superviseure ou superviseur de l'expérience client\", \"Dirigeante ou dirigeant d'entreprise\", 'Discothécaire', \"Diététiste-nutritionniste (dans les secteurs d'activité suivants : nutrition clinique, nutrition en santé publique, nutrition en agroalimentaire et biopharmaceutique, gestion des services d'alimentation, communication et journalisme, enseignement et recherche)\", 'Documentaliste', 'Dramaturge', 'Défenseuse ou défenseur des droits des consommateurs', 'Démographe', \"Développeuse logicielle ou développeur logiciel, Web ou d'applications\", 'Développeuse, développeur, cheffe ou chef de produits', 'Développeuse, développeur, programmeuse ou programmeur', 'Enseignante ou enseignant', 'Enseignante ou enseignant (avec formation demandée)', 'Enseignante ou enseignant (avec les diplômes demandés)', 'Enseignante ou enseignant (avec les diplômes requis)', 'Enseignante ou enseignant (avec une formation complémentaire)', 'Enseignante ou enseignant - parajuridique', \"Enseignante ou enseignant au collège ou à l'université\", 'Enseignante ou enseignant au collégial', 'Enseignante ou enseignant au collégial (avec formation demandée)', 'Enseignante ou enseignant au collégial (diplôme de 2e cycle peut être exigé) / College teacher (master’s degree may be required)', 'Enseignante ou enseignant au collégial / College teacher', 'Enseignante ou enseignant au collégial en psychologie (diplôme de 2e cycle peut être exigé)', \"Enseignante ou enseignant au collégial ou à l'université\", 'Enseignante ou enseignant au collégial ou à l’université (avec formation complémentaire)', 'Enseignante ou enseignant au cégep', 'Enseignante ou enseignant au primaire', 'Enseignante ou enseignant au primaire et au secondaire', 'Enseignante ou enseignant au préscolaire (maternelle)', 'Enseignante ou enseignant au secondaire', 'Enseignante ou enseignant au secondaire (activités parascolaires)', \"Enseignante ou enseignant d'art dramatique\", \"Enseignante ou enseignant d'arts plastiques\", \"Enseignante ou enseignant d'histoire au secondaire\", \"Enseignante ou enseignant d'éthique et de culture religieuse au secondaire\", 'Enseignante ou enseignant dans un établissement collégial', 'Enseignante ou enseignant de français, langue seconde', 'Enseignante ou enseignant de géographie au collégial', 'Enseignante ou enseignant de géographie au secondaire', \"Enseignante ou enseignant de l'éducation physique au collégial\", \"Enseignante ou enseignant de l'éducation physique au primaire\", \"Enseignante ou enseignant de l'éducation physique au secondaire\", 'Enseignante ou enseignant de la linguistique ou des langues', 'Enseignante ou enseignant de langue seconde', 'Enseignante ou enseignant de musique au niveau préscolaire, primaire ou secondaire', 'Enseignante ou enseignant des mathématiques au secondaire', 'Enseignante ou enseignant des sciences (biologie, chimie, physique) au secondaire', 'Enseignante ou enseignant du français au secondaire', 'Enseignante ou enseignant d’anglais, langue seconde / English Second Language teacher', 'Enseignante ou enseignant d’espagnol, langue tierce / Spanish Language teacher', 'Enseignante ou enseignant en anthropologie et méthode de recherche au niveau collégial (avec un DESS en enseignement collégial)', 'Enseignante ou enseignant en illustration scientifique', 'Enseignante ou enseignant en théâtre', 'Enseignante ou enseignant en économie au collégial (avec un DESS en enseignement collégial)', \"Enseignante ou enseignant à l'université ou au collégial / University or college teacher\", \"Enseignante ou enseignant à l'éducation préscolaire\", 'Enseignante ou enseignant – parajuridique', 'Enseignante ou enseignant, animatrice ou animateur scientifique', 'Enseignante ou enseignant, professeure ou professeur', 'Entraîneuse ou entraîneur', \"Entraîneuse ou entraîneur dans les programmes d'élite de niveaux provincial et national\", 'Entraîneuse ou entraîneur de para-athlètes', 'Entraîneuse ou entraîneur de programmes sport-études', 'Entraîneuse ou entraîneur des domaines scolaire ou civil', 'Entrepreneure ou entrepreneur', \"Entrepreneure ou entrepreneur (firme de consultation, de recherche ou d'intervention)\", \"Entrepreneure ou entrepreneur à l'international / International project manager\", 'Ergonome', 'Ergonome des interfaces', 'Ergothérapeute', 'Ergothérapeute (requiert la maîtrise en ergothérapie)', 'Ethnologue', 'Experte ou expert en culture amérindienne', 'Experte ou expert en science des données (data scientist)', 'Experte psycholégale ou expert psycholégal (doctorat exigé)', 'Experte-comptable ou expert-comptable', 'Experte-conseil ou expert-conseil', 'Experte-conseil ou expert-conseil en ressources humaines ou en planification', 'Formatrice ou formateur', 'Formatrice ou formateur / Trainer', 'Formatrice ou formateur en gestion des relations avec la clientèle', 'Formatrice ou formateur en évaluation environnementale', 'Formatrice spécialisée ou formateur spécialisé', 'Fouilleuse ou fouilleur', 'Gestionnaire', \"Gestionnaire d'entreprise\", \"Gestionnaire d'une entreprise agricole ou agroalimentaire\", \"Gestionnaire d'une succursale bancaire ou d'un cabinet de courtage\", \"Gestionnaire d'une équipe d'intervenantes et intervenants (dans les secteurs social, jeunesse ou communautaire, santé mentale, psychosocial, toxicomanie)\", \"Gestionnaire d'équipe de travail\", 'Gestionnaire dans le secteur du commerce de détail', 'Gestionnaire dans une OBNL liée au développement durable', 'Gestionnaire de base de données', 'Gestionnaire de bases de données', 'Gestionnaire de bases de données géographiques', 'Gestionnaire de campagnes numériques et marketing d’influence', 'Gestionnaire de communauté', 'Gestionnaire de compte', 'Gestionnaire de comptes clients', 'Gestionnaire de contenu Web', 'Gestionnaire de la qualité', \"Gestionnaire de la qualité et de l'expérience client\", 'Gestionnaire de parcs et de portefeuilles immobiliers', 'Gestionnaire de patrimoine', 'Gestionnaire de portefeuille', 'Gestionnaire de portefeuille immobilier', 'Gestionnaire de production', 'Gestionnaire de production ou des opérations', 'Gestionnaire de programmes et de projets', 'Gestionnaire de projet', 'Gestionnaire de projet dans le secteur langagier', \"Gestionnaire de projet et d'entreprise culturelle\", 'Gestionnaire de projet immobilier', 'Gestionnaire de projet senior aux affaires scientifiques', 'Gestionnaire de projets', 'Gestionnaire de projets agroforestiers', 'Gestionnaire de projets culturels et patrimoniaux', 'Gestionnaire de projets multimédias et Web', 'Gestionnaire de recherche', 'Gestionnaire de risque', 'Gestionnaire de risques (CRM)', 'Gestionnaire de risques corporatifs ou financiers', 'Gestionnaire de réseaux informatiques', 'Gestionnaire de systèmes', 'Gestionnaire de systèmes informatiques', 'Gestionnaire des approvisionnements', 'Gestionnaire des services de santé', 'Gestionnaire du transport', \"Gestionnaire en analytique d'affaires\", 'Gestionnaire en approvisionnement stratégique', \"Gestionnaire en conformité d'exportation\", 'Gestionnaire en conformité d’exportation', 'Gestionnaire en planification et logistique', 'Gestionnaire immobilier', 'Gestionnaire/décideuse ou décideur', 'Graphiste', 'Guide interprète de sites patrimoniaux ou historiques', 'Guide-interprète', 'Généticienne ou généticien', 'Géochimiste', 'Géographe', 'Géologue', 'Géologue (environnementaliste, marine ou marin, pétrolière ou pétrolier, minière ou minier)', 'Géomaticienne ou géomaticien', 'Géomaticienne ou géomaticien, chargée ou chargé de projet en géomatique', 'Géomaticienne ou géomaticien, chargée ou chargé de projets en géomatique', 'Géomorphologue', 'Géomètre', 'Géophysicienne ou géophysicien', 'Gérante ou gérant de ferme, cheffe ou chef de culture', 'Gérante ou gérant de projet', 'Haute fonctionnaire ou haut fonctionnaire', 'Historienne ou historien', 'Hydrogéologue', 'Hygiéniste du travail', 'Idéatrice ou idéateur de produits multimédias ou de jeux interactifs', 'Illustratrice ou illustrateur', 'Illustratrice ou illustrateur scientifique', 'Infirmier praticien spécialisé en soins aux adultes (IPSSA)', 'Infirmier praticien spécialisé en soins de première ligne (IPSPL)', 'Infirmier praticien spécialisé en soins à la clientèle adulte (IPSSA)', 'Infirmière clinicienne ou infirmier clinicien', 'Infirmière ou infirmier en pratique avancée', 'Infirmière praticienne spécialisée en soins aux adultes (IPSSA)', 'Infirmière praticienne spécialisée en soins de première ligne (IPSPL)', 'Infirmière praticienne spécialisée en soins à la clientèle adulte (IPSSA)', 'Infomestre, édimestre', 'Informaticienne ou informaticien', 'Ingénieure aérospatiale ou ingénieur aérospatial', 'Ingénieure biomédicale ou ingénieur biomédical', 'Ingénieure civile ou ingénieur civil', 'Ingénieure développeuse ou ingénieur développeur SIG', 'Ingénieure forestière ou ingénieur forestier', 'Ingénieure forestière spécialisée ou ingénieur forestier spécialisé en sciences du bois', 'Ingénieure géospatiale ou ingénieur géospatial', 'Ingénieure informaticienne ou ingénieur informaticien', 'Ingénieure logicielle ou ingénieur logiciel', 'Ingénieure minière ou ingénieur minier', 'Ingénieure mécanicienne ou ingénieur mécanicien en production', 'Ingénieure ou ingénieur alimentaire (en procédés alimentaires et pharmaceutiques, de production, en mécanique de procédés)', 'Ingénieure ou ingénieur aéronautique', 'Ingénieure ou ingénieur chimiste', \"Ingénieure ou ingénieur d'applications\", \"Ingénieure ou ingénieur de l'automobile\", 'Ingénieure ou ingénieur de procédés', 'Ingénieure ou ingénieur de production', 'Ingénieure ou ingénieur de réseaux', 'Ingénieure ou ingénieur de réseaux électriques', 'Ingénieure ou ingénieur de systèmes', 'Ingénieure ou ingénieur des eaux', 'Ingénieure ou ingénieur du bois', 'Ingénieure ou ingénieur du pétrole', 'Ingénieure ou ingénieur du son', 'Ingénieure ou ingénieur en amélioration continue', 'Ingénieure ou ingénieur en assurance qualité', 'Ingénieure ou ingénieur en avionique', 'Ingénieure ou ingénieur en biomatériaux', 'Ingénieure ou ingénieur en biotechnologie', 'Ingénieure ou ingénieur en environnement', 'Ingénieure ou ingénieur en gestion des eaux', 'Ingénieure ou ingénieur en géologie ou en environnement', 'Ingénieure ou ingénieur en géomatique', 'Ingénieure ou ingénieur en géomatériaux, en géophysique ou en géotechnique', 'Ingénieure ou ingénieur en hydraulique', 'Ingénieure ou ingénieur en hydrogéologie', 'Ingénieure ou ingénieur en maintenance industrielle', 'Ingénieure ou ingénieur en matériaux', 'Ingénieure ou ingénieur en minéralurgie', 'Ingénieure ou ingénieur en mécanique du bâtiment', 'Ingénieure ou ingénieur en métallurgie', 'Ingénieure ou ingénieur en optique et en optoélectronique', 'Ingénieure ou ingénieur en programmation', 'Ingénieure ou ingénieur en robotique', 'Ingénieure ou ingénieur en structure du bois', 'Ingénieure ou ingénieur en télédétection', 'Ingénieure ou ingénieur en électrodynamique', 'Ingénieure ou ingénieur en électrométallurgie', 'Ingénieure ou ingénieur en énergie', 'Ingénieure ou ingénieur industriel', 'Ingénieure ou ingénieur mécanique', 'Ingénieure ou ingénieur électrique', 'Ingénieure ou ingénieure (en agroenvironnement, en agroalimentaire, en machineries et en équipements agricoles, en automatisation des procédés, en bâtiments agricoles ou en hydraulique agricole)', 'Ingénieure physicienne médicale ou ingénieur physicien médical', 'Ingénieure physicienne ou ingénieur physicien', 'Ingénieure-conseil ou ingénieur-conseil', 'Inspectrice gouvernementale ou inspecteur gouvernemental', 'Institutions: Maison de la littérature, associations des domaines de la création littéraire ou de l’édition, agente ou agent de programme au Conseil des arts et des lettres du Québec (CALQ) et au Conseil des arts du Canada (CAC), ministère de la Culture et des Communications, Patrimoine Canada', 'Interprète (jazz et musique populaire)', 'Interprète (musique classique ou jazz et musique populaire)', 'Interprète (musique classique)', 'Interprète de la nature', 'Interprète ou guide-interprète', 'Intervenant en employabilité', 'Intervenant psychosocial', 'Intervenante ou intervenant', 'Intervenante ou intervenant communautaire', 'Intervenante ou intervenant dans des milieux artistiques, culturels ou communautaires', \"Intervenante ou intervenant dans le milieu de l'édition\", 'Intervenante ou intervenant dans le milieu de la santé', 'Intervenante ou intervenant en accueil et emploi pour personne immigrante', 'Intervenante ou intervenant en alcoolisme, en toxicomanie et en jeu pathologique', 'Intervenante ou intervenant en biologie médicale', 'Intervenante ou intervenant, animatrice ou animateur jeunesse, communautaire, social, en santé mentale, en ligne d’écoute, psychosocial, en dépendances, en violence conjugale, en santé sexuelle, etc.', 'Intervenante ou intervenant, organisatrice ou organisateur communautaire', 'Intervenante ou intervenante communautaire', 'Intervenante psychosociale ou intervenant psychosocial', 'Intervenante sociale et communautaire ou intervenant social et communautaire', 'Intervenante sociale ou intervenant social', 'Intervenante sociale ou intervenant social, jeunesse ou auprès des victimes', 'Intervieweuse ou intervieweur', 'Journaliste', 'Journaliste et critique de cinéma', 'Journaliste scientifique', 'Journaliste, correspondante ou correspondant, envoyée spéciale ou envoyé spécial, pigiste', 'Journaliste, vulgarisatrice spécialisée ou vulgarisateur spécialisé', 'Journaliste-critique', 'Kinésiologue', 'Kinésiologue clinicienne ou kinésiologue clinicien', 'Lexicographe', 'Libraire', 'Libraire, éditrice ou éditeur', 'Linguiste, conseillère ou conseiller linguistique', 'Lobbyiste', \"Lobbyiste d'organisation ou d'entreprise\", 'Lobbyiste-conseil', 'Mathématicienne ou mathématicien', 'Metteure ou metteur en scène', 'Microbiologiste', 'Monteuse ou monteur de films (son ou image)', 'Musicienne ou musicien dans de petits ensembles, accompagnatrice ou accompagnateur', \"Médecin de famille ou d'une autre spécialité (requiert une formation médicale postdoctorale)\", 'Médiatrice culturelle et touristique ou médiateur culturel et touristique', 'Médiatrice culturelle ou médiateur culturel', \"Médiatrice familiale ou médiateur familial (avec l'accréditation en médiation familiale)\", 'Médiatrice ou médiateur (doctorat exigé)', 'Médiatrice ou médiateur (réseaux public et parapublic)', 'Médiatrice ou médiateur, négociatrice ou négociateur, conciliatrice ou conciliateur', 'Méthodologiste', 'Météorologue, climatologue', 'Météorologue/climatologue', 'Neuropsychologue', 'Neuropsychologue (doctorat exigé)', 'Notaire', 'Négociatrice ou négociateur (trader)', 'Négociatrice ou négociateur de contrats de travail', 'Négociatrice ou négociateur, conciliatrice ou conciliateur, médiatrice ou médiateur', 'Négociatrice, négociateur, conciliatrice, conciliateur ou arbitre en relations du travail', 'Négociatrice, négociateur, conciliatrice, conciliateur, médiatrice ou médiateur', 'Officière ou officier en développement durable', 'Ombudsman', 'Organisatrice ou organisateur communautaire', \"Organisatrice ou organisateur d'activités culturelles\", 'Organisatrice ou organisateur d’activités culturelles', 'Orthophoniste', 'Orthophoniste (avec la maîtrise)', 'Orthopédagogue', 'Perchiste', 'Pharmacienne ou pharmacien', 'Physicienne ou physicien', 'Physiologiste', 'Physiothérapeute', 'Physiothérapeute (requiert la maîtrise en physiothérapie)', 'Planificatrice financière ou planificateur financier (Pl. Fin.)', 'Planificatrice ou planificateur de production', 'Planificatrice ou planificateur média', 'Planificatrice principale ou planificateur principal en interprétation', 'Planificatrice, planificateur, superviseure ou superviseur de la production', 'Productrice ou producteur en cinéma, en télévision', 'Professeure ou professeur', \"Professeure ou professeur d'université\", \"Professeure ou professeur d'université (avec doctorat)\", 'Professeure ou professeur de droit', 'Professeure ou professeur de linguistique ou des langues', 'Professeure ou professeur d’université', \"Professeure ou professeur à l'université (avec les diplômes requis)\", 'Professeure ou professeur à l’université ou au collégial', 'Professeure ou professeure', \"Professeure-chercheuse ou professeur-chercheur d'université\", \"Professionnelle ou professionnel dans l'industrie privée\", 'Professionnelle ou professionnel de recherche', 'Professionnelle ou professionnel de recherche (une maîtrise peut être exigée dans certaines grandes organisations)', 'Professionnelle ou professionnel de recherche dans un centre de recherche', 'Professionnelle ou professionnel de recherche en diagnostic moléculaire, séquençage et génotypage', 'Professionnelle ou professionnel de recherche en développement durable', \"Professionnelle ou professionnel des relations publiques (ex.: agente ou agent d'information) / Public relations professional (e.g., information officer)\", 'Professionnelle ou professionnel des relations publiques / Public relations professional', 'Professionnelle ou professionnel en réadaptation cardiovasculaire', 'Programmeuse ou programmeur', 'Promotrice immobilière ou promoteur immobilier', \"Promotrice ou promoteur de concerts et d'événements\", 'Prêtre, religieuse ou religieux', 'Psychologue', 'Psychologue (en milieux scolaire, communautaire, industriel et organisationnel, etc.) (doctorat exigé)', 'Psychoéducatrice ou psychoéducateur (requiert la maîtrise en psychoéducation)', 'Recherche et développement de services', 'Recherche et enseignement universitaire', 'Recherchiste', 'Recherchiste documentaire / Documentary researcher', 'Recherchiste, experte-conseil ou expert-conseil de programmes en politiques sociales', 'Recherchiste, journaliste', 'Recruteuse ou recruteur', 'Relationniste', 'Reportrice ou reporteur', 'Représentante commerciale ou représentant commercial', \"Représentante commerciale ou représentant commercial en développement d'affaires\", 'Représentante commerciale ou représentant commercial ou des ventes', \"Représentante commerciale ou représentant commercial à l'international\", 'Représentante ou représentant', 'Représentante ou représentant aux ventes et à la formation', 'Représentante ou représentant aux ventes, à la formation et du service à la clientèle', \"Représentante ou représentant de compagnies biomédicales, pharmaceutiques et d'instruments scientifiques\", 'Représentante ou représentant en développement des affaires import-export', 'Représentante ou représentant pharmaceutique', 'Représentante ou représentant scientifique', 'Représentante syndicale ou représentant syndical', 'Responsable ISO 14001', \"Responsable au développement d'affaires\", 'Responsable aux activités éducatives muséologiques, conservatrice ou conservateur', \"Responsable d'inventaire d'objets historiques\", \"Responsable d'organismes\", \"Responsable d'un centre de documentation\", 'Responsable de comptes clients', 'Responsable de gammes de produits', \"Responsable de l'assurance de qualité\", \"Responsable de l'information organisationnelle\", \"Responsable de l'optimisation\", 'Responsable de la commercialisation', 'Responsable de la commercialisation internationale', 'Responsable de la documentation', 'Responsable de la déontologie', 'Responsable de la gestion stratégique', 'Responsable de la qualité', 'Responsable de la recherche et du développement', 'Responsable de la sécurité informatique', 'Responsable de la veille informationnelle', 'Responsable de laboratoire', 'Responsable de prix littéraires', 'Responsable de projet', 'Responsable des communications', 'Responsable des partenariats dans une entreprise', \"Responsable des programmes d'interprétation\", 'Responsable des relations économiques internationales / Director of international marketing', \"Responsable des services d'administration\", 'Responsable des soins infirmiers', 'Responsable des stratégies numériques', 'Responsable des ventes internes et des réseaux de distribution', 'Responsable du développement', 'Responsable du développement des publics', 'Responsable du marketing et des médias sociaux', 'Responsable du marketing international et du développement', \"Responsable du plaidoyer, de l'éducation du public, de la formation, etc.\", 'Responsable du soutien technique et scientifique en systèmes de positionnement', \"Responsable du suivi et de l'évaluation\", 'Responsable du système de gestion', 'Responsable développement durable dans une entreprise', 'Responsable en documentation', 'Responsable qualité, sécurité et environnement dans une entreprise', 'Romancière ou romancier', 'Réalisatrice ou réalisateur', 'Réalisatrice ou réalisateur de musiques de films, de jeux vidéo, de publicités ou de refrains publicitaires (jingles)', 'Réalisatrice ou réalisateur en cinéma, en télévision', 'Rédactrice ou rédacteur', 'Rédactrice ou rédacteur / Copywriter', 'Rédactrice ou rédacteur scientifique', 'Rédactrice ou rédacteur technique', 'Rédactrice ou rédacteur, réviseure ou réviseur', 'Rédactrice spécialisée ou rédacteur spécialisé', \"Rédactrice spécialisée ou rédacteur spécialisé, critique d'art\", 'Rédactrice-réviseure ou rédacteur-réviseur', 'Régisseuse ou régisseur', 'Régisseuse ou régisseur de plateau', 'Réviseure ou réviseur', 'Réviseure ou réviseur / Proofreader', 'Réviseure ou réviseur de revues spécialisées', 'Réviseure ou réviseur, réviseure-rédactrice ou réviseur-rédacteur', 'Scientifique de données', 'Scripte', 'Scriptrice ou scripteur', 'Scénariste', 'Secrétaire en rédaction en musique', 'Sexologue', 'Sexologue éducatrice ou sexologue éducateur à la sexualité', 'Sociolinguiste', 'Sociologue', 'Sondeuse ou sondeur', 'Souscriptrice, souscripteur ou analyste en assurance des entreprises ou en assurance des personnes', 'Spécialiste dans le traitement des langues par ordinateur', \"Spécialiste de l'analyse des marchés des produits alimentaires\", 'Spécialiste de la classification', \"Spécialiste de la finance d'entreprise\", 'Spécialiste de la reconnaissance automatique de la parole', 'Spécialiste de l’analyse des marchés dans le secteur des produits alimentaires', 'Spécialiste des effets spéciaux', 'Spécialiste du numérique éducatif', \"Spécialiste du soutien à l'innovation\", 'Spécialiste en alphabétisation, du français ou dans une langue moderne', 'Spécialiste en analyse organisationnelle', 'Spécialiste en calcul scientifique', 'Spécialiste en cartographie et information géographique', 'Spécialiste en commerce électronique/numérique', 'Spécialiste en commerce électronique/numériques', 'Spécialiste en consultations environnementales et en participation citoyenne', 'Spécialiste en culture amérindienne', 'Spécialiste en développement régional et international', 'Spécialiste en financement immobilier', \"Spécialiste en gestion de l'innovation\", 'Spécialiste en géomatique marine', 'Spécialiste en imagerie', 'Spécialiste en ingénierie financière', 'Spécialiste en modélisation et spécialiste de systèmes', 'Spécialiste en procédés administratifs (approvisionnement, acquisition et gestion contractuelle)', 'Spécialiste en produits dérivés', \"Spécialiste en stratégies d'investissement\", 'Spécialiste en transfert de connaissances', 'Spécialiste en études de marché et recherche commerciale', 'Spécialiste, gestion des dossiers', 'Stagiaire postdoctorale ou postdoctoral', 'Stagiaire postdoctorale ou stagiaire postdoctoral', 'Statisticienne ou statisticien', 'Statisticienne superviseure ou statisticien superviseur', 'Stratège en médias sociaux', 'Stratège numérique et médias sociaux', 'Superviseure musicale ou superviseur musical (audiovisuel)', 'Superviseure ou superviseur des expéditions et des réceptions', 'Superviseure ou superviseur des opérations forestières', 'Superviseure ou superviseur à la logistique', 'Surintendante ou surintendant des opérations forestières', 'Technicienne ou technicien en psychométrie', 'Technopédagogue', 'Terminologue', 'Terminologue agréée ou terminologue agréé', 'Terminologue, adjointe ou adjoint terminologue', 'Terminologue, terminologue agréée ou terminologue agréé', 'Traductrice agréée ou traducteur agréé', 'Traductrice ou traducteur', 'Traductrice ou traducteur (avec un diplôme de 2e cycle en traduction) / Translator (with a master’s degree in translation)', 'Traductrice ou traducteur, traductrice agréée ou traducteur agréé', 'Traductrice ou traducteur, traductrice-réviseure ou traducteur-réviseur', 'Traductrice-réviseure ou traducteur-réviseur', 'Travailleuse culturelle ou travailleur culturel autonome', 'Travailleuse ou travailleur autonome', 'Travailleuse ou travailleur dans la production audiovisuelle', 'Travailleuse ou travailleur de rue', 'Travailleuse sociale ou travailleur social', 'Trésorière, trésorier ou gestionnaire de la trésorerie', 'UX designer', 'Urbaniste', 'Zoologiste', 'Éco-entrepreneure ou éco-entrepreneur', 'Écoconceptrice ou écoconcepteur', 'Écologiste', 'Économiste', 'Économiste (industrielle ou industriel, financière ou financier, du travail, en développement international, en organisation des ressources, etc.)', 'Économiste (une maîtrise peut être exigée dans certaines grandes organisations)', 'Économiste senior', 'Écriture: auteure ou auteur, traductrice ou traducteur littéraire, réviseure ou réviseur, correctrice ou correcteur d’épreuves', 'Écrivaine ou écrivain', 'Écrivaine ou écrivain / Writer', 'Écrivaine ou écrivain, scénariste', 'Édition: éditrice ou éditeur, directrice ou directeur littéraire, adjointe ou adjoint à l’édition, attachée ou attaché de presse, professionnelle ou professionnel en gestion des droits d’auteur ou dans le secteur de la représentation commerciale', 'Éditrice ou éditeur', 'Éditrice ou éditeur scientifique', 'Éducatrice ou éducateur', 'Éducatrice ou éducateur en santé mentale', 'Éducatrice spécialisée ou éducateur spécialisé', 'Éthicienne (médicale, environnementale, juridique) ou éthicien (médical, environnemental, juridique)', 'Évaluatrice agréée ou évaluateur agréé (É. A.)', 'Évaluatrice commerciale ou évaluateur commercial', 'Évaluatrice immobilière ou évaluateur immobilier', 'Évaluatrice ou évaluateur de programmes', 'Événements: événements littéraires, salons du livre, lectures publiques, festivals littéraires']\n",
      "1232\n"
     ]
    }
   ],
   "source": [
    "professions_by_field=mongo_manager.read_all_documents_in_collection(collection_names[0])\n",
    "professions=set() \n",
    "for key in professions_by_field.keys():\n",
    "    professions.update(professions_by_field[key][\"professions\"])\n",
    "\n",
    "# clean_professions = []\n",
    "# df_professsions = pd.DataFrame(professions)\n",
    "# for profession in df_professsions.drop_duplicates().to_numpy().tolist():\n",
    "#     clean_professions.append(profession[0])\n",
    "    \n",
    "professions=list(professions)\n",
    "professions.sort()\n",
    "print(professions)\n",
    "print(len(professions)) "
   ]
  },
  {
   "cell_type": "code",
   "execution_count": 26,
   "metadata": {},
   "outputs": [],
   "source": [
    "countries=[\"Canada\",\"US\",\"France\"]\n",
    "languages=[\"fr\",\"en\"]"
   ]
  },
  {
   "cell_type": "code",
   "execution_count": 27,
   "metadata": {},
   "outputs": [],
   "source": [
    "import random\n",
    "from selenium.webdriver.chrome.options import Options\n",
    "\n",
    "\n",
    "USER_AGENTS = [\n",
    "    \"Mozilla/5.0 (Windows NT 10.0; Win64; x64) AppleWebKit/537.36 (KHTML, like Gecko) Chrome/123.0.0.0 Safari/537.36\",\n",
    "    \"Mozilla/5.0 (Windows NT 10.0; Win64; x64; rv:124.0) Gecko/20100101 Firefox/124.0\",\n",
    "    \"Mozilla/5.0 (Windows NT 10.0; Win64; x64) AppleWebKit/537.36 (KHTML, like Gecko) Chrome/123.0.0.0 Safari/537.36 Edg/123.0.2420.81\",\n",
    "    \"Mozilla/5.0 (Windows NT 10.0; Win64; x64) AppleWebKit/537.36 (KHTML, like Gecko) Chrome/123.0.0.0 Safari/537.36 OPR/109.0.0.0\",\n",
    "    \"Mozilla/5.0 (Macintosh; Intel Mac OS X 10_15_7) AppleWebKit/537.36 (KHTML, like Gecko) Chrome/123.0.0.0 Safari/537.36\",\n",
    "    \"Mozilla/5.0 (Macintosh; Intel Mac OS X 14.4; rv:124.0) Gecko/20100101 Firefox/124.0\",\n",
    "    \"Mozilla/5.0 (Macintosh; Intel Mac OS X 14_4_1) AppleWebKit/605.1.15 (KHTML, like Gecko) Version/17.4.1 Safari/605.1.15\",\n",
    "    \"Mozilla/5.0 (Macintosh; Intel Mac OS X 14_4_1) AppleWebKit/537.36 (KHTML, like Gecko) Chrome/123.0.0.0 Safari/537.36 OPR/109.0.0.0\",\n",
    "    \"Mozilla/5.0 (X11; Linux x86_64) AppleWebKit/537.36 (KHTML, like Gecko) Chrome/123.0.0.0 Safari/537.36\",\n",
    "    \"Mozilla/5.0 (X11; Linux i686; rv:124.0) Gecko/20100101 Firefox/124.0\",\n",
    "]\n",
    "\n",
    "# def get_random_proxy():\n",
    "#     return random.choice(PROXIES)\n",
    "\n",
    "\n",
    "chrome_options = Options()\n",
    "chrome_options.add_argument(\"--disable-blink-features=AutomationControlled\")\n",
    "chrome_options.add_argument(f'user-agent={random.choice(USER_AGENTS)}')\n",
    "\n",
    "\n",
    "def random_sleep(min_time=1, max_time=5):\n",
    "    time.sleep(random.uniform(min_time, max_time))\n",
    "\n",
    "def indeedDataFill(ulavalPosition, location,page_lang):\n",
    "    if location==\"Canada\":\n",
    "        driver.get(f\"https://emplois.ca.indeed.com/jobs?q={ulavalPosition.replace(' ','+')}&l={location.replace(' ','+')}&hl={page_lang}\")\n",
    "    if location==\"US\":\n",
    "        driver.get(f\"https://www.indeed.com/jobs?q={ulavalPosition.replace(' ','+')}&l={location.replace(' ','+')}&hl={page_lang}\")\n",
    "    if location==\"France\":\n",
    "        driver.get(f\"https://www.indeed.fr/jobs?q={ulavalPosition.replace(' ','+')}&l={location .replace(' ','+')}&hl={page_lang}\")    \n",
    "    random_sleep()\n",
    "    # try:\n",
    "    #     title_input = driver.find_element(By.ID, 'text-input-what')\n",
    "    #     location_input = driver.find_element(By.ID, 'text-input-where')\n",
    "    # except Exception as e:\n",
    "    #     e\n",
    "    # if title_input:\n",
    "    #     driver.execute_script(\"arguments[0].value = '';\", title_input)\n",
    "    #     # driver.execute_script(\"arguments[0].value = '';\", location_input)\n",
    "    #     # location_input.send_keys(location)\n",
    "    #     title_input.send_keys(ulavalPosition, Keys.RETURN)\n",
    "    # return title_input, location_input\n",
    "    "
   ]
  },
  {
   "cell_type": "code",
   "execution_count": 28,
   "metadata": {},
   "outputs": [
    {
     "data": {
      "text/plain": [
       "'Nurse'"
      ]
     },
     "execution_count": 28,
     "metadata": {},
     "output_type": "execute_result"
    }
   ],
   "source": [
    "import requests\n",
    "\n",
    "def translate_text(text, target_language):\n",
    "    url = \"https://api.mymemory.translated.net/get\"\n",
    "    params = {\n",
    "        'q': text,\n",
    "        'langpair': f'fr|{target_language}'  # Exemple pour traduire du français vers l'anglais\n",
    "    }\n",
    "    response = requests.get(url, params=params)\n",
    "    return response.json().get('responseData', {}).get('translatedText')\n",
    "\n",
    "def traduction(profession, language):\n",
    "    if language==\"fr\":\n",
    "        return profession\n",
    "    if language==\"en\":\n",
    "        return translate_text(profession, \"en\")\n",
    "    \n",
    "traduction(\"Infirmier\", \"en\")"
   ]
  },
  {
   "cell_type": "code",
   "execution_count": 29,
   "metadata": {},
   "outputs": [],
   "source": [
    "def get_line_of_profession(lines,profession):\n",
    "    index=-1\n",
    "    for line_number, line in enumerate(lines):\n",
    "        if profession in line:\n",
    "            index=line_number\n",
    "            break\n",
    "    return index\n",
    "\n",
    "def delete_last_index_str(line,str_index):\n",
    "    return line.replace(str_index, \"\")"
   ]
  },
  {
   "cell_type": "code",
   "execution_count": null,
   "metadata": {},
   "outputs": [
    {
     "data": {
      "application/vnd.jupyter.widget-view+json": {
       "model_id": "23295608149043fca7161d3ecebff0f0",
       "version_major": 2,
       "version_minor": 0
      },
      "text/plain": [
       "Professions: 0it [00:00, ?it/s]"
      ]
     },
     "metadata": {},
     "output_type": "display_data"
    },
    {
     "name": "stdout",
     "output_type": "stream",
     "text": [
      "Agente culturelle ou agent culturel / Cultural agent\n",
      "-1\n"
     ]
    },
    {
     "data": {
      "application/vnd.jupyter.widget-view+json": {
       "model_id": "7ed967201d504ac89c109ff775595a26",
       "version_major": 2,
       "version_minor": 0
      },
      "text/plain": [
       "Countries: 0it [00:00, ?it/s]"
      ]
     },
     "metadata": {},
     "output_type": "display_data"
    },
    {
     "data": {
      "application/vnd.jupyter.widget-view+json": {
       "model_id": "bee993a720624c2398657047e1976b23",
       "version_major": 2,
       "version_minor": 0
      },
      "text/plain": [
       "Languages: 0it [00:00, ?it/s]"
      ]
     },
     "metadata": {},
     "output_type": "display_data"
    },
    {
     "data": {
      "application/vnd.jupyter.widget-view+json": {
       "model_id": "b30be6dba7c84dba8b0687400306d96e",
       "version_major": 2,
       "version_minor": 0
      },
      "text/plain": [
       "Page Languages: 0it [00:00, ?it/s]"
      ]
     },
     "metadata": {},
     "output_type": "display_data"
    },
    {
     "name": "stdout",
     "output_type": "stream",
     "text": [
      "Button None\n",
      "Button None\n"
     ]
    },
    {
     "data": {
      "application/vnd.jupyter.widget-view+json": {
       "model_id": "a7276a45ca134bf9bfc6492007d22679",
       "version_major": 2,
       "version_minor": 0
      },
      "text/plain": [
       "Page Languages: 0it [00:00, ?it/s]"
      ]
     },
     "metadata": {},
     "output_type": "display_data"
    },
    {
     "name": "stdout",
     "output_type": "stream",
     "text": [
      "Button None\n"
     ]
    }
   ],
   "source": [
    "\n",
    "line_idx = -1\n",
    "\n",
    "# Open the progress file and read the lines\n",
    "with open(\"data_retriever_progress.txt\", 'r', encoding='utf-8') as data_retriever_progress_file:\n",
    "    lines = data_retriever_progress_file.readlines()\n",
    "\n",
    "# Ensure lines list is initialized\n",
    "if not lines:\n",
    "    lines = []\n",
    "\n",
    "try:\n",
    "    # Initialize the WebDriver\n",
    "    driver = webdriver.Chrome(options=chrome_options)\n",
    "\n",
    "    # Iterate over the list of professions, starting from index 12\n",
    "    for i, profession in tqdm(enumerate(professions[13:14], start=13), desc=\"Professions\", leave=True):\n",
    "        print(profession)\n",
    "        \n",
    "        # Construct the line entry for the current profession\n",
    "        line = profession + f\" [{i}] \"\n",
    "        line_idx = get_line_of_profession(lines, profession)\n",
    "        print(line_idx)\n",
    "        \n",
    "        # Check if the profession has already been processed\n",
    "        if line_idx != -1:\n",
    "            message = \"On a remarqué que vous avez déjà récupéré les postes de cette profession \"\n",
    "            message += \"en totalité\" if \"(end)\" in lines[line_idx] else \"mais en partie\"\n",
    "            message += \". Est-ce que vous voulez recommencer la récupération ? Y/N \"\n",
    "            \n",
    "            user_input = input(message)\n",
    "            while user_input.lower() not in \"y/n\":\n",
    "                user_input = input(message)\n",
    "            \n",
    "            if user_input.lower() == \"n\":\n",
    "                continue\n",
    "        \n",
    "        # Iterate over countries\n",
    "        for j, country in tqdm(enumerate(countries, start=0), desc=\"Countries\", leave=True):\n",
    "            line = delete_last_index_str(line, \"cntryIdx\" + f\" [{j - 1}] \")\n",
    "            line += \"cntryIdx\" + f\" [{j}] \"\n",
    "\n",
    "            # Iterate over languages\n",
    "            for k, language in tqdm(enumerate(languages, start=0), desc=\"Languages\", leave=True):\n",
    "                line = delete_last_index_str(line, \"langIdx\" + f\" [{k - 1}] \")\n",
    "                line += \"langIdx\" + f\" [{k}] \"\n",
    "\n",
    "                # Iterate over page languages\n",
    "                for l, page_lang in tqdm(enumerate(languages, start=0), desc=\"Page Languages\", leave=True):\n",
    "                    line = delete_last_index_str(line, \"pgLangIdx\" + f\" [{l - 1}] \")\n",
    "                    line += \"pgLangIdx\" + f\" [{l}] \"\n",
    "\n",
    "                    # Retrieve Indeed data\n",
    "                    indeedDataFill(traduction(profession, language), country, page_lang)\n",
    "                    \n",
    "                    # Check for the presence of the \"Next\" button for pagination\n",
    "                    try:\n",
    "                        pagination_next_element = driver.find_element(By.XPATH, \"//nav/ul/li/a[@data-testid='pagination-page-next']\")\n",
    "                    except Exception:\n",
    "                        pagination_next_element = None\n",
    "                    \n",
    "                    # Process each page until there's no \"Next\" button\n",
    "                    if not pagination_next_element:\n",
    "                        print(f\"Button {pagination_next_element}\")\n",
    "                        indeedPositionInfos(profession, country, language, page_lang)\n",
    "                    \n",
    "                    while pagination_next_element:\n",
    "                        indeedPositionInfos(profession, country, language, page_lang)\n",
    "                        driver.execute_script(\"arguments[0].click();\", pagination_next_element)\n",
    "                        \n",
    "                        try:\n",
    "                            pagination_next_element = driver.find_element(By.XPATH, \"//nav/ul/li/a[@data-testid='pagination-page-next']\")\n",
    "                        except Exception:\n",
    "                            pagination_next_element = None\n",
    "        \n",
    "        # Update or add the line entry in the progress file\n",
    "        if line_idx == -1:\n",
    "            lines.append(line + \" (end)\\n\")\n",
    "        else:\n",
    "            lines[line_idx] = line + \" (end)\\n\"\n",
    "    \n",
    "    driver.close()\n",
    "\n",
    "except Exception as e:\n",
    "    print(e)\n",
    "    driver.close()\n",
    "\n",
    "print(\"Ligne \" + line)\n",
    "print(line_idx)\n",
    "\n",
    "# Check if line entry is already in the progress list, add it if not\n",
    "if line not in lines:\n",
    "    if \"(end)\" not in lines:\n",
    "        lines.append(line)\n",
    "\n",
    "# Write the updated lines back to the progress file\n",
    "with open(\"data_retriever_progress.txt\", 'w', encoding='utf-8') as data_retriever_progress_file:\n",
    "    data_retriever_progress_file.writelines(lines)\n"
   ]
  },
  {
   "cell_type": "code",
   "execution_count": null,
   "metadata": {},
   "outputs": [
    {
     "data": {
      "text/plain": [
       "0"
      ]
     },
     "execution_count": 15,
     "metadata": {},
     "output_type": "execute_result"
    }
   ],
   "source": [
    "len(positionsDetailsList)"
   ]
  },
  {
   "cell_type": "code",
   "execution_count": null,
   "metadata": {},
   "outputs": [],
   "source": [
    "if mongo_manager.get_if_database_is_available_for_adding_data(positionsDetailsList):\n",
    "    for country in tqdm(positionsDetailsList.keys()):\n",
    "        for profession in tqdm(positionsDetailsList[country].keys()):\n",
    "            try:\n",
    "                mongo_manager.update_data_before_save_new_json_with_GridFS(country,{profession:positionsDetailsList[country][profession]})\n",
    "            except Exception as e:\n",
    "                print(e)\n",
    "else:\n",
    "    mongo_manager_2 = MongoDBManager(os.getenv('MONGODB_URI_2'), database_name)\n",
    "    if mongo_manager_2.get_if_database_is_available_for_adding_data(positionsDetailsList):\n",
    "        for country in tqdm(positionsDetailsList.keys()):\n",
    "            for profession in tqdm(positionsDetailsList[country].keys()):\n",
    "                try:\n",
    "                    mongo_manager_2.update_data_before_save_new_json_with_GridFS(country,{profession:positionsDetailsList[country][profession]})\n",
    "                except Exception as e:\n",
    "                    print(e)\n",
    "    else:\n",
    "        print(\"No database available for adding data\")"
   ]
  },
  {
   "cell_type": "markdown",
   "metadata": {},
   "source": [
    "# Cuisine interne de betch :)"
   ]
  },
  {
   "cell_type": "code",
   "execution_count": null,
   "metadata": {},
   "outputs": [],
   "source": [
    "data=mongo_manager.read_all_documents_in_collection_with_GridFS()"
   ]
  },
  {
   "cell_type": "code",
   "execution_count": null,
   "metadata": {},
   "outputs": [
    {
     "name": "stdout",
     "output_type": "stream",
     "text": [
      "Find and solve error\n"
     ]
    }
   ],
   "source": [
    "mongo_manager.find_and_solve_error()"
   ]
  },
  {
   "cell_type": "code",
   "execution_count": null,
   "metadata": {},
   "outputs": [],
   "source": [
    "import json\n",
    "positionsDetailsList=json.load(open('temp_data copy.json'))"
   ]
  },
  {
   "cell_type": "code",
   "execution_count": null,
   "metadata": {},
   "outputs": [
    {
     "name": "stdout",
     "output_type": "stream",
     "text": [
      "Dictionary saved in temp_data.json\n",
      "File size: 44488542 bytes\n"
     ]
    },
    {
     "data": {
      "text/plain": [
       "42.42757987976074"
      ]
     },
     "execution_count": 5,
     "metadata": {},
     "output_type": "execute_result"
    }
   ],
   "source": [
    "mongo_manager.gettotalsizeof(positionsDetailsList)/1024/1024"
   ]
  },
  {
   "cell_type": "code",
   "execution_count": null,
   "metadata": {},
   "outputs": [
    {
     "name": "stdout",
     "output_type": "stream",
     "text": [
      "Taille des données existante : 16.92078399658203\n",
      "Taille des données à ajouter : 0.00017547607421875\n",
      "Taille restante Estimée après ajout de la nouvelle donnée: 495.07904052734375\n",
      "Database is available to add data\n"
     ]
    },
    {
     "data": {
      "text/plain": [
       "True"
      ]
     },
     "execution_count": 14,
     "metadata": {},
     "output_type": "execute_result"
    }
   ],
   "source": [
    "mongo_manager.get_if_database_is_available_for_adding_data(positionsDetailsList)"
   ]
  },
  {
   "cell_type": "code",
   "execution_count": null,
   "metadata": {},
   "outputs": [],
   "source": [
    "def data_recurcive_length(data):\n",
    "    try:\n",
    "        for key in data.keys():\n",
    "            for profession in data[key].keys():\n",
    "                for language in data[key][profession].keys():\n",
    "                    print(f\"{key} - {profession} - {language} : {len(data[key][profession][language])}\")\n",
    "    except Exception as e:\n",
    "        print(e)\n",
    "        print(data[key][profession])"
   ]
  },
  {
   "cell_type": "code",
   "execution_count": null,
   "metadata": {},
   "outputs": [
    {
     "name": "stdout",
     "output_type": "stream",
     "text": [
      "US - Accompagnatrice spirituelle ou accompagnateur spirituel - en : 36\n",
      "US - Accompagnatrice, accompagnateur, musicienne ou musicien dans de petits ensembles - fr : 15\n",
      "US - Accompagnatrice, accompagnateur, musicienne ou musicien dans de petits ensembles - en : 1530\n",
      "France - Accompagnatrice spirituelle ou accompagnateur spirituel - fr : 8\n",
      "France - Accompagnatrice, accompagnateur, musicienne ou musicien dans de petits ensembles - fr : 972\n",
      "France - Accompagnatrice, accompagnateur, musicienne ou musicien dans de petits ensembles - en : 36\n",
      "Canada - Accompagnatrice, accompagnateur, musicienne ou musicien dans de petits ensembles - fr : 46\n",
      "Canada - Accompagnatrice, accompagnateur, musicienne ou musicien dans de petits ensembles - en : 460\n",
      "Canada - Acheteuse ou acheteur - fr : 271\n",
      "Canada - Acheteuse ou acheteur - en : 967\n"
     ]
    }
   ],
   "source": [
    "data_recurcive_length(positionsDetailsList)"
   ]
  },
  {
   "cell_type": "code",
   "execution_count": null,
   "metadata": {},
   "outputs": [
    {
     "name": "stdout",
     "output_type": "stream",
     "text": [
      "Canada - Agente ou agent communautaire, de développement, de planification, des politiques sociales, de programmation, de recherche - fr : 13\n",
      "Canada - Accompagnatrice spirituelle ou accompagnateur spirituel - fr : 101\n",
      "Canada - Accompagnatrice spirituelle ou accompagnateur spirituel - en : 23\n",
      "Canada - Accompagnatrice, accompagnateur, musicienne ou musicien dans de petits ensembles - fr : 179\n",
      "Canada - Accompagnatrice, accompagnateur, musicienne ou musicien dans de petits ensembles - en : 1040\n",
      "Canada - Actuaire - fr : 119\n",
      "Canada - Actuaire - en : 609\n",
      "Canada - Acheteuse ou acheteur - fr : 634\n",
      "Canada - Acheteuse ou acheteur - en : 1212\n",
      "Canada - Adjointe ou adjoint à la recherche - fr : 705\n",
      "Canada - Adjointe ou adjoint à la recherche - en : 907\n",
      "Canada - Administratrice ou administrateur - fr : 518\n",
      "Canada - Administratrice ou administrateur - en : 1398\n",
      "Canada - Administratrice ou administrateur de contrats - fr : 128\n",
      "Canada - Administratrice ou administrateur de contrats - en : 1104\n",
      "Canada - Administratrice ou administrateur de programmes de développement durable - fr : 91\n",
      "Canada - Administratrice ou administrateur de programmes de développement durable - en : 409\n",
      "Canada - Administratrice ou administrateur de prêts commerciaux - fr : 77\n",
      "Canada - Administratrice ou administrateur de prêts commerciaux - en : 114\n",
      "Canada - Agent ou agente d’approvisionnement et de gestion contractuelle - fr : 92\n",
      "Canada - Agent ou agente d’approvisionnement et de gestion contractuelle - en : 492\n",
      "US - Accompagnatrice spirituelle ou accompagnateur spirituel - en : 68\n",
      "US - Accompagnatrice spirituelle ou accompagnateur spirituel - fr : 18\n",
      "US - Accompagnatrice, accompagnateur, musicienne ou musicien dans de petits ensembles - fr : 27\n",
      "US - Accompagnatrice, accompagnateur, musicienne ou musicien dans de petits ensembles - en : 2723\n",
      "US - Actuaire - en : 108\n",
      "US - Adjointe ou adjoint à la recherche - en : 236\n",
      "US - Administratrice ou administrateur - fr : 8\n",
      "US - Administratrice ou administrateur - en : 1678\n",
      "US - Administratrice ou administrateur de contrats - fr : 25\n",
      "US - Administratrice ou administrateur de contrats - en : 522\n",
      "US - Administratrice ou administrateur de programmes de développement durable - fr : 12\n",
      "US - Administratrice ou administrateur de programmes de développement durable - en : 1024\n",
      "US - Administratrice ou administrateur de prêts commerciaux - fr : 51\n",
      "US - Administratrice ou administrateur de prêts commerciaux - en : 999\n",
      "US - Agent ou agente d’approvisionnement et de gestion contractuelle - en : 3460\n",
      "US - Agent ou agente d’approvisionnement et de gestion contractuelle - fr : 96\n",
      "France - Accompagnatrice spirituelle ou accompagnateur spirituel - fr : 20\n",
      "France - Accompagnatrice, accompagnateur, musicienne ou musicien dans de petits ensembles - fr : 1288\n",
      "France - Accompagnatrice, accompagnateur, musicienne ou musicien dans de petits ensembles - en : 36\n",
      "France - Actuaire - fr : 18\n",
      "France - Administratrice ou administrateur - fr : 16\n",
      "France - Agent ou agente d’approvisionnement et de gestion contractuelle - fr : 15\n"
     ]
    }
   ],
   "source": [
    "data_recurcive_length(data)"
   ]
  },
  {
   "cell_type": "code",
   "execution_count": null,
   "metadata": {},
   "outputs": [
    {
     "name": "stdout",
     "output_type": "stream",
     "text": [
      "Canada - Analyste financière ou analyste financier - fr\n",
      "Canada - Analyste de marché - fr\n",
      "Canada - Analyste de marché - en\n",
      "Canada - Trésorière, trésorier ou gestionnaire de la trésorerie - fr\n",
      "Canada - Trésorière, trésorier ou gestionnaire de la trésorerie - en\n",
      "US - Analyste de marché - fr\n",
      "US - Analyste de marché - en\n",
      "US - Trésorière, trésorier ou gestionnaire de la trésorerie - fr\n",
      "Nothing to update\n",
      "US - Trésorière, trésorier ou gestionnaire de la trésorerie - en\n",
      "France - Trésorière, trésorier ou gestionnaire de la trésorerie - fr\n",
      "Nothing to update\n",
      "France - Trésorière, trésorier ou gestionnaire de la trésorerie - en\n",
      "Nothing to update\n"
     ]
    }
   ],
   "source": [
    "update_data=json.load(open('data.json'))\n",
    "for country in data:\n",
    "    if country not in update_data:\n",
    "        update_data[country] = {}\n",
    "    for key, nested_data in data[country].items():\n",
    "        if key not in countries:\n",
    "            if key not in update_data[country]:\n",
    "                update_data[country][key] = {}\n",
    "            for key2, values in nested_data.items():\n",
    "                print(f\"{country} - {key} - {key2}\")\n",
    "                if key2 in update_data[country][key] and len(update_data[country][key][key2]) == len(values):\n",
    "                    print(\"Nothing to update\")\n",
    "                    continue\n",
    "                if key2 in update_data[country][key]:\n",
    "                    update_data[country][key][key2].extend(values)\n",
    "                else:\n",
    "                    update_data[country][key][key2] = values"
   ]
  },
  {
   "cell_type": "code",
   "execution_count": null,
   "metadata": {},
   "outputs": [
    {
     "name": "stdout",
     "output_type": "stream",
     "text": [
      "Canada - Analyste financière ou analyste financier - fr : 690\n",
      "Canada - Analyste financière ou analyste financier - en : 1081\n",
      "Canada - Trésorière, trésorier ou gestionnaire de la trésorerie - fr : 437\n",
      "Canada - Trésorière, trésorier ou gestionnaire de la trésorerie - en : 3687\n",
      "Canada - Analyste de marché - fr : 391\n",
      "Canada - Analyste de marché - en : 1058\n",
      "US - Trésorière, trésorier ou gestionnaire de la trésorerie - fr : 7\n",
      "US - Trésorière, trésorier ou gestionnaire de la trésorerie - en : 3962\n",
      "US - Analyste de marché - fr : 7\n",
      "US - Analyste de marché - en : 720\n",
      "France - Trésorière, trésorier ou gestionnaire de la trésorerie - fr : 306\n",
      "France - Trésorière, trésorier ou gestionnaire de la trésorerie - en : 198\n"
     ]
    }
   ],
   "source": [
    "data_recurcive_length(update_data)"
   ]
  },
  {
   "cell_type": "code",
   "execution_count": null,
   "metadata": {},
   "outputs": [
    {
     "data": {
      "application/vnd.jupyter.widget-view+json": {
       "model_id": "7c8ca356eb634a9994e017c33e038689",
       "version_major": 2,
       "version_minor": 0
      },
      "text/plain": [
       "Countries:   0%|          | 0/3 [00:00<?, ?it/s]"
      ]
     },
     "metadata": {},
     "output_type": "display_data"
    },
    {
     "data": {
      "application/vnd.jupyter.widget-view+json": {
       "model_id": "110ffc4aa94f4d5ab5501dd5039b33b9",
       "version_major": 2,
       "version_minor": 0
      },
      "text/plain": [
       "  0%|          | 0/3 [00:00<?, ?it/s]"
      ]
     },
     "metadata": {},
     "output_type": "display_data"
    },
    {
     "name": "stdout",
     "output_type": "stream",
     "text": [
      "dict_keys([])\n",
      "Data added to Canada with file_id: 66c0fdd05f22bec961a5d6ef\n",
      "\n",
      "dict_keys(['Analyste financière ou analyste financier'])\n",
      "Data added to Canada with file_id: 66c0fddf5f22bec961a5d717\n",
      "\n",
      "dict_keys(['Analyste financière ou analyste financier', 'Trésorière, trésorier ou gestionnaire de la trésorerie'])\n",
      "Data added to Canada with file_id: 66c0fe1a5f22bec961a5d793\n",
      "\n"
     ]
    },
    {
     "data": {
      "application/vnd.jupyter.widget-view+json": {
       "model_id": "e13628c37f634e05a31be859ee571906",
       "version_major": 2,
       "version_minor": 0
      },
      "text/plain": [
       "Languages:   0%|          | 0/2 [00:00<?, ?it/s]"
      ]
     },
     "metadata": {},
     "output_type": "display_data"
    },
    {
     "name": "stdout",
     "output_type": "stream",
     "text": [
      "dict_keys([])\n",
      "Data added to US with file_id: 66c0fe2f5f22bec961a5d833\n",
      "\n",
      "dict_keys(['Trésorière, trésorier ou gestionnaire de la trésorerie'])\n",
      "Data added to US with file_id: 66c0fe495f22bec961a5d88f\n",
      "\n"
     ]
    },
    {
     "data": {
      "application/vnd.jupyter.widget-view+json": {
       "model_id": "43f9e954d66447f6b55c468c2abe8805",
       "version_major": 2,
       "version_minor": 0
      },
      "text/plain": [
       "  0%|          | 0/1 [00:00<?, ?it/s]"
      ]
     },
     "metadata": {},
     "output_type": "display_data"
    },
    {
     "name": "stdout",
     "output_type": "stream",
     "text": [
      "dict_keys([])\n",
      "Data added to France with file_id: 66c0fe525f22bec961a5d8fa\n",
      "\n"
     ]
    }
   ],
   "source": [
    "for country in tqdm(update_data.keys()):\n",
    "    for profession in tqdm(update_data[country].keys()):\n",
    "        try:\n",
    "            mongo_manager.update_data_before_save_new_json_with_GridFS(country,{profession:update_data[country][profession]})\n",
    "        except Exception as e:\n",
    "            print(e)"
   ]
  },
  {
   "cell_type": "code",
   "execution_count": null,
   "metadata": {},
   "outputs": [
    {
     "ename": "KeyboardInterrupt",
     "evalue": "",
     "output_type": "error",
     "traceback": [
      "\u001b[1;31m---------------------------------------------------------------------------\u001b[0m",
      "\u001b[1;31mKeyboardInterrupt\u001b[0m                         Traceback (most recent call last)",
      "Cell \u001b[1;32mIn[19], line 1\u001b[0m\n\u001b[1;32m----> 1\u001b[0m db_data\u001b[38;5;241m=\u001b[39m\u001b[43mmongo_manager\u001b[49m\u001b[38;5;241;43m.\u001b[39;49m\u001b[43mread_all_documents_in_collection_with_GridFS\u001b[49m\u001b[43m(\u001b[49m\u001b[43m)\u001b[49m\n\u001b[0;32m      2\u001b[0m \u001b[38;5;66;03m# with open('data.json', 'w') as fichier:\u001b[39;00m\n\u001b[0;32m      3\u001b[0m \u001b[38;5;66;03m#     json.dump(positionsDetailsList, fichier)\u001b[39;00m\n",
      "File \u001b[1;32mc:\\Users\\PC\\Desktop\\Projects\\Projet Deoth\\IndeedRecommender\\mongo.py:130\u001b[0m, in \u001b[0;36mMongoDBManager.read_all_documents_in_collection_with_GridFS\u001b[1;34m(self)\u001b[0m\n\u001b[0;32m    128\u001b[0m all_docs \u001b[38;5;241m=\u001b[39m {}\n\u001b[0;32m    129\u001b[0m \u001b[38;5;28;01mfor\u001b[39;00m file \u001b[38;5;129;01min\u001b[39;00m \u001b[38;5;28mself\u001b[39m\u001b[38;5;241m.\u001b[39mfs\u001b[38;5;241m.\u001b[39mfind():\n\u001b[1;32m--> 130\u001b[0m     loaded_data \u001b[38;5;241m=\u001b[39m json\u001b[38;5;241m.\u001b[39mloads(\u001b[43mfile\u001b[49m\u001b[38;5;241;43m.\u001b[39;49m\u001b[43mread\u001b[49m\u001b[43m(\u001b[49m\u001b[43m)\u001b[49m\u001b[38;5;241m.\u001b[39mdecode(\u001b[38;5;124m'\u001b[39m\u001b[38;5;124mutf-8\u001b[39m\u001b[38;5;124m'\u001b[39m))\n\u001b[0;32m    131\u001b[0m     all_docs[file\u001b[38;5;241m.\u001b[39mfilename[:\u001b[38;5;241m-\u001b[39m\u001b[38;5;241m5\u001b[39m]] \u001b[38;5;241m=\u001b[39m {key: value \u001b[38;5;28;01mfor\u001b[39;00m key, value \u001b[38;5;129;01min\u001b[39;00m loaded_data\u001b[38;5;241m.\u001b[39mitems() \u001b[38;5;28;01mif\u001b[39;00m key \u001b[38;5;241m!=\u001b[39m \u001b[38;5;124m'\u001b[39m\u001b[38;5;124m_id\u001b[39m\u001b[38;5;124m'\u001b[39m}\n\u001b[0;32m    132\u001b[0m \u001b[38;5;28;01mreturn\u001b[39;00m all_docs\n",
      "File \u001b[1;32mc:\\Python311\\Lib\\site-packages\\gridfs\\grid_file.py:664\u001b[0m, in \u001b[0;36mGridOut.read\u001b[1;34m(self, size)\u001b[0m\n\u001b[0;32m    650\u001b[0m \u001b[38;5;28;01mdef\u001b[39;00m \u001b[38;5;21mread\u001b[39m(\u001b[38;5;28mself\u001b[39m, size: \u001b[38;5;28mint\u001b[39m \u001b[38;5;241m=\u001b[39m \u001b[38;5;241m-\u001b[39m\u001b[38;5;241m1\u001b[39m) \u001b[38;5;241m-\u001b[39m\u001b[38;5;241m>\u001b[39m \u001b[38;5;28mbytes\u001b[39m:\n\u001b[0;32m    651\u001b[0m \u001b[38;5;250m    \u001b[39m\u001b[38;5;124;03m\"\"\"Read at most `size` bytes from the file (less if there\u001b[39;00m\n\u001b[0;32m    652\u001b[0m \u001b[38;5;124;03m    isn't enough data).\u001b[39;00m\n\u001b[0;32m    653\u001b[0m \n\u001b[1;32m   (...)\u001b[0m\n\u001b[0;32m    662\u001b[0m \u001b[38;5;124;03m       on every call.\u001b[39;00m\n\u001b[0;32m    663\u001b[0m \u001b[38;5;124;03m    \"\"\"\u001b[39;00m\n\u001b[1;32m--> 664\u001b[0m     \u001b[38;5;28;01mreturn\u001b[39;00m \u001b[38;5;28;43mself\u001b[39;49m\u001b[38;5;241;43m.\u001b[39;49m\u001b[43m_read_size_or_line\u001b[49m\u001b[43m(\u001b[49m\u001b[43msize\u001b[49m\u001b[38;5;241;43m=\u001b[39;49m\u001b[43msize\u001b[49m\u001b[43m)\u001b[49m\n",
      "File \u001b[1;32mc:\\Python311\\Lib\\site-packages\\gridfs\\grid_file.py:622\u001b[0m, in \u001b[0;36mGridOut._read_size_or_line\u001b[1;34m(self, size, line)\u001b[0m\n\u001b[0;32m    620\u001b[0m     \u001b[38;5;28mself\u001b[39m\u001b[38;5;241m.\u001b[39m__position \u001b[38;5;241m+\u001b[39m\u001b[38;5;241m=\u001b[39m \u001b[38;5;28mlen\u001b[39m(chunk_data)\n\u001b[0;32m    621\u001b[0m \u001b[38;5;28;01melse\u001b[39;00m:\n\u001b[1;32m--> 622\u001b[0m     buf \u001b[38;5;241m=\u001b[39m \u001b[38;5;28;43mself\u001b[39;49m\u001b[38;5;241;43m.\u001b[39;49m\u001b[43mreadchunk\u001b[49m\u001b[43m(\u001b[49m\u001b[43m)\u001b[49m\n\u001b[0;32m    623\u001b[0m     chunk_start \u001b[38;5;241m=\u001b[39m \u001b[38;5;241m0\u001b[39m\n\u001b[0;32m    624\u001b[0m     chunk_data \u001b[38;5;241m=\u001b[39m \u001b[38;5;28mmemoryview\u001b[39m(buf)\n",
      "File \u001b[1;32mc:\\Python311\\Lib\\site-packages\\gridfs\\grid_file.py:588\u001b[0m, in \u001b[0;36mGridOut.readchunk\u001b[1;34m(self)\u001b[0m\n\u001b[0;32m    583\u001b[0m \u001b[38;5;28;01mif\u001b[39;00m \u001b[38;5;28mself\u001b[39m\u001b[38;5;241m.\u001b[39m__chunk_iter \u001b[38;5;129;01mis\u001b[39;00m \u001b[38;5;28;01mNone\u001b[39;00m:\n\u001b[0;32m    584\u001b[0m     \u001b[38;5;28mself\u001b[39m\u001b[38;5;241m.\u001b[39m__chunk_iter \u001b[38;5;241m=\u001b[39m _GridOutChunkIterator(\n\u001b[0;32m    585\u001b[0m         \u001b[38;5;28mself\u001b[39m, \u001b[38;5;28mself\u001b[39m\u001b[38;5;241m.\u001b[39m__chunks, \u001b[38;5;28mself\u001b[39m\u001b[38;5;241m.\u001b[39m_session, chunk_number\n\u001b[0;32m    586\u001b[0m     )\n\u001b[1;32m--> 588\u001b[0m chunk \u001b[38;5;241m=\u001b[39m \u001b[38;5;28;43mself\u001b[39;49m\u001b[38;5;241;43m.\u001b[39;49m\u001b[43m__chunk_iter\u001b[49m\u001b[38;5;241;43m.\u001b[39;49m\u001b[43mnext\u001b[49m\u001b[43m(\u001b[49m\u001b[43m)\u001b[49m\n\u001b[0;32m    589\u001b[0m chunk_data \u001b[38;5;241m=\u001b[39m chunk[\u001b[38;5;124m\"\u001b[39m\u001b[38;5;124mdata\u001b[39m\u001b[38;5;124m\"\u001b[39m][\u001b[38;5;28mself\u001b[39m\u001b[38;5;241m.\u001b[39m__position \u001b[38;5;241m%\u001b[39m chunk_size :]\n\u001b[0;32m    591\u001b[0m \u001b[38;5;28;01mif\u001b[39;00m \u001b[38;5;129;01mnot\u001b[39;00m chunk_data:\n",
      "File \u001b[1;32mc:\\Python311\\Lib\\site-packages\\gridfs\\grid_file.py:850\u001b[0m, in \u001b[0;36m_GridOutChunkIterator.next\u001b[1;34m(self)\u001b[0m\n\u001b[0;32m    848\u001b[0m \u001b[38;5;28;01mdef\u001b[39;00m \u001b[38;5;21mnext\u001b[39m(\u001b[38;5;28mself\u001b[39m) \u001b[38;5;241m-\u001b[39m\u001b[38;5;241m>\u001b[39m Mapping[\u001b[38;5;28mstr\u001b[39m, Any]:\n\u001b[0;32m    849\u001b[0m     \u001b[38;5;28;01mtry\u001b[39;00m:\n\u001b[1;32m--> 850\u001b[0m         chunk \u001b[38;5;241m=\u001b[39m \u001b[38;5;28;43mself\u001b[39;49m\u001b[38;5;241;43m.\u001b[39;49m\u001b[43m_next_with_retry\u001b[49m\u001b[43m(\u001b[49m\u001b[43m)\u001b[49m\n\u001b[0;32m    851\u001b[0m     \u001b[38;5;28;01mexcept\u001b[39;00m \u001b[38;5;167;01mStopIteration\u001b[39;00m:\n\u001b[0;32m    852\u001b[0m         \u001b[38;5;28;01mif\u001b[39;00m \u001b[38;5;28mself\u001b[39m\u001b[38;5;241m.\u001b[39m_next_chunk \u001b[38;5;241m>\u001b[39m\u001b[38;5;241m=\u001b[39m \u001b[38;5;28mself\u001b[39m\u001b[38;5;241m.\u001b[39m_num_chunks:\n",
      "File \u001b[1;32mc:\\Python311\\Lib\\site-packages\\gridfs\\grid_file.py:842\u001b[0m, in \u001b[0;36m_GridOutChunkIterator._next_with_retry\u001b[1;34m(self)\u001b[0m\n\u001b[0;32m    840\u001b[0m     \u001b[38;5;28;01massert\u001b[39;00m \u001b[38;5;28mself\u001b[39m\u001b[38;5;241m.\u001b[39m_cursor \u001b[38;5;129;01mis\u001b[39;00m \u001b[38;5;129;01mnot\u001b[39;00m \u001b[38;5;28;01mNone\u001b[39;00m\n\u001b[0;32m    841\u001b[0m \u001b[38;5;28;01mtry\u001b[39;00m:\n\u001b[1;32m--> 842\u001b[0m     \u001b[38;5;28;01mreturn\u001b[39;00m \u001b[38;5;28;43mself\u001b[39;49m\u001b[38;5;241;43m.\u001b[39;49m\u001b[43m_cursor\u001b[49m\u001b[38;5;241;43m.\u001b[39;49m\u001b[43mnext\u001b[49m\u001b[43m(\u001b[49m\u001b[43m)\u001b[49m\n\u001b[0;32m    843\u001b[0m \u001b[38;5;28;01mexcept\u001b[39;00m CursorNotFound:\n\u001b[0;32m    844\u001b[0m     \u001b[38;5;28mself\u001b[39m\u001b[38;5;241m.\u001b[39m_cursor\u001b[38;5;241m.\u001b[39mclose()\n",
      "File \u001b[1;32mc:\\Python311\\Lib\\site-packages\\pymongo\\cursor.py:1243\u001b[0m, in \u001b[0;36mCursor.next\u001b[1;34m(self)\u001b[0m\n\u001b[0;32m   1241\u001b[0m \u001b[38;5;28;01mif\u001b[39;00m \u001b[38;5;28mself\u001b[39m\u001b[38;5;241m.\u001b[39m__empty:\n\u001b[0;32m   1242\u001b[0m     \u001b[38;5;28;01mraise\u001b[39;00m \u001b[38;5;167;01mStopIteration\u001b[39;00m\n\u001b[1;32m-> 1243\u001b[0m \u001b[38;5;28;01mif\u001b[39;00m \u001b[38;5;28mlen\u001b[39m(\u001b[38;5;28mself\u001b[39m\u001b[38;5;241m.\u001b[39m__data) \u001b[38;5;129;01mor\u001b[39;00m \u001b[38;5;28;43mself\u001b[39;49m\u001b[38;5;241;43m.\u001b[39;49m\u001b[43m_refresh\u001b[49m\u001b[43m(\u001b[49m\u001b[43m)\u001b[49m:\n\u001b[0;32m   1244\u001b[0m     \u001b[38;5;28;01mreturn\u001b[39;00m \u001b[38;5;28mself\u001b[39m\u001b[38;5;241m.\u001b[39m__data\u001b[38;5;241m.\u001b[39mpopleft()\n\u001b[0;32m   1245\u001b[0m \u001b[38;5;28;01melse\u001b[39;00m:\n",
      "File \u001b[1;32mc:\\Python311\\Lib\\site-packages\\pymongo\\cursor.py:1160\u001b[0m, in \u001b[0;36mCursor._refresh\u001b[1;34m(self)\u001b[0m\n\u001b[0;32m   1138\u001b[0m         \u001b[38;5;28;01mraise\u001b[39;00m InvalidOperation(\n\u001b[0;32m   1139\u001b[0m             \u001b[38;5;124m\"\u001b[39m\u001b[38;5;124mPassing a \u001b[39m\u001b[38;5;124m'\u001b[39m\u001b[38;5;124mhint\u001b[39m\u001b[38;5;124m'\u001b[39m\u001b[38;5;124m is required when using the min/max query\u001b[39m\u001b[38;5;124m\"\u001b[39m\n\u001b[0;32m   1140\u001b[0m             \u001b[38;5;124m\"\u001b[39m\u001b[38;5;124m option to ensure the query utilizes the correct index\u001b[39m\u001b[38;5;124m\"\u001b[39m\n\u001b[0;32m   1141\u001b[0m         )\n\u001b[0;32m   1142\u001b[0m     q \u001b[38;5;241m=\u001b[39m \u001b[38;5;28mself\u001b[39m\u001b[38;5;241m.\u001b[39m_query_class(\n\u001b[0;32m   1143\u001b[0m         \u001b[38;5;28mself\u001b[39m\u001b[38;5;241m.\u001b[39m__query_flags,\n\u001b[0;32m   1144\u001b[0m         \u001b[38;5;28mself\u001b[39m\u001b[38;5;241m.\u001b[39m__collection\u001b[38;5;241m.\u001b[39mdatabase\u001b[38;5;241m.\u001b[39mname,\n\u001b[1;32m   (...)\u001b[0m\n\u001b[0;32m   1158\u001b[0m         \u001b[38;5;28mself\u001b[39m\u001b[38;5;241m.\u001b[39m__exhaust,\n\u001b[0;32m   1159\u001b[0m     )\n\u001b[1;32m-> 1160\u001b[0m     \u001b[38;5;28;43mself\u001b[39;49m\u001b[38;5;241;43m.\u001b[39;49m\u001b[43m__send_message\u001b[49m\u001b[43m(\u001b[49m\u001b[43mq\u001b[49m\u001b[43m)\u001b[49m\n\u001b[0;32m   1161\u001b[0m \u001b[38;5;28;01melif\u001b[39;00m \u001b[38;5;28mself\u001b[39m\u001b[38;5;241m.\u001b[39m__id:  \u001b[38;5;66;03m# Get More\u001b[39;00m\n\u001b[0;32m   1162\u001b[0m     \u001b[38;5;28;01mif\u001b[39;00m \u001b[38;5;28mself\u001b[39m\u001b[38;5;241m.\u001b[39m__limit:\n",
      "File \u001b[1;32mc:\\Python311\\Lib\\site-packages\\pymongo\\cursor.py:1039\u001b[0m, in \u001b[0;36mCursor.__send_message\u001b[1;34m(self, operation)\u001b[0m\n\u001b[0;32m   1036\u001b[0m     \u001b[38;5;28;01mraise\u001b[39;00m InvalidOperation(\u001b[38;5;124m\"\u001b[39m\u001b[38;5;124mexhaust cursors do not support auto encryption\u001b[39m\u001b[38;5;124m\"\u001b[39m)\n\u001b[0;32m   1038\u001b[0m \u001b[38;5;28;01mtry\u001b[39;00m:\n\u001b[1;32m-> 1039\u001b[0m     response \u001b[38;5;241m=\u001b[39m \u001b[43mclient\u001b[49m\u001b[38;5;241;43m.\u001b[39;49m\u001b[43m_run_operation\u001b[49m\u001b[43m(\u001b[49m\n\u001b[0;32m   1040\u001b[0m \u001b[43m        \u001b[49m\u001b[43moperation\u001b[49m\u001b[43m,\u001b[49m\u001b[43m \u001b[49m\u001b[38;5;28;43mself\u001b[39;49m\u001b[38;5;241;43m.\u001b[39;49m\u001b[43m_unpack_response\u001b[49m\u001b[43m,\u001b[49m\u001b[43m \u001b[49m\u001b[43maddress\u001b[49m\u001b[38;5;241;43m=\u001b[39;49m\u001b[38;5;28;43mself\u001b[39;49m\u001b[38;5;241;43m.\u001b[39;49m\u001b[43m__address\u001b[49m\n\u001b[0;32m   1041\u001b[0m \u001b[43m    \u001b[49m\u001b[43m)\u001b[49m\n\u001b[0;32m   1042\u001b[0m \u001b[38;5;28;01mexcept\u001b[39;00m OperationFailure \u001b[38;5;28;01mas\u001b[39;00m exc:\n\u001b[0;32m   1043\u001b[0m     \u001b[38;5;28;01mif\u001b[39;00m exc\u001b[38;5;241m.\u001b[39mcode \u001b[38;5;129;01min\u001b[39;00m _CURSOR_CLOSED_ERRORS \u001b[38;5;129;01mor\u001b[39;00m \u001b[38;5;28mself\u001b[39m\u001b[38;5;241m.\u001b[39m__exhaust:\n\u001b[0;32m   1044\u001b[0m         \u001b[38;5;66;03m# Don't send killCursors because the cursor is already closed.\u001b[39;00m\n",
      "File \u001b[1;32mc:\\Python311\\Lib\\site-packages\\pymongo\\_csot.py:108\u001b[0m, in \u001b[0;36mapply.<locals>.csot_wrapper\u001b[1;34m(self, *args, **kwargs)\u001b[0m\n\u001b[0;32m    106\u001b[0m         \u001b[38;5;28;01mwith\u001b[39;00m _TimeoutContext(timeout):\n\u001b[0;32m    107\u001b[0m             \u001b[38;5;28;01mreturn\u001b[39;00m func(\u001b[38;5;28mself\u001b[39m, \u001b[38;5;241m*\u001b[39margs, \u001b[38;5;241m*\u001b[39m\u001b[38;5;241m*\u001b[39mkwargs)\n\u001b[1;32m--> 108\u001b[0m \u001b[38;5;28;01mreturn\u001b[39;00m \u001b[43mfunc\u001b[49m\u001b[43m(\u001b[49m\u001b[38;5;28;43mself\u001b[39;49m\u001b[43m,\u001b[49m\u001b[43m \u001b[49m\u001b[38;5;241;43m*\u001b[39;49m\u001b[43margs\u001b[49m\u001b[43m,\u001b[49m\u001b[43m \u001b[49m\u001b[38;5;241;43m*\u001b[39;49m\u001b[38;5;241;43m*\u001b[39;49m\u001b[43mkwargs\u001b[49m\u001b[43m)\u001b[49m\n",
      "File \u001b[1;32mc:\\Python311\\Lib\\site-packages\\pymongo\\mongo_client.py:1431\u001b[0m, in \u001b[0;36mMongoClient._run_operation\u001b[1;34m(self, operation, unpack_res, address)\u001b[0m\n\u001b[0;32m   1421\u001b[0m     operation\u001b[38;5;241m.\u001b[39mreset()  \u001b[38;5;66;03m# Reset op in case of retry.\u001b[39;00m\n\u001b[0;32m   1422\u001b[0m     \u001b[38;5;28;01mreturn\u001b[39;00m server\u001b[38;5;241m.\u001b[39mrun_operation(\n\u001b[0;32m   1423\u001b[0m         conn,\n\u001b[0;32m   1424\u001b[0m         operation,\n\u001b[1;32m   (...)\u001b[0m\n\u001b[0;32m   1428\u001b[0m         \u001b[38;5;28mself\u001b[39m,\n\u001b[0;32m   1429\u001b[0m     )\n\u001b[1;32m-> 1431\u001b[0m \u001b[38;5;28;01mreturn\u001b[39;00m \u001b[38;5;28;43mself\u001b[39;49m\u001b[38;5;241;43m.\u001b[39;49m\u001b[43m_retryable_read\u001b[49m\u001b[43m(\u001b[49m\n\u001b[0;32m   1432\u001b[0m \u001b[43m    \u001b[49m\u001b[43m_cmd\u001b[49m\u001b[43m,\u001b[49m\n\u001b[0;32m   1433\u001b[0m \u001b[43m    \u001b[49m\u001b[43moperation\u001b[49m\u001b[38;5;241;43m.\u001b[39;49m\u001b[43mread_preference\u001b[49m\u001b[43m,\u001b[49m\n\u001b[0;32m   1434\u001b[0m \u001b[43m    \u001b[49m\u001b[43moperation\u001b[49m\u001b[38;5;241;43m.\u001b[39;49m\u001b[43msession\u001b[49m\u001b[43m,\u001b[49m\n\u001b[0;32m   1435\u001b[0m \u001b[43m    \u001b[49m\u001b[43maddress\u001b[49m\u001b[38;5;241;43m=\u001b[39;49m\u001b[43maddress\u001b[49m\u001b[43m,\u001b[49m\n\u001b[0;32m   1436\u001b[0m \u001b[43m    \u001b[49m\u001b[43mretryable\u001b[49m\u001b[38;5;241;43m=\u001b[39;49m\u001b[38;5;28;43misinstance\u001b[39;49m\u001b[43m(\u001b[49m\u001b[43moperation\u001b[49m\u001b[43m,\u001b[49m\u001b[43m \u001b[49m\u001b[43mmessage\u001b[49m\u001b[38;5;241;43m.\u001b[39;49m\u001b[43m_Query\u001b[49m\u001b[43m)\u001b[49m\u001b[43m,\u001b[49m\n\u001b[0;32m   1437\u001b[0m \u001b[43m    \u001b[49m\u001b[43moperation\u001b[49m\u001b[38;5;241;43m=\u001b[39;49m\u001b[43moperation\u001b[49m\u001b[38;5;241;43m.\u001b[39;49m\u001b[43mname\u001b[49m\u001b[43m,\u001b[49m\n\u001b[0;32m   1438\u001b[0m \u001b[43m\u001b[49m\u001b[43m)\u001b[49m\n",
      "File \u001b[1;32mc:\\Python311\\Lib\\site-packages\\pymongo\\mongo_client.py:1540\u001b[0m, in \u001b[0;36mMongoClient._retryable_read\u001b[1;34m(self, func, read_pref, session, operation, address, retryable, operation_id)\u001b[0m\n\u001b[0;32m   1535\u001b[0m \u001b[38;5;66;03m# Ensure that the client supports retrying on reads and there is no session in\u001b[39;00m\n\u001b[0;32m   1536\u001b[0m \u001b[38;5;66;03m# transaction, otherwise, we will not support retry behavior for this call.\u001b[39;00m\n\u001b[0;32m   1537\u001b[0m retryable \u001b[38;5;241m=\u001b[39m \u001b[38;5;28mbool\u001b[39m(\n\u001b[0;32m   1538\u001b[0m     retryable \u001b[38;5;129;01mand\u001b[39;00m \u001b[38;5;28mself\u001b[39m\u001b[38;5;241m.\u001b[39moptions\u001b[38;5;241m.\u001b[39mretry_reads \u001b[38;5;129;01mand\u001b[39;00m \u001b[38;5;129;01mnot\u001b[39;00m (session \u001b[38;5;129;01mand\u001b[39;00m session\u001b[38;5;241m.\u001b[39min_transaction)\n\u001b[0;32m   1539\u001b[0m )\n\u001b[1;32m-> 1540\u001b[0m \u001b[38;5;28;01mreturn\u001b[39;00m \u001b[38;5;28;43mself\u001b[39;49m\u001b[38;5;241;43m.\u001b[39;49m\u001b[43m_retry_internal\u001b[49m\u001b[43m(\u001b[49m\n\u001b[0;32m   1541\u001b[0m \u001b[43m    \u001b[49m\u001b[43mfunc\u001b[49m\u001b[43m,\u001b[49m\n\u001b[0;32m   1542\u001b[0m \u001b[43m    \u001b[49m\u001b[43msession\u001b[49m\u001b[43m,\u001b[49m\n\u001b[0;32m   1543\u001b[0m \u001b[43m    \u001b[49m\u001b[38;5;28;43;01mNone\u001b[39;49;00m\u001b[43m,\u001b[49m\n\u001b[0;32m   1544\u001b[0m \u001b[43m    \u001b[49m\u001b[43moperation\u001b[49m\u001b[43m,\u001b[49m\n\u001b[0;32m   1545\u001b[0m \u001b[43m    \u001b[49m\u001b[43mis_read\u001b[49m\u001b[38;5;241;43m=\u001b[39;49m\u001b[38;5;28;43;01mTrue\u001b[39;49;00m\u001b[43m,\u001b[49m\n\u001b[0;32m   1546\u001b[0m \u001b[43m    \u001b[49m\u001b[43maddress\u001b[49m\u001b[38;5;241;43m=\u001b[39;49m\u001b[43maddress\u001b[49m\u001b[43m,\u001b[49m\n\u001b[0;32m   1547\u001b[0m \u001b[43m    \u001b[49m\u001b[43mread_pref\u001b[49m\u001b[38;5;241;43m=\u001b[39;49m\u001b[43mread_pref\u001b[49m\u001b[43m,\u001b[49m\n\u001b[0;32m   1548\u001b[0m \u001b[43m    \u001b[49m\u001b[43mretryable\u001b[49m\u001b[38;5;241;43m=\u001b[39;49m\u001b[43mretryable\u001b[49m\u001b[43m,\u001b[49m\n\u001b[0;32m   1549\u001b[0m \u001b[43m    \u001b[49m\u001b[43moperation_id\u001b[49m\u001b[38;5;241;43m=\u001b[39;49m\u001b[43moperation_id\u001b[49m\u001b[43m,\u001b[49m\n\u001b[0;32m   1550\u001b[0m \u001b[43m\u001b[49m\u001b[43m)\u001b[49m\n",
      "File \u001b[1;32mc:\\Python311\\Lib\\site-packages\\pymongo\\_csot.py:108\u001b[0m, in \u001b[0;36mapply.<locals>.csot_wrapper\u001b[1;34m(self, *args, **kwargs)\u001b[0m\n\u001b[0;32m    106\u001b[0m         \u001b[38;5;28;01mwith\u001b[39;00m _TimeoutContext(timeout):\n\u001b[0;32m    107\u001b[0m             \u001b[38;5;28;01mreturn\u001b[39;00m func(\u001b[38;5;28mself\u001b[39m, \u001b[38;5;241m*\u001b[39margs, \u001b[38;5;241m*\u001b[39m\u001b[38;5;241m*\u001b[39mkwargs)\n\u001b[1;32m--> 108\u001b[0m \u001b[38;5;28;01mreturn\u001b[39;00m \u001b[43mfunc\u001b[49m\u001b[43m(\u001b[49m\u001b[38;5;28;43mself\u001b[39;49m\u001b[43m,\u001b[49m\u001b[43m \u001b[49m\u001b[38;5;241;43m*\u001b[39;49m\u001b[43margs\u001b[49m\u001b[43m,\u001b[49m\u001b[43m \u001b[49m\u001b[38;5;241;43m*\u001b[39;49m\u001b[38;5;241;43m*\u001b[39;49m\u001b[43mkwargs\u001b[49m\u001b[43m)\u001b[49m\n",
      "File \u001b[1;32mc:\\Python311\\Lib\\site-packages\\pymongo\\mongo_client.py:1507\u001b[0m, in \u001b[0;36mMongoClient._retry_internal\u001b[1;34m(self, func, session, bulk, operation, is_read, address, read_pref, retryable, operation_id)\u001b[0m\n\u001b[0;32m   1470\u001b[0m \u001b[38;5;129m@_csot\u001b[39m\u001b[38;5;241m.\u001b[39mapply\n\u001b[0;32m   1471\u001b[0m \u001b[38;5;28;01mdef\u001b[39;00m \u001b[38;5;21m_retry_internal\u001b[39m(\n\u001b[0;32m   1472\u001b[0m     \u001b[38;5;28mself\u001b[39m,\n\u001b[1;32m   (...)\u001b[0m\n\u001b[0;32m   1481\u001b[0m     operation_id: Optional[\u001b[38;5;28mint\u001b[39m] \u001b[38;5;241m=\u001b[39m \u001b[38;5;28;01mNone\u001b[39;00m,\n\u001b[0;32m   1482\u001b[0m ) \u001b[38;5;241m-\u001b[39m\u001b[38;5;241m>\u001b[39m T:\n\u001b[0;32m   1483\u001b[0m \u001b[38;5;250m    \u001b[39m\u001b[38;5;124;03m\"\"\"Internal retryable helper for all client transactions.\u001b[39;00m\n\u001b[0;32m   1484\u001b[0m \n\u001b[0;32m   1485\u001b[0m \u001b[38;5;124;03m    :param func: Callback function we want to retry\u001b[39;00m\n\u001b[1;32m   (...)\u001b[0m\n\u001b[0;32m   1494\u001b[0m \u001b[38;5;124;03m    :return: Output of the calling func()\u001b[39;00m\n\u001b[0;32m   1495\u001b[0m \u001b[38;5;124;03m    \"\"\"\u001b[39;00m\n\u001b[0;32m   1496\u001b[0m     \u001b[38;5;28;01mreturn\u001b[39;00m \u001b[43m_ClientConnectionRetryable\u001b[49m\u001b[43m(\u001b[49m\n\u001b[0;32m   1497\u001b[0m \u001b[43m        \u001b[49m\u001b[43mmongo_client\u001b[49m\u001b[38;5;241;43m=\u001b[39;49m\u001b[38;5;28;43mself\u001b[39;49m\u001b[43m,\u001b[49m\n\u001b[0;32m   1498\u001b[0m \u001b[43m        \u001b[49m\u001b[43mfunc\u001b[49m\u001b[38;5;241;43m=\u001b[39;49m\u001b[43mfunc\u001b[49m\u001b[43m,\u001b[49m\n\u001b[0;32m   1499\u001b[0m \u001b[43m        \u001b[49m\u001b[43mbulk\u001b[49m\u001b[38;5;241;43m=\u001b[39;49m\u001b[43mbulk\u001b[49m\u001b[43m,\u001b[49m\n\u001b[0;32m   1500\u001b[0m \u001b[43m        \u001b[49m\u001b[43moperation\u001b[49m\u001b[38;5;241;43m=\u001b[39;49m\u001b[43moperation\u001b[49m\u001b[43m,\u001b[49m\n\u001b[0;32m   1501\u001b[0m \u001b[43m        \u001b[49m\u001b[43mis_read\u001b[49m\u001b[38;5;241;43m=\u001b[39;49m\u001b[43mis_read\u001b[49m\u001b[43m,\u001b[49m\n\u001b[0;32m   1502\u001b[0m \u001b[43m        \u001b[49m\u001b[43msession\u001b[49m\u001b[38;5;241;43m=\u001b[39;49m\u001b[43msession\u001b[49m\u001b[43m,\u001b[49m\n\u001b[0;32m   1503\u001b[0m \u001b[43m        \u001b[49m\u001b[43mread_pref\u001b[49m\u001b[38;5;241;43m=\u001b[39;49m\u001b[43mread_pref\u001b[49m\u001b[43m,\u001b[49m\n\u001b[0;32m   1504\u001b[0m \u001b[43m        \u001b[49m\u001b[43maddress\u001b[49m\u001b[38;5;241;43m=\u001b[39;49m\u001b[43maddress\u001b[49m\u001b[43m,\u001b[49m\n\u001b[0;32m   1505\u001b[0m \u001b[43m        \u001b[49m\u001b[43mretryable\u001b[49m\u001b[38;5;241;43m=\u001b[39;49m\u001b[43mretryable\u001b[49m\u001b[43m,\u001b[49m\n\u001b[0;32m   1506\u001b[0m \u001b[43m        \u001b[49m\u001b[43moperation_id\u001b[49m\u001b[38;5;241;43m=\u001b[39;49m\u001b[43moperation_id\u001b[49m\u001b[43m,\u001b[49m\n\u001b[1;32m-> 1507\u001b[0m \u001b[43m    \u001b[49m\u001b[43m)\u001b[49m\u001b[38;5;241;43m.\u001b[39;49m\u001b[43mrun\u001b[49m\u001b[43m(\u001b[49m\u001b[43m)\u001b[49m\n",
      "File \u001b[1;32mc:\\Python311\\Lib\\site-packages\\pymongo\\mongo_client.py:2353\u001b[0m, in \u001b[0;36m_ClientConnectionRetryable.run\u001b[1;34m(self)\u001b[0m\n\u001b[0;32m   2351\u001b[0m \u001b[38;5;28mself\u001b[39m\u001b[38;5;241m.\u001b[39m_check_last_error(check_csot\u001b[38;5;241m=\u001b[39m\u001b[38;5;28;01mTrue\u001b[39;00m)\n\u001b[0;32m   2352\u001b[0m \u001b[38;5;28;01mtry\u001b[39;00m:\n\u001b[1;32m-> 2353\u001b[0m     \u001b[38;5;28;01mreturn\u001b[39;00m \u001b[38;5;28;43mself\u001b[39;49m\u001b[38;5;241;43m.\u001b[39;49m\u001b[43m_read\u001b[49m\u001b[43m(\u001b[49m\u001b[43m)\u001b[49m \u001b[38;5;28;01mif\u001b[39;00m \u001b[38;5;28mself\u001b[39m\u001b[38;5;241m.\u001b[39m_is_read \u001b[38;5;28;01melse\u001b[39;00m \u001b[38;5;28mself\u001b[39m\u001b[38;5;241m.\u001b[39m_write()\n\u001b[0;32m   2354\u001b[0m \u001b[38;5;28;01mexcept\u001b[39;00m ServerSelectionTimeoutError:\n\u001b[0;32m   2355\u001b[0m     \u001b[38;5;66;03m# The application may think the write was never attempted\u001b[39;00m\n\u001b[0;32m   2356\u001b[0m     \u001b[38;5;66;03m# if we raise ServerSelectionTimeoutError on the retry\u001b[39;00m\n\u001b[0;32m   2357\u001b[0m     \u001b[38;5;66;03m# attempt. Raise the original exception instead.\u001b[39;00m\n\u001b[0;32m   2358\u001b[0m     \u001b[38;5;28mself\u001b[39m\u001b[38;5;241m.\u001b[39m_check_last_error()\n",
      "File \u001b[1;32mc:\\Python311\\Lib\\site-packages\\pymongo\\mongo_client.py:2491\u001b[0m, in \u001b[0;36m_ClientConnectionRetryable._read\u001b[1;34m(self)\u001b[0m\n\u001b[0;32m   2489\u001b[0m \u001b[38;5;28;01mif\u001b[39;00m \u001b[38;5;28mself\u001b[39m\u001b[38;5;241m.\u001b[39m_retrying \u001b[38;5;129;01mand\u001b[39;00m \u001b[38;5;129;01mnot\u001b[39;00m \u001b[38;5;28mself\u001b[39m\u001b[38;5;241m.\u001b[39m_retryable:\n\u001b[0;32m   2490\u001b[0m     \u001b[38;5;28mself\u001b[39m\u001b[38;5;241m.\u001b[39m_check_last_error()\n\u001b[1;32m-> 2491\u001b[0m \u001b[38;5;28;01mreturn\u001b[39;00m \u001b[38;5;28;43mself\u001b[39;49m\u001b[38;5;241;43m.\u001b[39;49m\u001b[43m_func\u001b[49m\u001b[43m(\u001b[49m\u001b[38;5;28;43mself\u001b[39;49m\u001b[38;5;241;43m.\u001b[39;49m\u001b[43m_session\u001b[49m\u001b[43m,\u001b[49m\u001b[43m \u001b[49m\u001b[38;5;28;43mself\u001b[39;49m\u001b[38;5;241;43m.\u001b[39;49m\u001b[43m_server\u001b[49m\u001b[43m,\u001b[49m\u001b[43m \u001b[49m\u001b[43mconn\u001b[49m\u001b[43m,\u001b[49m\u001b[43m \u001b[49m\u001b[43mread_pref\u001b[49m\u001b[43m)\u001b[49m\n",
      "File \u001b[1;32mc:\\Python311\\Lib\\site-packages\\pymongo\\mongo_client.py:1422\u001b[0m, in \u001b[0;36mMongoClient._run_operation.<locals>._cmd\u001b[1;34m(_session, server, conn, read_preference)\u001b[0m\n\u001b[0;32m   1415\u001b[0m \u001b[38;5;28;01mdef\u001b[39;00m \u001b[38;5;21m_cmd\u001b[39m(\n\u001b[0;32m   1416\u001b[0m     _session: Optional[ClientSession],\n\u001b[0;32m   1417\u001b[0m     server: Server,\n\u001b[0;32m   1418\u001b[0m     conn: Connection,\n\u001b[0;32m   1419\u001b[0m     read_preference: _ServerMode,\n\u001b[0;32m   1420\u001b[0m ) \u001b[38;5;241m-\u001b[39m\u001b[38;5;241m>\u001b[39m Response:\n\u001b[0;32m   1421\u001b[0m     operation\u001b[38;5;241m.\u001b[39mreset()  \u001b[38;5;66;03m# Reset op in case of retry.\u001b[39;00m\n\u001b[1;32m-> 1422\u001b[0m     \u001b[38;5;28;01mreturn\u001b[39;00m \u001b[43mserver\u001b[49m\u001b[38;5;241;43m.\u001b[39;49m\u001b[43mrun_operation\u001b[49m\u001b[43m(\u001b[49m\n\u001b[0;32m   1423\u001b[0m \u001b[43m        \u001b[49m\u001b[43mconn\u001b[49m\u001b[43m,\u001b[49m\n\u001b[0;32m   1424\u001b[0m \u001b[43m        \u001b[49m\u001b[43moperation\u001b[49m\u001b[43m,\u001b[49m\n\u001b[0;32m   1425\u001b[0m \u001b[43m        \u001b[49m\u001b[43mread_preference\u001b[49m\u001b[43m,\u001b[49m\n\u001b[0;32m   1426\u001b[0m \u001b[43m        \u001b[49m\u001b[38;5;28;43mself\u001b[39;49m\u001b[38;5;241;43m.\u001b[39;49m\u001b[43m_event_listeners\u001b[49m\u001b[43m,\u001b[49m\n\u001b[0;32m   1427\u001b[0m \u001b[43m        \u001b[49m\u001b[43munpack_res\u001b[49m\u001b[43m,\u001b[49m\n\u001b[0;32m   1428\u001b[0m \u001b[43m        \u001b[49m\u001b[38;5;28;43mself\u001b[39;49m\u001b[43m,\u001b[49m\n\u001b[0;32m   1429\u001b[0m \u001b[43m    \u001b[49m\u001b[43m)\u001b[49m\n",
      "File \u001b[1;32mc:\\Python311\\Lib\\site-packages\\pymongo\\helpers.py:342\u001b[0m, in \u001b[0;36m_handle_reauth.<locals>.inner\u001b[1;34m(*args, **kwargs)\u001b[0m\n\u001b[0;32m    339\u001b[0m \u001b[38;5;28;01mfrom\u001b[39;00m \u001b[38;5;21;01mpymongo\u001b[39;00m\u001b[38;5;21;01m.\u001b[39;00m\u001b[38;5;21;01mpool\u001b[39;00m \u001b[38;5;28;01mimport\u001b[39;00m Connection\n\u001b[0;32m    341\u001b[0m \u001b[38;5;28;01mtry\u001b[39;00m:\n\u001b[1;32m--> 342\u001b[0m     \u001b[38;5;28;01mreturn\u001b[39;00m \u001b[43mfunc\u001b[49m\u001b[43m(\u001b[49m\u001b[38;5;241;43m*\u001b[39;49m\u001b[43margs\u001b[49m\u001b[43m,\u001b[49m\u001b[43m \u001b[49m\u001b[38;5;241;43m*\u001b[39;49m\u001b[38;5;241;43m*\u001b[39;49m\u001b[43mkwargs\u001b[49m\u001b[43m)\u001b[49m\n\u001b[0;32m    343\u001b[0m \u001b[38;5;28;01mexcept\u001b[39;00m OperationFailure \u001b[38;5;28;01mas\u001b[39;00m exc:\n\u001b[0;32m    344\u001b[0m     \u001b[38;5;28;01mif\u001b[39;00m no_reauth:\n",
      "File \u001b[1;32mc:\\Python311\\Lib\\site-packages\\pymongo\\server.py:171\u001b[0m, in \u001b[0;36mServer.run_operation\u001b[1;34m(self, conn, operation, read_preference, listeners, unpack_res, client)\u001b[0m\n\u001b[0;32m    169\u001b[0m \u001b[38;5;28;01melse\u001b[39;00m:\n\u001b[0;32m    170\u001b[0m     conn\u001b[38;5;241m.\u001b[39msend_message(data, max_doc_size)\n\u001b[1;32m--> 171\u001b[0m     reply \u001b[38;5;241m=\u001b[39m \u001b[43mconn\u001b[49m\u001b[38;5;241;43m.\u001b[39;49m\u001b[43mreceive_message\u001b[49m\u001b[43m(\u001b[49m\u001b[43mrequest_id\u001b[49m\u001b[43m)\u001b[49m\n\u001b[0;32m    173\u001b[0m \u001b[38;5;66;03m# Unpack and check for command errors.\u001b[39;00m\n\u001b[0;32m    174\u001b[0m \u001b[38;5;28;01mif\u001b[39;00m use_cmd:\n",
      "File \u001b[1;32mc:\\Python311\\Lib\\site-packages\\pymongo\\pool.py:1043\u001b[0m, in \u001b[0;36mConnection.receive_message\u001b[1;34m(self, request_id)\u001b[0m\n\u001b[0;32m   1041\u001b[0m     \u001b[38;5;28;01mreturn\u001b[39;00m receive_message(\u001b[38;5;28mself\u001b[39m, request_id, \u001b[38;5;28mself\u001b[39m\u001b[38;5;241m.\u001b[39mmax_message_size)\n\u001b[0;32m   1042\u001b[0m \u001b[38;5;28;01mexcept\u001b[39;00m \u001b[38;5;167;01mBaseException\u001b[39;00m \u001b[38;5;28;01mas\u001b[39;00m error:\n\u001b[1;32m-> 1043\u001b[0m     \u001b[38;5;28;43mself\u001b[39;49m\u001b[38;5;241;43m.\u001b[39;49m\u001b[43m_raise_connection_failure\u001b[49m\u001b[43m(\u001b[49m\u001b[43merror\u001b[49m\u001b[43m)\u001b[49m\n",
      "File \u001b[1;32mc:\\Python311\\Lib\\site-packages\\pymongo\\pool.py:1041\u001b[0m, in \u001b[0;36mConnection.receive_message\u001b[1;34m(self, request_id)\u001b[0m\n\u001b[0;32m   1036\u001b[0m \u001b[38;5;250m\u001b[39m\u001b[38;5;124;03m\"\"\"Receive a raw BSON message or raise ConnectionFailure.\u001b[39;00m\n\u001b[0;32m   1037\u001b[0m \n\u001b[0;32m   1038\u001b[0m \u001b[38;5;124;03mIf any exception is raised, the socket is closed.\u001b[39;00m\n\u001b[0;32m   1039\u001b[0m \u001b[38;5;124;03m\"\"\"\u001b[39;00m\n\u001b[0;32m   1040\u001b[0m \u001b[38;5;28;01mtry\u001b[39;00m:\n\u001b[1;32m-> 1041\u001b[0m     \u001b[38;5;28;01mreturn\u001b[39;00m \u001b[43mreceive_message\u001b[49m\u001b[43m(\u001b[49m\u001b[38;5;28;43mself\u001b[39;49m\u001b[43m,\u001b[49m\u001b[43m \u001b[49m\u001b[43mrequest_id\u001b[49m\u001b[43m,\u001b[49m\u001b[43m \u001b[49m\u001b[38;5;28;43mself\u001b[39;49m\u001b[38;5;241;43m.\u001b[39;49m\u001b[43mmax_message_size\u001b[49m\u001b[43m)\u001b[49m\n\u001b[0;32m   1042\u001b[0m \u001b[38;5;28;01mexcept\u001b[39;00m \u001b[38;5;167;01mBaseException\u001b[39;00m \u001b[38;5;28;01mas\u001b[39;00m error:\n\u001b[0;32m   1043\u001b[0m     \u001b[38;5;28mself\u001b[39m\u001b[38;5;241m.\u001b[39m_raise_connection_failure(error)\n",
      "File \u001b[1;32mc:\\Python311\\Lib\\site-packages\\pymongo\\network.py:337\u001b[0m, in \u001b[0;36mreceive_message\u001b[1;34m(conn, request_id, max_message_size)\u001b[0m\n\u001b[0;32m    335\u001b[0m     data \u001b[38;5;241m=\u001b[39m decompress(_receive_data_on_socket(conn, length \u001b[38;5;241m-\u001b[39m \u001b[38;5;241m25\u001b[39m, deadline), compressor_id)\n\u001b[0;32m    336\u001b[0m \u001b[38;5;28;01melse\u001b[39;00m:\n\u001b[1;32m--> 337\u001b[0m     data \u001b[38;5;241m=\u001b[39m \u001b[43m_receive_data_on_socket\u001b[49m\u001b[43m(\u001b[49m\u001b[43mconn\u001b[49m\u001b[43m,\u001b[49m\u001b[43m \u001b[49m\u001b[43mlength\u001b[49m\u001b[43m \u001b[49m\u001b[38;5;241;43m-\u001b[39;49m\u001b[43m \u001b[49m\u001b[38;5;241;43m16\u001b[39;49m\u001b[43m,\u001b[49m\u001b[43m \u001b[49m\u001b[43mdeadline\u001b[49m\u001b[43m)\u001b[49m\n\u001b[0;32m    339\u001b[0m \u001b[38;5;28;01mtry\u001b[39;00m:\n\u001b[0;32m    340\u001b[0m     unpack_reply \u001b[38;5;241m=\u001b[39m _UNPACK_REPLY[op_code]\n",
      "File \u001b[1;32mc:\\Python311\\Lib\\site-packages\\pymongo\\network.py:400\u001b[0m, in \u001b[0;36m_receive_data_on_socket\u001b[1;34m(conn, length, deadline)\u001b[0m\n\u001b[0;32m    398\u001b[0m     \u001b[38;5;28;01mif\u001b[39;00m _csot\u001b[38;5;241m.\u001b[39mget_timeout() \u001b[38;5;129;01mand\u001b[39;00m deadline \u001b[38;5;129;01mis\u001b[39;00m \u001b[38;5;129;01mnot\u001b[39;00m \u001b[38;5;28;01mNone\u001b[39;00m:\n\u001b[0;32m    399\u001b[0m         conn\u001b[38;5;241m.\u001b[39mset_conn_timeout(\u001b[38;5;28mmax\u001b[39m(deadline \u001b[38;5;241m-\u001b[39m time\u001b[38;5;241m.\u001b[39mmonotonic(), \u001b[38;5;241m0\u001b[39m))\n\u001b[1;32m--> 400\u001b[0m     chunk_length \u001b[38;5;241m=\u001b[39m \u001b[43mconn\u001b[49m\u001b[38;5;241;43m.\u001b[39;49m\u001b[43mconn\u001b[49m\u001b[38;5;241;43m.\u001b[39;49m\u001b[43mrecv_into\u001b[49m\u001b[43m(\u001b[49m\u001b[43mmv\u001b[49m\u001b[43m[\u001b[49m\u001b[43mbytes_read\u001b[49m\u001b[43m:\u001b[49m\u001b[43m]\u001b[49m\u001b[43m)\u001b[49m\n\u001b[0;32m    401\u001b[0m \u001b[38;5;28;01mexcept\u001b[39;00m BLOCKING_IO_ERRORS:\n\u001b[0;32m    402\u001b[0m     \u001b[38;5;28;01mraise\u001b[39;00m socket\u001b[38;5;241m.\u001b[39mtimeout(\u001b[38;5;124m\"\u001b[39m\u001b[38;5;124mtimed out\u001b[39m\u001b[38;5;124m\"\u001b[39m) \u001b[38;5;28;01mfrom\u001b[39;00m \u001b[38;5;28;01mNone\u001b[39;00m\n",
      "File \u001b[1;32mc:\\Python311\\Lib\\ssl.py:1278\u001b[0m, in \u001b[0;36mSSLSocket.recv_into\u001b[1;34m(self, buffer, nbytes, flags)\u001b[0m\n\u001b[0;32m   1274\u001b[0m     \u001b[38;5;28;01mif\u001b[39;00m flags \u001b[38;5;241m!=\u001b[39m \u001b[38;5;241m0\u001b[39m:\n\u001b[0;32m   1275\u001b[0m         \u001b[38;5;28;01mraise\u001b[39;00m \u001b[38;5;167;01mValueError\u001b[39;00m(\n\u001b[0;32m   1276\u001b[0m           \u001b[38;5;124m\"\u001b[39m\u001b[38;5;124mnon-zero flags not allowed in calls to recv_into() on \u001b[39m\u001b[38;5;132;01m%s\u001b[39;00m\u001b[38;5;124m\"\u001b[39m \u001b[38;5;241m%\u001b[39m\n\u001b[0;32m   1277\u001b[0m           \u001b[38;5;28mself\u001b[39m\u001b[38;5;241m.\u001b[39m\u001b[38;5;18m__class__\u001b[39m)\n\u001b[1;32m-> 1278\u001b[0m     \u001b[38;5;28;01mreturn\u001b[39;00m \u001b[38;5;28;43mself\u001b[39;49m\u001b[38;5;241;43m.\u001b[39;49m\u001b[43mread\u001b[49m\u001b[43m(\u001b[49m\u001b[43mnbytes\u001b[49m\u001b[43m,\u001b[49m\u001b[43m \u001b[49m\u001b[43mbuffer\u001b[49m\u001b[43m)\u001b[49m\n\u001b[0;32m   1279\u001b[0m \u001b[38;5;28;01melse\u001b[39;00m:\n\u001b[0;32m   1280\u001b[0m     \u001b[38;5;28;01mreturn\u001b[39;00m \u001b[38;5;28msuper\u001b[39m()\u001b[38;5;241m.\u001b[39mrecv_into(buffer, nbytes, flags)\n",
      "File \u001b[1;32mc:\\Python311\\Lib\\ssl.py:1134\u001b[0m, in \u001b[0;36mSSLSocket.read\u001b[1;34m(self, len, buffer)\u001b[0m\n\u001b[0;32m   1132\u001b[0m \u001b[38;5;28;01mtry\u001b[39;00m:\n\u001b[0;32m   1133\u001b[0m     \u001b[38;5;28;01mif\u001b[39;00m buffer \u001b[38;5;129;01mis\u001b[39;00m \u001b[38;5;129;01mnot\u001b[39;00m \u001b[38;5;28;01mNone\u001b[39;00m:\n\u001b[1;32m-> 1134\u001b[0m         \u001b[38;5;28;01mreturn\u001b[39;00m \u001b[38;5;28;43mself\u001b[39;49m\u001b[38;5;241;43m.\u001b[39;49m\u001b[43m_sslobj\u001b[49m\u001b[38;5;241;43m.\u001b[39;49m\u001b[43mread\u001b[49m\u001b[43m(\u001b[49m\u001b[38;5;28;43mlen\u001b[39;49m\u001b[43m,\u001b[49m\u001b[43m \u001b[49m\u001b[43mbuffer\u001b[49m\u001b[43m)\u001b[49m\n\u001b[0;32m   1135\u001b[0m     \u001b[38;5;28;01melse\u001b[39;00m:\n\u001b[0;32m   1136\u001b[0m         \u001b[38;5;28;01mreturn\u001b[39;00m \u001b[38;5;28mself\u001b[39m\u001b[38;5;241m.\u001b[39m_sslobj\u001b[38;5;241m.\u001b[39mread(\u001b[38;5;28mlen\u001b[39m)\n",
      "\u001b[1;31mKeyboardInterrupt\u001b[0m: "
     ]
    }
   ],
   "source": [
    "db_data=mongo_manager.read_all_documents_in_collection_with_GridFS()\n",
    "# with open('data.json', 'w') as fichier:\n",
    "#     json.dump(positionsDetailsList, fichier)"
   ]
  },
  {
   "cell_type": "code",
   "execution_count": null,
   "metadata": {},
   "outputs": [
    {
     "ename": "NameError",
     "evalue": "name 'db_data' is not defined",
     "output_type": "error",
     "traceback": [
      "\u001b[1;31m---------------------------------------------------------------------------\u001b[0m",
      "\u001b[1;31mNameError\u001b[0m                                 Traceback (most recent call last)",
      "Cell \u001b[1;32mIn[14], line 1\u001b[0m\n\u001b[1;32m----> 1\u001b[0m \u001b[43mdb_data\u001b[49m[:\u001b[38;5;241m10\u001b[39m]\n",
      "\u001b[1;31mNameError\u001b[0m: name 'db_data' is not defined"
     ]
    }
   ],
   "source": [
    "db_data[:10]"
   ]
  },
  {
   "cell_type": "code",
   "execution_count": null,
   "metadata": {},
   "outputs": [
    {
     "name": "stdout",
     "output_type": "stream",
     "text": [
      "Canada - Analyste financière ou analyste financier - fr : 690\n",
      "Canada - Analyste financière ou analyste financier - en : 1081\n",
      "Canada - Trésorière, trésorier ou gestionnaire de la trésorerie - fr : 437\n",
      "Canada - Trésorière, trésorier ou gestionnaire de la trésorerie - en : 3687\n",
      "Canada - Analyste de marché - fr : 1426\n",
      "Canada - Analyste de marché - en : 5204\n",
      "Canada - Actuaire - fr : 115\n",
      "Canada - Actuaire - en : 851\n",
      "US - Trésorière, trésorier ou gestionnaire de la trésorerie - fr : 7\n",
      "US - Trésorière, trésorier ou gestionnaire de la trésorerie - en : 3962\n",
      "US - Analyste de marché - fr : 36\n",
      "US - Analyste de marché - en : 2791\n",
      "US - Actuaire - en : 1287\n",
      "US - Experte ou expert en science des données (data scientist) - fr : 7\n",
      "US - Experte ou expert en science des données (data scientist) - en : 774\n",
      "France - Trésorière, trésorier ou gestionnaire de la trésorerie - fr : 306\n",
      "France - Trésorière, trésorier ou gestionnaire de la trésorerie - en : 198\n",
      "France - Actuaire - fr : 684\n",
      "France - Actuaire - en : 54\n",
      "France - Analyste de marché - fr : 216\n",
      "France - Experte ou expert en science des données (data scientist) - fr : 126\n",
      "France - Experte ou expert en science des données (data scientist) - en : 54\n"
     ]
    }
   ],
   "source": [
    "data_recurcive_length(db_data)"
   ]
  },
  {
   "cell_type": "code",
   "execution_count": null,
   "metadata": {},
   "outputs": [],
   "source": [
    "\n",
    "# for country in tqdm(positionsDetailsList.keys(), desc=\"Countries\"):\n",
    "#     for profession in tqdm(positionsDetailsList[country].keys(), desc=\"Professions\", leave=False):\n",
    "#         for language in tqdm(positionsDetailsList[country][profession].keys(), desc=\"Languages\", leave=False):\n",
    "#             document_id = country\n",
    "#             collection_name = collection_names[2] \n",
    "#             try:\n",
    "#                 collection = mongo_manager.db[collection_name]\n",
    "#                 document = collection.find_one(\n",
    "#                 {\n",
    "#                     \"_id\": document_id, \n",
    "#                     f\"{profession}.{language}\": {\"$exists\": True} \n",
    "#                 })\n",
    "#                 print(document)\n",
    "                \n",
    "#                 if document:\n",
    "#                     old_data= document[profession][language]\n",
    "#                     new_data=positionsDetailsList[country][profession][language]\n",
    "#                     if len(old_data) == len(new_data):\n",
    "#                         print(\"Nothing to update for\", country, profession, language)\n",
    "#                     else:\n",
    "#                        update_data = {f\"{country}.{profession}.{language}\":old_data.extend(new_data) }  \n",
    "#                 else:\n",
    "#                     update_data = {f\"{country}.{profession}.{language}\":positionsDetailsList[country][profession][language] } \n",
    "\n",
    "#                 collection.update_one({'_id': document_id}, {'$set': update_data})\n",
    "#                 print(f'Data updated in {collection_name}/{document_id}')\n",
    "\n",
    "#             except Exception as e:\n",
    "#                 print(f'Error updating data in MongoDB: {e}')\n"
   ]
  },
  {
   "cell_type": "code",
   "execution_count": null,
   "metadata": {},
   "outputs": [
    {
     "data": {
      "text/plain": [
       "[ObjectId('66d699ac943cfa0276f23855'),\n",
       " ObjectId('66d69aa0604efd403dc468a4'),\n",
       " ObjectId('66d69bc0943cfa0276f23ca1')]"
      ]
     },
     "execution_count": 29,
     "metadata": {},
     "output_type": "execute_result"
    }
   ],
   "source": [
    "files_ids =     mongo_manager.db.fs.chunks.distinct(\"files_id\")\n",
    "files_ids\n"
   ]
  },
  {
   "cell_type": "code",
   "execution_count": null,
   "metadata": {},
   "outputs": [
    {
     "name": "stdout",
     "output_type": "stream",
     "text": [
      "Upserted file: {'_id': ObjectId('66d699ac943cfa0276f23855'), 'filename': 'reconstructed_file_66d699ac943cfa0276f23855', 'chunkSize': 261120, 'length': 192095142, 'uploadDate': datetime.datetime(2024, 9, 3, 5, 7, 57, tzinfo=<bson.tz_util.FixedOffset object at 0x0000024CA04087D0>)}\n",
      "Reconstituted file: {'_id': ObjectId('66d699ac943cfa0276f23855'), 'filename': 'reconstructed_file_66d699ac943cfa0276f23855', 'chunkSize': 261120, 'length': 192095142, 'uploadDate': datetime.datetime(2024, 9, 3, 5, 7, 57, tzinfo=<bson.tz_util.FixedOffset object at 0x0000024CA04087D0>)}\n",
      "Upserted file: {'_id': ObjectId('66d69aa0604efd403dc468a4'), 'filename': 'reconstructed_file_66d69aa0604efd403dc468a4', 'chunkSize': 261120, 'length': 67368960, 'uploadDate': datetime.datetime(2024, 9, 3, 5, 12, tzinfo=<bson.tz_util.FixedOffset object at 0x0000024CA04087D0>)}\n",
      "Reconstituted file: {'_id': ObjectId('66d69aa0604efd403dc468a4'), 'filename': 'reconstructed_file_66d69aa0604efd403dc468a4', 'chunkSize': 261120, 'length': 67368960, 'uploadDate': datetime.datetime(2024, 9, 3, 5, 12, tzinfo=<bson.tz_util.FixedOffset object at 0x0000024CA04087D0>)}\n",
      "Upserted file: {'_id': ObjectId('66d69bc0943cfa0276f23ca1'), 'filename': 'reconstructed_file_66d69bc0943cfa0276f23ca1', 'chunkSize': 261120, 'length': 235791360, 'uploadDate': datetime.datetime(2024, 9, 3, 5, 16, 49, tzinfo=<bson.tz_util.FixedOffset object at 0x0000024CA04087D0>)}\n",
      "Reconstituted file: {'_id': ObjectId('66d69bc0943cfa0276f23ca1'), 'filename': 'reconstructed_file_66d69bc0943cfa0276f23ca1', 'chunkSize': 261120, 'length': 235791360, 'uploadDate': datetime.datetime(2024, 9, 3, 5, 16, 49, tzinfo=<bson.tz_util.FixedOffset object at 0x0000024CA04087D0>)}\n"
     ]
    }
   ],
   "source": []
  }
 ],
 "metadata": {
  "kernelspec": {
   "display_name": "Python 3",
   "language": "python",
   "name": "python3"
  },
  "language_info": {
   "codemirror_mode": {
    "name": "ipython",
    "version": 3
   },
   "file_extension": ".py",
   "mimetype": "text/x-python",
   "name": "python",
   "nbconvert_exporter": "python",
   "pygments_lexer": "ipython3",
   "version": "3.11.0"
  }
 },
 "nbformat": 4,
 "nbformat_minor": 2
}
