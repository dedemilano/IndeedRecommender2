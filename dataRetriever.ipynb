{
 "cells": [
  {
   "cell_type": "code",
   "execution_count": 4,
   "metadata": {},
   "outputs": [
    {
     "name": "stdout",
     "output_type": "stream",
     "text": [
      "Trouvez votre programme d'études | Université Laval\n"
     ]
    },
    {
     "ename": "AttributeError",
     "evalue": "'WebElement' object has no attribute 'value'",
     "output_type": "error",
     "traceback": [
      "\u001b[1;31m---------------------------------------------------------------------------\u001b[0m",
      "\u001b[1;31mAttributeError\u001b[0m                            Traceback (most recent call last)",
      "Cell \u001b[1;32mIn[4], line 15\u001b[0m\n\u001b[0;32m     12\u001b[0m driver\u001b[38;5;241m.\u001b[39mimplicitly_wait(\u001b[38;5;241m0.5\u001b[39m)\n\u001b[0;32m     14\u001b[0m results_element\u001b[38;5;241m=\u001b[39m driver\u001b[38;5;241m.\u001b[39mfind_element(By\u001b[38;5;241m.\u001b[39mID,\u001b[38;5;124m\"\u001b[39m\u001b[38;5;124mresultats\u001b[39m\u001b[38;5;124m\"\u001b[39m)\n\u001b[1;32m---> 15\u001b[0m \u001b[38;5;28mprint\u001b[39m(\u001b[43mresults_element\u001b[49m\u001b[38;5;241;43m.\u001b[39;49m\u001b[43mvalue\u001b[49m)\n\u001b[0;32m     16\u001b[0m \u001b[38;5;66;03m# text_box = driver.find_element(by=By.NAME, value=\"my-text\")\u001b[39;00m\n\u001b[0;32m     17\u001b[0m \u001b[38;5;66;03m# submit_button = driver.find_element(by=By.CSS_SELECTOR, value=\"button\")\u001b[39;00m\n\u001b[0;32m     18\u001b[0m \n\u001b[1;32m   (...)\u001b[0m\n\u001b[0;32m     24\u001b[0m \n\u001b[0;32m     25\u001b[0m \u001b[38;5;66;03m# driver.quit()\u001b[39;00m\n",
      "\u001b[1;31mAttributeError\u001b[0m: 'WebElement' object has no attribute 'value'"
     ]
    }
   ],
   "source": [
    "from selenium import webdriver\n",
    "from selenium.webdriver.common.by import By\n",
    "\n",
    "driver = webdriver.Chrome()\n",
    "\n",
    "driver.get(\"https://www.ulaval.ca/etudes/programmes\")\n",
    "\n",
    "\n",
    "title = driver.title\n",
    "print(title)\n",
    "\n",
    "driver.implicitly_wait(0.5)\n",
    "\n",
    "results_element= driver.find_element(By.ID,\"resultats\")\n",
    "print(results_element.value)\n",
    "# text_box = driver.find_element(by=By.NAME, value=\"my-text\")\n",
    "# submit_button = driver.find_element(by=By.CSS_SELECTOR, value=\"button\")\n",
    "\n",
    "# text_box.send_keys(\"Selenium\")\n",
    "# submit_button.click()\n",
    "\n",
    "# message = driver.find_element(by=By.ID, value=\"message\")\n",
    "# text = message.text\n",
    "\n",
    "# driver.quit()"
   ]
  }
 ],
 "metadata": {
  "kernelspec": {
   "display_name": "Python 3",
   "language": "python",
   "name": "python3"
  },
  "language_info": {
   "codemirror_mode": {
    "name": "ipython",
    "version": 3
   },
   "file_extension": ".py",
   "mimetype": "text/x-python",
   "name": "python",
   "nbconvert_exporter": "python",
   "pygments_lexer": "ipython3",
   "version": "3.11.0"
  }
 },
 "nbformat": 4,
 "nbformat_minor": 2
}
