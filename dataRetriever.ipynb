{
 "cells": [
  {
   "cell_type": "code",
   "execution_count": 6,
   "metadata": {},
   "outputs": [
    {
     "name": "stdout",
     "output_type": "stream",
     "text": [
      "Trouvez votre programme d'études | Université Laval\n"
     ]
    }
   ],
   "source": [
    "from selenium import webdriver\n",
    "from selenium.webdriver.common.by import By\n",
    "\n",
    "driver = webdriver.Chrome()\n",
    "\n",
    "driver.get(\"https://www.ulaval.ca/etudes/programmes\")\n",
    "\n",
    "\n",
    "title = driver.title\n",
    "print(title)\n",
    "\n",
    "driver.implicitly_wait(0.5)\n",
    "\n",
    "websiteElements = []\n",
    "\n",
    "# text_box = driver.find_element(by=By.NAME, value=\"my-text\")\n",
    "# submit_button = driver.find_element(by=By.CSS_SELECTOR, value=\"button\")\n",
    "\n",
    "# text_box.send_keys(\"Selenium\")\n",
    "# submit_button.click()\n",
    "\n",
    "# message = driver.find_element(by=By.ID, value=\"message\")\n",
    "# text = message.text\n",
    "\n",
    "# driver.quit()"
   ]
  }
 ],
 "metadata": {
  "kernelspec": {
   "display_name": "Python 3",
   "language": "python",
   "name": "python3"
  },
  "language_info": {
   "codemirror_mode": {
    "name": "ipython",
    "version": 3
   },
   "file_extension": ".py",
   "mimetype": "text/x-python",
   "name": "python",
   "nbconvert_exporter": "python",
   "pygments_lexer": "ipython3",
   "version": "3.10.11"
  }
 },
 "nbformat": 4,
 "nbformat_minor": 2
}
