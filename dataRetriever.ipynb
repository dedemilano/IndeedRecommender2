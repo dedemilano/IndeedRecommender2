{
 "cells": [
  {
   "cell_type": "code",
   "execution_count": 138,
   "metadata": {},
   "outputs": [],
   "source": [
    "import time\n",
    "from selenium import webdriver\n",
    "from selenium.webdriver.common.by import By\n",
    "from selenium.webdriver.support.ui import WebDriverWait\n",
    "from selenium.webdriver.support import expected_conditions as EC\n",
    "from selenium.webdriver.common.keys import Keys"
   ]
  },
  {
   "cell_type": "code",
   "execution_count": 4,
   "metadata": {},
   "outputs": [],
   "source": [
    "def retrieve_professions_from_field_first(field):\n",
    "    h3_elements = driver.find_elements(By.XPATH, \"//h3[contains(text(), 'Professions')]\")\n",
    "    print(h3_elements)\n",
    "    if len(h3_elements)==0:\n",
    "        raise Exception(f\"Aucun element trouvé pour la première fonction pour {field}\")\n",
    "    for h3_element in h3_elements:\n",
    "        ul_element = h3_element.find_element(By.XPATH, \"following-sibling::ul\")\n",
    "        driver.execute_script(\"arguments[0].scrollIntoView(true);\", h3_element)\n",
    "        if ul_element:\n",
    "            li_elements = ul_element.find_elements(By.XPATH, \"./li\")\n",
    "            for element in li_elements:\n",
    "                text = driver.execute_script(\"return arguments[0].innerText;\", element)\n",
    "                print(text)\n",
    "                if text not in data[field]:\n",
    "                    data[field].append(text)\n",
    "        time.sleep(0.5)\n",
    "    # driver.back()\n",
    "\n",
    "\n",
    "\n",
    "def retrieve_professions_from_field_second(field):\n",
    "    strong_elements = driver.find_elements(By.XPATH, \"//p[strong[contains(text(), 'Professions')]]\")\n",
    "    print(f\"strong: {strong_elements}\")\n",
    "    if len(strong_elements)==0:\n",
    "        errors.append(field)\n",
    "    for strong_element in strong_elements:\n",
    "        ul_element = strong_element.find_element(By.XPATH, \"following-sibling::ul\")\n",
    "        if ul_element:\n",
    "            driver.execute_script(\"arguments[0].scrollIntoView(true);\", ul_element)\n",
    "            li_elements = ul_element.find_elements(By.XPATH, \"./li\")\n",
    "            for element in li_elements:\n",
    "                text = driver.execute_script(\"return arguments[0].innerText;\", element)\n",
    "                print(text)\n",
    "                if text not in data[field]:\n",
    "                    data[field].append(text)\n",
    "        time.sleep(0.5)\n",
    "    # driver.back()\n",
    "\n",
    "def retrieve_professions_from_field(field):\n",
    "    global nb_of_functions_tried, nb_of_functions\n",
    "    try:\n",
    "        if nb_of_functions_tried==1:\n",
    "            retrieve_professions_from_field_first(field)\n",
    "            driver.back()\n",
    "        if nb_of_functions_tried==2:\n",
    "            retrieve_professions_from_field_second(field)\n",
    "            driver.back()\n",
    "            nb_of_functions_tried=1\n",
    "    except Exception as e:\n",
    "        print(e)\n",
    "        nb_of_functions_tried+=1\n",
    "        retrieve_professions_from_field(field)\n",
    "\n",
    "    if nb_of_functions_tried > nb_of_functions:\n",
    "        driver.back()\n",
    "        nb_of_functions_tried=1\n",
    "    return\n",
    "\n"
   ]
  },
  {
   "cell_type": "code",
   "execution_count": 45,
   "metadata": {},
   "outputs": [
    {
     "name": "stdout",
     "output_type": "stream",
     "text": [
      "<selenium.webdriver.remote.webelement.WebElement (session=\"2fdbcd4890567ad24f147fc55e41edec\", element=\"f.CB0AAFA66B4BB810B308B0CAB99173B3.d.211A26BED07FBF8F5D2E1D7E53C1B6EA.e.81\")>\n"
     ]
    },
    {
     "ename": "NameError",
     "evalue": "name 'retrieve_professions_from_field' is not defined",
     "output_type": "error",
     "traceback": [
      "\u001b[1;31m---------------------------------------------------------------------------\u001b[0m",
      "\u001b[1;31mNameError\u001b[0m                                 Traceback (most recent call last)",
      "Cell \u001b[1;32mIn[45], line 24\u001b[0m\n\u001b[0;32m     22\u001b[0m     time\u001b[38;5;241m.\u001b[39msleep(\u001b[38;5;241m0.5\u001b[39m)\n\u001b[0;32m     23\u001b[0m     driver\u001b[38;5;241m.\u001b[39mexecute_script(\u001b[38;5;124m\"\u001b[39m\u001b[38;5;124marguments[0].click();\u001b[39m\u001b[38;5;124m\"\u001b[39m, element)\n\u001b[1;32m---> 24\u001b[0m     \u001b[43mretrieve_professions_from_field\u001b[49m(field)\n\u001b[0;32m     26\u001b[0m driver\u001b[38;5;241m.\u001b[39mexecute_script(\u001b[38;5;124m\"\u001b[39m\u001b[38;5;124marguments[0].scrollIntoView(true);\u001b[39m\u001b[38;5;124m\"\u001b[39m, pagination_next_element)\n\u001b[0;32m     27\u001b[0m time\u001b[38;5;241m.\u001b[39msleep(\u001b[38;5;241m0.5\u001b[39m)\n",
      "\u001b[1;31mNameError\u001b[0m: name 'retrieve_professions_from_field' is not defined"
     ]
    }
   ],
   "source": [
    "driver = webdriver.Chrome()\n",
    "driver.get(\"https://www.ulaval.ca/etudes/programmes\")\n",
    "title = driver.title\n",
    "\n",
    "# Keys represente fields and values are arrays whose contains professions \n",
    "data={}\n",
    "errors=[]\n",
    "nb_of_functions=2\n",
    "nb_of_functions_tried=1\n",
    "\n",
    "pagination_next_element=driver.find_element(By.ID,\"pagination-heading\").find_element(By.XPATH, \"following-sibling::ul\").find_element(By.XPATH, \"./li[@class='pagination-item pagination-item--suivant']\")\n",
    "print(pagination_next_element)\n",
    "while pagination_next_element:\n",
    "    results_element= driver.find_element(By.ID,\"resultats\")\n",
    "    children=results_element.find_elements(By.XPATH, \"./ul[@class='views-row']\")\n",
    "\n",
    "    for child in children:\n",
    "        element=child.find_element(By.XPATH, \"./li/a\")\n",
    "        field=element.find_element(By.XPATH,\"./div[@class='main-info']/h3[@class='titre-programme']\").text\n",
    "        data[field]=[]\n",
    "        driver.execute_script(\"arguments[0].scrollIntoView(true);\", element)\n",
    "        time.sleep(0.5)\n",
    "        driver.execute_script(\"arguments[0].click();\", element)\n",
    "        retrieve_professions_from_field(field)\n",
    "    \n",
    "    driver.execute_script(\"arguments[0].scrollIntoView(true);\", pagination_next_element)\n",
    "    time.sleep(0.5)\n",
    "    driver.execute_script(\"arguments[0].click();\", pagination_next_element.find_element(By.TAG_NAME, \"a\"))\n",
    "    pagination_next_element=driver.find_element(By.ID,\"pagination-heading\").find_element(By.XPATH, \"following-sibling::ul\").find_element(By.XPATH, \"./li[@class='pagination-item pagination-item--suivant']\")\n",
    "\n",
    "\n",
    "print(data)\n"
   ]
  },
  {
   "cell_type": "code",
   "execution_count": 139,
   "metadata": {},
   "outputs": [],
   "source": [
    "driver = webdriver.Chrome()\n",
    "def indeedDataFill(ulavalPosition, location):\n",
    "    \n",
    "    driver.get(\"https://emplois.ca.indeed.com/\")\n",
    "    title_input = driver.find_element(By.XPATH, \"//input[@id='text-input-what']\")\n",
    "    location_input = driver.find_element(By.XPATH, \"//input[@id='text-input-where']\")\n",
    "    location_input.clear()\n",
    "    location_input.send_keys(location)\n",
    "    title_input.send_keys(ulavalPosition, Keys.RETURN)\n",
    "\n",
    "    return title_input, location_input\n",
    "    "
   ]
  },
  {
   "cell_type": "code",
   "execution_count": 140,
   "metadata": {},
   "outputs": [
    {
     "data": {
      "text/plain": [
       "(<selenium.webdriver.remote.webelement.WebElement (session=\"62d318b10e263a13116baa1dec97d59c\", element=\"f.46F099D944433B1C11F3C4FBF44E6FDA.d.00C4C06E6A1CF1E46C2E20D45799EB58.e.1\")>,\n",
       " <selenium.webdriver.remote.webelement.WebElement (session=\"62d318b10e263a13116baa1dec97d59c\", element=\"f.46F099D944433B1C11F3C4FBF44E6FDA.d.00C4C06E6A1CF1E46C2E20D45799EB58.e.3\")>)"
      ]
     },
     "execution_count": 140,
     "metadata": {},
     "output_type": "execute_result"
    }
   ],
   "source": [
    "indeedDataFill(\"Actuaire\", \"Canada\")"
   ]
  },
  {
   "cell_type": "code",
   "execution_count": 141,
   "metadata": {},
   "outputs": [],
   "source": [
    "def indeedPositionInfos():\n",
    "    positionsDescriptionList = driver.find_element(By.XPATH, \"//div[@id='mosaic-provider-jobcards']\")\n",
    "    ulElement = positionsDescriptionList.find_element(By.XPATH, \"./ul\")\n",
    "    liElements = ulElement.find_elements(By.XPATH, \"./li[@class='css-5lfssm eu4oa1w0']\")\n",
    "    for li in liElements:\n",
    "        driver.execute_script(\"arguments[0].scrollIntoView(true);\", li)\n",
    "        time.sleep(0.5)\n",
    "        position=li.find_element(By.XPATH, \".//h2[contains(@class, 'jobTitle')]/a\")\n",
    "        print(f\"\\n position title: {position.text}\")\n",
    "        # driver.execute_script(\"arguments[0].click();\", post)\n",
    "        # # positionDescriptionDiv = driver.find_element(By.XPATH, \"//div[@class='jobsearch-JobComponent css-17riagq eu4oa1w0']\")\n",
    "        # print(f\"position Des div : {positionDescriptionDiv}\")\n",
    "        # headerContainer = positionDescriptionDiv.find_element(By.XPATH, \"./div[@class='jobsearch-HeaderContainer css-n78gek eu4oa1w0']\")\n",
    "        # print(f\"headerContainer :{headerContainer}\")\n",
    "        \"\"\"\t\n",
    "        infoHeaderContainer = headerContainer.find_element(By.XPATH, \"./div[@class='jobsearch-JobInfoHeader-title-container  css-bbq8li eu4oa1w0']\")\n",
    "        print(f\"infoHeaderContainer : {infoHeaderContainer}\")\n",
    "        positionTitleContainer = headerContainer.find_element(By.XPATH, \"./div[@class='jobsearch-InfoHeaderContainer css-1toufe4 eu4oa1w0']\")\n",
    "        print(f\"positionTitleContainer : {positionTitleContainer}\")\n",
    "        positionTitle = positionTitleContainer.find_element(By.XPATH, \"./h2/span\").text\n",
    "        print(f\"positionTitle : {positionTitle}\")\n",
    "        \"\"\"\t\n",
    "       "
   ]
  },
  {
   "cell_type": "code",
   "execution_count": 142,
   "metadata": {},
   "outputs": [
    {
     "name": "stdout",
     "output_type": "stream",
     "text": [
      "None\n",
      "Administrateur de régime de retraite\n",
      "Gamma Actuaires Conseils Inc\n",
      "Montréal, QC\n",
      "Temps plein\n",
      "+1\n",
      "Du Lundi au Vendredi\n",
      "Bilingue\n",
      "Postuler directement\n",
      "Présentation de l'employeur Gamma Actuaires Conseils Inc. offre des services de consultation et d’actuariat pour les régimes de retraite. Description du…\n",
      "Employer\n",
      "Employeur actif il y a 3 jours\n",
      "\n",
      " position title: Administrateur de régime de retraite\n",
      "Analyste en assurance collective\n",
      "Mallette\n",
      "Travail hybride à Ville de Québec, QC\n",
      "Temps plein\n",
      "+1\n",
      "Publié le 4 juin 2024 Québec Permanent Comptabilité QC1905 Partager cette page: Bienvenue chez Mallette, le cabinet qui déconstruit les stéréotypes…\n",
      "Posted\n",
      "Offre publiée il y a plus de 30 jours·plus...\n",
      "\n",
      " position title: Analyste en assurance collective\n",
      "Opportunités de carrière en actuariat\n",
      "iA Groupe financier / iA Financial Group\n",
      "Travail hybride à Ville de Québec, QC\n",
      "Employeur : iA Groupe financier Bureau : 1080, Grande Allée Ouest Principal lieu de travail: Québec, Québec Autre(s) lieu(x) de travail possible(s): Montreal,…\n",
      "Posted\n",
      "Offre publiée il y a plus de 30 jours·plus...\n",
      "\n",
      " position title: Opportunités de carrière en actuariat\n",
      "CONSEILLER(-ÈRE) - ADMINISTRATION DES RÉGIMES DE RETRAITE\n",
      "PBI Conseillers en actuariat ltée\n",
      "Travail hybride à Montréal, QC\n",
      "Temps plein\n",
      "+2\n",
      "Du Lundi au Vendredi\n",
      "+1\n",
      "Bilingue\n",
      "Postuler directement\n",
      "À propos de nous PBI Conseillers en actuariat ltée est une firme en pleine croissance, entièrement détenue par ses employés, qui se spécialise dans les…\n",
      "Employer\n",
      "Employeur actif il y a 3 jours\n",
      "\n",
      " position title: CONSEILLER(-ÈRE) - ADMINISTRATION DES RÉGIMES DE RETRAITE\n",
      "Directeur(rice) actuaire en assurance vie\n",
      "Pwc Canada\n",
      "Travail hybride à Montréal, QC\n",
      "Temps plein\n",
      "Une carrière dans les Services de modélisation des risques vous permettra d’offrir des services-conseils en matière d’assurance générale à des assureurs, à…\n",
      "Posted\n",
      "Offre publiée il y a plus de 30 jours·plus...\n",
      "\n",
      " position title: Directeur(rice) actuaire en assurance vie\n",
      "\n"
     ]
    },
    {
     "ename": "NoSuchElementException",
     "evalue": "Message: no such element: Unable to locate element: {\"method\":\"xpath\",\"selector\":\".//h2[contains(@class, 'jobTitle')]/a\"}\n  (Session info: chrome=127.0.6533.73); For documentation on this error, please visit: https://www.selenium.dev/documentation/webdriver/troubleshooting/errors#no-such-element-exception\nStacktrace:\n\tGetHandleVerifier [0x00007FF752389632+30946]\n\t(No symbol) [0x00007FF75233E3C9]\n\t(No symbol) [0x00007FF752236FDA]\n\t(No symbol) [0x00007FF75228822C]\n\t(No symbol) [0x00007FF75228850C]\n\t(No symbol) [0x00007FF75227BCDC]\n\t(No symbol) [0x00007FF7522ACAAF]\n\t(No symbol) [0x00007FF75227BBB6]\n\t(No symbol) [0x00007FF7522ACC80]\n\t(No symbol) [0x00007FF7522CB041]\n\t(No symbol) [0x00007FF7522AC813]\n\t(No symbol) [0x00007FF75227A6E5]\n\t(No symbol) [0x00007FF75227B021]\n\tGetHandleVerifier [0x00007FF7524BF83D+1301229]\n\tGetHandleVerifier [0x00007FF7524CBDB7+1351783]\n\tGetHandleVerifier [0x00007FF7524C2A03+1313971]\n\tGetHandleVerifier [0x00007FF7523BDD06+245686]\n\t(No symbol) [0x00007FF75234758F]\n\t(No symbol) [0x00007FF752343804]\n\t(No symbol) [0x00007FF752343992]\n\t(No symbol) [0x00007FF75233A3EF]\n\tBaseThreadInitThunk [0x00007FFC80AF257D+29]\n\tRtlUserThreadStart [0x00007FFC8126AF28+40]\n",
     "output_type": "error",
     "traceback": [
      "\u001b[1;31m---------------------------------------------------------------------------\u001b[0m",
      "\u001b[1;31mNoSuchElementException\u001b[0m                    Traceback (most recent call last)",
      "Cell \u001b[1;32mIn[142], line 8\u001b[0m\n\u001b[0;32m      6\u001b[0m \u001b[38;5;28mprint\u001b[39m(pagination_next_element)\n\u001b[0;32m      7\u001b[0m \u001b[38;5;28;01mif\u001b[39;00m \u001b[38;5;129;01mnot\u001b[39;00m pagination_next_element:\n\u001b[1;32m----> 8\u001b[0m     \u001b[43mindeedPositionInfos\u001b[49m\u001b[43m(\u001b[49m\u001b[43m)\u001b[49m\n\u001b[0;32m      9\u001b[0m \u001b[38;5;28;01mif\u001b[39;00m pagination_next_element:\n\u001b[0;32m     10\u001b[0m     \u001b[38;5;28;01mwhile\u001b[39;00m pagination_next_element:\n",
      "Cell \u001b[1;32mIn[141], line 9\u001b[0m, in \u001b[0;36mindeedPositionInfos\u001b[1;34m()\u001b[0m\n\u001b[0;32m      7\u001b[0m time\u001b[38;5;241m.\u001b[39msleep(\u001b[38;5;241m0.5\u001b[39m)\n\u001b[0;32m      8\u001b[0m \u001b[38;5;28mprint\u001b[39m(li\u001b[38;5;241m.\u001b[39mtext)\n\u001b[1;32m----> 9\u001b[0m position\u001b[38;5;241m=\u001b[39m\u001b[43mli\u001b[49m\u001b[38;5;241;43m.\u001b[39;49m\u001b[43mfind_element\u001b[49m\u001b[43m(\u001b[49m\u001b[43mBy\u001b[49m\u001b[38;5;241;43m.\u001b[39;49m\u001b[43mXPATH\u001b[49m\u001b[43m,\u001b[49m\u001b[43m \u001b[49m\u001b[38;5;124;43m\"\u001b[39;49m\u001b[38;5;124;43m.//h2[contains(@class, \u001b[39;49m\u001b[38;5;124;43m'\u001b[39;49m\u001b[38;5;124;43mjobTitle\u001b[39;49m\u001b[38;5;124;43m'\u001b[39;49m\u001b[38;5;124;43m)]/a\u001b[39;49m\u001b[38;5;124;43m\"\u001b[39;49m\u001b[43m)\u001b[49m\n\u001b[0;32m     10\u001b[0m \u001b[38;5;28mprint\u001b[39m(\u001b[38;5;124mf\u001b[39m\u001b[38;5;124m\"\u001b[39m\u001b[38;5;130;01m\\n\u001b[39;00m\u001b[38;5;124m position title: \u001b[39m\u001b[38;5;132;01m{\u001b[39;00mposition\u001b[38;5;241m.\u001b[39mtext\u001b[38;5;132;01m}\u001b[39;00m\u001b[38;5;124m\"\u001b[39m)\n\u001b[0;32m     11\u001b[0m \u001b[38;5;66;03m# driver.execute_script(\"arguments[0].click();\", post)\u001b[39;00m\n\u001b[0;32m     12\u001b[0m \u001b[38;5;66;03m# # positionDescriptionDiv = driver.find_element(By.XPATH, \"//div[@class='jobsearch-JobComponent css-17riagq eu4oa1w0']\")\u001b[39;00m\n\u001b[0;32m     13\u001b[0m \u001b[38;5;66;03m# print(f\"position Des div : {positionDescriptionDiv}\")\u001b[39;00m\n\u001b[0;32m     14\u001b[0m \u001b[38;5;66;03m# headerContainer = positionDescriptionDiv.find_element(By.XPATH, \"./div[@class='jobsearch-HeaderContainer css-n78gek eu4oa1w0']\")\u001b[39;00m\n\u001b[0;32m     15\u001b[0m \u001b[38;5;66;03m# print(f\"headerContainer :{headerContainer}\")\u001b[39;00m\n",
      "File \u001b[1;32mc:\\Users\\gueid\\AppData\\Local\\Programs\\Python\\Python310\\lib\\site-packages\\selenium\\webdriver\\remote\\webelement.py:417\u001b[0m, in \u001b[0;36mWebElement.find_element\u001b[1;34m(self, by, value)\u001b[0m\n\u001b[0;32m    414\u001b[0m     by \u001b[38;5;241m=\u001b[39m By\u001b[38;5;241m.\u001b[39mCSS_SELECTOR\n\u001b[0;32m    415\u001b[0m     value \u001b[38;5;241m=\u001b[39m \u001b[38;5;124mf\u001b[39m\u001b[38;5;124m'\u001b[39m\u001b[38;5;124m[name=\u001b[39m\u001b[38;5;124m\"\u001b[39m\u001b[38;5;132;01m{\u001b[39;00mvalue\u001b[38;5;132;01m}\u001b[39;00m\u001b[38;5;124m\"\u001b[39m\u001b[38;5;124m]\u001b[39m\u001b[38;5;124m'\u001b[39m\n\u001b[1;32m--> 417\u001b[0m \u001b[38;5;28;01mreturn\u001b[39;00m \u001b[38;5;28;43mself\u001b[39;49m\u001b[38;5;241;43m.\u001b[39;49m\u001b[43m_execute\u001b[49m\u001b[43m(\u001b[49m\u001b[43mCommand\u001b[49m\u001b[38;5;241;43m.\u001b[39;49m\u001b[43mFIND_CHILD_ELEMENT\u001b[49m\u001b[43m,\u001b[49m\u001b[43m \u001b[49m\u001b[43m{\u001b[49m\u001b[38;5;124;43m\"\u001b[39;49m\u001b[38;5;124;43musing\u001b[39;49m\u001b[38;5;124;43m\"\u001b[39;49m\u001b[43m:\u001b[49m\u001b[43m \u001b[49m\u001b[43mby\u001b[49m\u001b[43m,\u001b[49m\u001b[43m \u001b[49m\u001b[38;5;124;43m\"\u001b[39;49m\u001b[38;5;124;43mvalue\u001b[39;49m\u001b[38;5;124;43m\"\u001b[39;49m\u001b[43m:\u001b[49m\u001b[43m \u001b[49m\u001b[43mvalue\u001b[49m\u001b[43m}\u001b[49m\u001b[43m)\u001b[49m[\u001b[38;5;124m\"\u001b[39m\u001b[38;5;124mvalue\u001b[39m\u001b[38;5;124m\"\u001b[39m]\n",
      "File \u001b[1;32mc:\\Users\\gueid\\AppData\\Local\\Programs\\Python\\Python310\\lib\\site-packages\\selenium\\webdriver\\remote\\webelement.py:395\u001b[0m, in \u001b[0;36mWebElement._execute\u001b[1;34m(self, command, params)\u001b[0m\n\u001b[0;32m    393\u001b[0m     params \u001b[38;5;241m=\u001b[39m {}\n\u001b[0;32m    394\u001b[0m params[\u001b[38;5;124m\"\u001b[39m\u001b[38;5;124mid\u001b[39m\u001b[38;5;124m\"\u001b[39m] \u001b[38;5;241m=\u001b[39m \u001b[38;5;28mself\u001b[39m\u001b[38;5;241m.\u001b[39m_id\n\u001b[1;32m--> 395\u001b[0m \u001b[38;5;28;01mreturn\u001b[39;00m \u001b[38;5;28;43mself\u001b[39;49m\u001b[38;5;241;43m.\u001b[39;49m\u001b[43m_parent\u001b[49m\u001b[38;5;241;43m.\u001b[39;49m\u001b[43mexecute\u001b[49m\u001b[43m(\u001b[49m\u001b[43mcommand\u001b[49m\u001b[43m,\u001b[49m\u001b[43m \u001b[49m\u001b[43mparams\u001b[49m\u001b[43m)\u001b[49m\n",
      "File \u001b[1;32mc:\\Users\\gueid\\AppData\\Local\\Programs\\Python\\Python310\\lib\\site-packages\\selenium\\webdriver\\remote\\webdriver.py:354\u001b[0m, in \u001b[0;36mWebDriver.execute\u001b[1;34m(self, driver_command, params)\u001b[0m\n\u001b[0;32m    352\u001b[0m response \u001b[38;5;241m=\u001b[39m \u001b[38;5;28mself\u001b[39m\u001b[38;5;241m.\u001b[39mcommand_executor\u001b[38;5;241m.\u001b[39mexecute(driver_command, params)\n\u001b[0;32m    353\u001b[0m \u001b[38;5;28;01mif\u001b[39;00m response:\n\u001b[1;32m--> 354\u001b[0m     \u001b[38;5;28;43mself\u001b[39;49m\u001b[38;5;241;43m.\u001b[39;49m\u001b[43merror_handler\u001b[49m\u001b[38;5;241;43m.\u001b[39;49m\u001b[43mcheck_response\u001b[49m\u001b[43m(\u001b[49m\u001b[43mresponse\u001b[49m\u001b[43m)\u001b[49m\n\u001b[0;32m    355\u001b[0m     response[\u001b[38;5;124m\"\u001b[39m\u001b[38;5;124mvalue\u001b[39m\u001b[38;5;124m\"\u001b[39m] \u001b[38;5;241m=\u001b[39m \u001b[38;5;28mself\u001b[39m\u001b[38;5;241m.\u001b[39m_unwrap_value(response\u001b[38;5;241m.\u001b[39mget(\u001b[38;5;124m\"\u001b[39m\u001b[38;5;124mvalue\u001b[39m\u001b[38;5;124m\"\u001b[39m, \u001b[38;5;28;01mNone\u001b[39;00m))\n\u001b[0;32m    356\u001b[0m     \u001b[38;5;28;01mreturn\u001b[39;00m response\n",
      "File \u001b[1;32mc:\\Users\\gueid\\AppData\\Local\\Programs\\Python\\Python310\\lib\\site-packages\\selenium\\webdriver\\remote\\errorhandler.py:229\u001b[0m, in \u001b[0;36mErrorHandler.check_response\u001b[1;34m(self, response)\u001b[0m\n\u001b[0;32m    227\u001b[0m         alert_text \u001b[38;5;241m=\u001b[39m value[\u001b[38;5;124m\"\u001b[39m\u001b[38;5;124malert\u001b[39m\u001b[38;5;124m\"\u001b[39m]\u001b[38;5;241m.\u001b[39mget(\u001b[38;5;124m\"\u001b[39m\u001b[38;5;124mtext\u001b[39m\u001b[38;5;124m\"\u001b[39m)\n\u001b[0;32m    228\u001b[0m     \u001b[38;5;28;01mraise\u001b[39;00m exception_class(message, screen, stacktrace, alert_text)  \u001b[38;5;66;03m# type: ignore[call-arg]  # mypy is not smart enough here\u001b[39;00m\n\u001b[1;32m--> 229\u001b[0m \u001b[38;5;28;01mraise\u001b[39;00m exception_class(message, screen, stacktrace)\n",
      "\u001b[1;31mNoSuchElementException\u001b[0m: Message: no such element: Unable to locate element: {\"method\":\"xpath\",\"selector\":\".//h2[contains(@class, 'jobTitle')]/a\"}\n  (Session info: chrome=127.0.6533.73); For documentation on this error, please visit: https://www.selenium.dev/documentation/webdriver/troubleshooting/errors#no-such-element-exception\nStacktrace:\n\tGetHandleVerifier [0x00007FF752389632+30946]\n\t(No symbol) [0x00007FF75233E3C9]\n\t(No symbol) [0x00007FF752236FDA]\n\t(No symbol) [0x00007FF75228822C]\n\t(No symbol) [0x00007FF75228850C]\n\t(No symbol) [0x00007FF75227BCDC]\n\t(No symbol) [0x00007FF7522ACAAF]\n\t(No symbol) [0x00007FF75227BBB6]\n\t(No symbol) [0x00007FF7522ACC80]\n\t(No symbol) [0x00007FF7522CB041]\n\t(No symbol) [0x00007FF7522AC813]\n\t(No symbol) [0x00007FF75227A6E5]\n\t(No symbol) [0x00007FF75227B021]\n\tGetHandleVerifier [0x00007FF7524BF83D+1301229]\n\tGetHandleVerifier [0x00007FF7524CBDB7+1351783]\n\tGetHandleVerifier [0x00007FF7524C2A03+1313971]\n\tGetHandleVerifier [0x00007FF7523BDD06+245686]\n\t(No symbol) [0x00007FF75234758F]\n\t(No symbol) [0x00007FF752343804]\n\t(No symbol) [0x00007FF752343992]\n\t(No symbol) [0x00007FF75233A3EF]\n\tBaseThreadInitThunk [0x00007FFC80AF257D+29]\n\tRtlUserThreadStart [0x00007FFC8126AF28+40]\n"
     ]
    }
   ],
   "source": [
    "try:\n",
    "    pagination_next_element=driver.find_element(By.XPATH, \"//nav/ul/li[@data-testid='pagination-page-next']/a\")\n",
    "except Exception as e:\n",
    "    pagination_next_element=None\n",
    "\n",
    "print(pagination_next_element)\n",
    "if not pagination_next_element:\n",
    "    indeedPositionInfos()\n",
    "if pagination_next_element:\n",
    "    while pagination_next_element:\n",
    "        indeedPositionInfos()\n",
    "        try:\n",
    "            pagination_next_element=driver.find_element(By.XPATH, \"//nav/ul/li[@data-testid='pagination-page-next']/a\")\n",
    "        except Exception as e:\n",
    "            pagination_next_element=None\n"
   ]
  }
 ],
 "metadata": {
  "kernelspec": {
   "display_name": "Python 3",
   "language": "python",
   "name": "python3"
  },
  "language_info": {
   "codemirror_mode": {
    "name": "ipython",
    "version": 3
   },
   "file_extension": ".py",
   "mimetype": "text/x-python",
   "name": "python",
   "nbconvert_exporter": "python",
   "pygments_lexer": "ipython3",
   "version": "3.10.11"
  }
 },
 "nbformat": 4,
 "nbformat_minor": 2
}
